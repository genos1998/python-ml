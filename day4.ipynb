{
 "cells": [
  {
   "cell_type": "markdown",
   "metadata": {},
   "source": [
    "#  Chess Position"
   ]
  },
  {
   "cell_type": "code",
   "execution_count": 1,
   "metadata": {},
   "outputs": [
    {
     "name": "stdout",
     "output_type": "stream",
     "text": [
      "enter the alphabet and position: a1\n",
      "black\n"
     ]
    }
   ],
   "source": [
    "pos=input(\"enter the alphabet and position: \")\n",
    "alph=pos[0]\n",
    "num=pos[1]\n",
    "if len(pos)<3:\n",
    "    if alph=='a' or alph=='c' or alph=='e' or alph=='g':\n",
    "        if num=='2' or num=='4' or num=='6' or num=='8':\n",
    "            print('white')\n",
    "        elif num=='1' or num=='3' or num=='5' or num=='7':\n",
    "            print('black')\n",
    "        else:\n",
    "            print('invalid')\n",
    "    elif alph=='b' or alph=='d' or alph=='f' or alph=='h':\n",
    "        if num=='2' or num=='4' or num=='6' or num=='8':\n",
    "            print('black')\n",
    "        elif num=='1' or num=='3' or num=='5' or num=='7':\n",
    "            print('white')\n",
    "        else:\n",
    "            print('invalid')\n",
    "    else:\n",
    "        print('invalid')\n",
    "else:\n",
    "    print('invalid position')"
   ]
  },
  {
   "cell_type": "markdown",
   "metadata": {},
   "source": [
    "# Palindrome"
   ]
  },
  {
   "cell_type": "code",
   "execution_count": 5,
   "metadata": {},
   "outputs": [
    {
     "name": "stdout",
     "output_type": "stream",
     "text": [
      "enter the alphabet: 112211\n",
      "palindrome\n"
     ]
    }
   ],
   "source": [
    "x=input(\"enter the alphabet: \")\n",
    "a=x[::-1]\n",
    "if a==x:\n",
    "    print('palindrome')\n",
    "else:\n",
    "    print('not a palindrome')"
   ]
  },
  {
   "cell_type": "markdown",
   "metadata": {},
   "source": [
    "# dictionary"
   ]
  },
  {
   "cell_type": "code",
   "execution_count": 7,
   "metadata": {},
   "outputs": [
    {
     "name": "stdout",
     "output_type": "stream",
     "text": [
      "enter the number: 3\n",
      "dict_values([1, 8, 27])\n"
     ]
    }
   ],
   "source": [
    "dict1={}\n",
    "i=int(input('enter the number: '))\n",
    "for x in range(1,i+1):\n",
    "    dict1[x]=x*x*x\n",
    "print(dict1.values())"
   ]
  },
  {
   "cell_type": "markdown",
   "metadata": {},
   "source": [
    "# phonebook number check"
   ]
  },
  {
   "cell_type": "code",
   "execution_count": null,
   "metadata": {},
   "outputs": [],
   "source": [
    "x=input(\"enter the number to be added: \")\n",
    "while x.isdigit()==False:\n",
    "    x=input(\"re-enter the valid number in digits to be added: \")\n",
    "x=int(x)\n",
    "dict1={}\n",
    "for i in range(0,x):\n",
    "    n=input('enter the name: ')\n",
    "    nj=input('enter the number: ')\n",
    "    while len(nj)!=10 or nj.isdigit()==False:\n",
    "        print('invalid number')\n",
    "        nj=input('re-enter the valid 10 digit number: ')\n",
    "    nu=int(nj)\n",
    "    dict1[nu]=n\n",
    "ip=input('do you want to search number: ')\n",
    "while ip=='yes':\n",
    "    e=int(input('enter the number to search: '))\n",
    "    f=list(dict1)\n",
    "    if e in f:\n",
    "        print(dict1[e])\n",
    "    ip=input('do you want to search more number: ')\n"
   ]
  },
  {
   "cell_type": "markdown",
   "metadata": {},
   "source": [
    "## Guess the number game"
   ]
  },
  {
   "cell_type": "code",
   "execution_count": 1,
   "metadata": {},
   "outputs": [
    {
     "name": "stdout",
     "output_type": "stream",
     "text": [
      "Enter your guess: 4\n",
      "you are very close\n",
      "Enter your guess: 6\n",
      "you are very close\n",
      "Enter your guess: 5\n",
      "you are very close\n",
      "Game Over you lost\n",
      "The answer was:  7\n",
      "Wanna play more: yes\n",
      "Enter your guess: 5\n",
      "you are quite far\n",
      "Enter your guess: 8\n",
      "you are very close\n",
      "Enter your guess: 10\n",
      "you are very close\n",
      "Game Over you lost\n",
      "The answer was:  9\n",
      "Wanna play more: yes\n",
      "Enter your guess: 5\n",
      "you are very close\n",
      "Enter your guess: 2\n",
      "you are quite far\n",
      "Enter your guess: 6\n",
      "you win\n",
      "Wanna play more: no\n"
     ]
    }
   ],
   "source": [
    "import random\n",
    "str1='yes'\n",
    "f=''\n",
    "while str1=='yes':\n",
    "    b=random.randrange(0,10,1)\n",
    "    f=''\n",
    "    for x in range(0,3): \n",
    "        if f!='you win':\n",
    "            c=input('Enter your guess: ')\n",
    "            while c.isdigit()==False:\n",
    "                   c=input('Enter your integer number guess: ')\n",
    "            c=int(c)\n",
    "            if b==c:\n",
    "                f=('you win')\n",
    "                break\n",
    "            else:\n",
    "                if b>c:\n",
    "                    if c+4>b:\n",
    "                        print('you are very close')\n",
    "                    else:\n",
    "                        print('you are quite far')\n",
    "                else:\n",
    "                    if c-4<b:\n",
    "                        print('you are very close')\n",
    "                    else:\n",
    "                        print('you are quite far')\n",
    "        else:\n",
    "            break\n",
    "    if f!='you win':\n",
    "        print('Game Over you lost')\n",
    "        print('The answer was: ',b)\n",
    "    else:\n",
    "        print(f)\n",
    "    str1=input('Wanna play more: ')    "
   ]
  },
  {
   "cell_type": "code",
   "execution_count": null,
   "metadata": {},
   "outputs": [],
   "source": []
  }
 ],
 "metadata": {
  "kernelspec": {
   "display_name": "Python 3",
   "language": "python",
   "name": "python3"
  },
  "language_info": {
   "codemirror_mode": {
    "name": "ipython",
    "version": 3
   },
   "file_extension": ".py",
   "mimetype": "text/x-python",
   "name": "python",
   "nbconvert_exporter": "python",
   "pygments_lexer": "ipython3",
   "version": "3.7.6"
  }
 },
 "nbformat": 4,
 "nbformat_minor": 2
}
