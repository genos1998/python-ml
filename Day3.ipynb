{
 "cells": [
  {
   "cell_type": "markdown",
   "metadata": {},
   "source": [
    "# Basics of Python"
   ]
  },
  {
   "cell_type": "markdown",
   "metadata": {},
   "source": [
    "# Dictionary#"
   ]
  },
  {
   "cell_type": "markdown",
   "metadata": {},
   "source": [
    "- creating and accessing dictionary"
   ]
  },
  {
   "cell_type": "code",
   "execution_count": 1,
   "metadata": {},
   "outputs": [
    {
     "name": "stdout",
     "output_type": "stream",
     "text": [
      "{'jan': 31, 'feb': 28, 'march': 31, 'april': 30}\n",
      "<class 'dict'>\n"
     ]
    }
   ],
   "source": [
    "dict1={\"jan\":31,\"feb\":28,\"march\":31,\"april\":30} #dictionary is mutuable (can be modified)\n",
    "#dict conatins keyword and its data\n",
    "#no duplicate keys allowed in dictionary\n",
    "#but the value can be duplicate\n",
    "#value can also be list also to store multiple values\n",
    "print(dict1)\n",
    "print(type(dict1))"
   ]
  },
  {
   "cell_type": "code",
   "execution_count": 2,
   "metadata": {},
   "outputs": [
    {
     "name": "stdout",
     "output_type": "stream",
     "text": [
      "31\n",
      "28\n",
      "{'jan': 31, 'feb': 29, 'march': 31, 'april': 30, 'may': 31}\n"
     ]
    }
   ],
   "source": [
    "print(dict1['jan']) #accesing the value of specific key\n",
    "print(dict1['feb'])\n",
    "dict1[\"may\"]=31 # add key may with value 31 into the dictionary\n",
    "dict1['feb']=29 #as feb key is already present it will modify the existing data\n",
    "print(dict1)"
   ]
  },
  {
   "cell_type": "code",
   "execution_count": 5,
   "metadata": {},
   "outputs": [
    {
     "name": "stdout",
     "output_type": "stream",
     "text": [
      "{1: 5, 2: 6, 3: 7, 4: 8}\n",
      "5\n",
      "1 2 3 4\n"
     ]
    }
   ],
   "source": [
    "list1=[1,2,3,4]\n",
    "list2=[5,6,7,8]\n",
    "dict7={}\n",
    "for i in range(len(list1)):\n",
    "    dict7[list1[i]]=list2[i]\n",
    "print(dict7)\n",
    "print(min(list(dict7.values())))\n",
    "print(*list1)"
   ]
  },
  {
   "cell_type": "markdown",
   "metadata": {},
   "source": [
    "- deleting dict1 key"
   ]
  },
  {
   "cell_type": "code",
   "execution_count": 4,
   "metadata": {},
   "outputs": [
    {
     "name": "stdout",
     "output_type": "stream",
     "text": [
      "{'jan': 31, 'feb': 29, 'march': 31, 'april': 30, 'may': 31}\n",
      "{'jan': 31, 'march': 31, 'april': 30, 'may': 31}\n"
     ]
    }
   ],
   "source": [
    "print(dict1)\n",
    "del dict1['feb'] #delete key and its value\n",
    "print(dict1)"
   ]
  },
  {
   "cell_type": "markdown",
   "metadata": {},
   "source": [
    "- uniqueness of key"
   ]
  },
  {
   "cell_type": "code",
   "execution_count": 5,
   "metadata": {},
   "outputs": [
    {
     "name": "stdout",
     "output_type": "stream",
     "text": [
      "{'jan': 31, 'march': 31, 'april': 30, 'may': 31, 'feb': [28, 29]}\n"
     ]
    }
   ],
   "source": [
    "dict1['feb']=[28,29] #this is adding multiple value to a single key\n",
    "print(dict1)"
   ]
  },
  {
   "cell_type": "code",
   "execution_count": 6,
   "metadata": {},
   "outputs": [
    {
     "name": "stdout",
     "output_type": "stream",
     "text": [
      "31\n",
      "31\n",
      "None\n",
      "45\n"
     ]
    }
   ],
   "source": [
    "#dict can only contain keywords having either numbers or string not a list whereas value can have anything\n",
    "print(dict1.get('jan',None)) \n",
    "#this get func will print the value of key jan if key jan is present else it will print whatever instructed\n",
    "#syntax of get func Dict.get(key, default=None)\n",
    "print(dict1.get('jan',45))\n",
    "print(dict1.get('june',None))\n",
    "print(dict1.get('june',45))"
   ]
  },
  {
   "cell_type": "code",
   "execution_count": 7,
   "metadata": {},
   "outputs": [
    {
     "name": "stdout",
     "output_type": "stream",
     "text": [
      "dict_items([('jan', 31), ('march', 31), ('april', 30), ('may', 31), ('feb', [28, 29])])\n",
      "<class 'dict_items'>\n",
      "[('jan', 31), ('march', 31), ('april', 30), ('may', 31), ('feb', [28, 29])]\n",
      "<class 'list'>\n"
     ]
    }
   ],
   "source": [
    "print(dict1.items()) #this will print key and its value\n",
    "print(type(dict1.items()))\n",
    "print(list(dict1.items()))\n",
    "print(type(list(dict1.items())))"
   ]
  },
  {
   "cell_type": "code",
   "execution_count": 24,
   "metadata": {},
   "outputs": [
    {
     "name": "stdout",
     "output_type": "stream",
     "text": [
      "dict_keys(['jan', 'march', 'april', 'may', 'feb'])\n",
      "['jan', 'march', 'april', 'may', 'feb']\n",
      "dict_values([31, 31, 30, 31, [28, 29]])\n",
      "[31, 31, 30, 31, [28, 29]]\n",
      "jan\n",
      "31\n",
      "march\n"
     ]
    }
   ],
   "source": [
    "print(dict1.keys())\n",
    "print(list(dict1.keys()))\n",
    "print(dict1.values())\n",
    "print(list(dict1.values()))\n",
    "print(list(dict1)[0]) #as list is iterable indexing is possible\n",
    "print(list(dict1.values())[0])\n",
    "print(list(dict1.keys())[1])"
   ]
  },
  {
   "cell_type": "markdown",
   "metadata": {},
   "source": [
    "## Tupple"
   ]
  },
  {
   "cell_type": "code",
   "execution_count": 9,
   "metadata": {},
   "outputs": [
    {
     "name": "stdout",
     "output_type": "stream",
     "text": [
      "(34, 5.78, 'a', 'junaid', 'bye', 'gavar')\n",
      "<class 'tuple'>\n",
      "34\n",
      "5.78\n",
      "(34, 5.78)\n",
      "(5.78, 'a', 'junaid', 'bye', 'gavar')\n",
      "(5.78,)\n",
      "('junaid', 'bye', 'gavar')\n",
      "(5.78, 'junaid', 'gavar')\n"
     ]
    }
   ],
   "source": [
    "tuple1=(34,5.78,'a','junaid','bye','gavar') #tupple is immutable\n",
    "print(tuple1)\n",
    "print(type(tuple1))\n",
    "print(tuple1[0])\n",
    "print(tuple1[1])\n",
    "print(tuple1[:2])\n",
    "print(tuple1[1:])\n",
    "print(tuple1[1:2])\n",
    "print(tuple1[3::])\n",
    "print(tuple1[1::2])"
   ]
  },
  {
   "cell_type": "markdown",
   "metadata": {},
   "source": [
    "## Loops"
   ]
  },
  {
   "cell_type": "markdown",
   "metadata": {},
   "source": [
    "- range"
   ]
  },
  {
   "cell_type": "code",
   "execution_count": 10,
   "metadata": {},
   "outputs": [
    {
     "name": "stdout",
     "output_type": "stream",
     "text": [
      "range(0, 10)\n",
      "<class 'range'>\n",
      "[0, 1, 2, 3, 4, 5, 6, 7, 8, 9]\n",
      "range(0, 10, 2)\n",
      "[0, 2, 4, 6, 8]\n",
      "[0, 3, 6, 9]\n"
     ]
    }
   ],
   "source": [
    "print(range(10))\n",
    "print(type(range(10)))\n",
    "print(list(range(10)))\n",
    "print(range(0,10,2)) \n",
    "#range syntax is: range(start, stop, step)\n",
    "print(list(range(0,10,2)))\n",
    "print(list(range(0,10,3)))\n"
   ]
  },
  {
   "cell_type": "markdown",
   "metadata": {},
   "source": [
    "- for loop"
   ]
  },
  {
   "cell_type": "code",
   "execution_count": 28,
   "metadata": {},
   "outputs": [
    {
     "name": "stdout",
     "output_type": "stream",
     "text": [
      "1 1@i am blue dabe dabae dade dabae dadae dabe dedae dabae dedae \n",
      "4 3@i am blue dabe dabae dade dabae dadae dabe dedae dabae dedae \n",
      "9 5@i am blue dabe dabae dade dabae dadae dabe dedae dabae dedae \n",
      "16 7@i am blue dabe dabae dade dabae dadae dabe dedae dabae dedae \n",
      "25 9@i am blue dabe dabae dade dabae dadae dabe dedae dabae dedae \n",
      "1 JS \n",
      "4 JS \n",
      "9 JS \n",
      "16 JS \n",
      "25 JS \n",
      "shaikhjunaid1998@gmail.com\n",
      "shaikhjunaidsj07@gmail.com\n"
     ]
    }
   ],
   "source": [
    "z=0\n",
    "for x in list(range(1,10,2)):\n",
    "    z+=x\n",
    "    print(z,x,sep=' ',end='@') #sep and end is func of func \n",
    "    print(\"i am blue dabe dabae dade dabae dadae dabe dedae dabae dedae \")\n",
    "z=0\n",
    "for x in list(range(1,10,2)):\n",
    "    z+=x\n",
    "    print(z,end=' JS ')\n",
    "    print()\n",
    "print('shaikh','junaid',1998,sep='',end='@') \n",
    "#after execution of end func python's pointer doesnt jumps to the next line \n",
    "print('gmail.com')\n",
    "print('shaikh','junaid','sj','07',sep='',end='@')\n",
    "print('gmail.com')"
   ]
  },
  {
   "cell_type": "code",
   "execution_count": 30,
   "metadata": {},
   "outputs": [
    {
     "name": "stdout",
     "output_type": "stream",
     "text": [
      "junaid\n",
      "jalil\n",
      "anjum\n",
      "maqbul\n",
      "sarabai\n",
      "aabeid\n",
      "shaikh\n",
      "['junaid', 'jalil', 'anjum', 'maqbul', 'sarabai', 'aabeid', 'shaikh']\n",
      "['junaid', 'jalil', 'anjum', 'aabeid', 'shaikh']\n"
     ]
    }
   ],
   "source": [
    "list1=['junaid','jalil','anjum','maqbul','sarabai','aabeid','shaikh']\n",
    "for x in list1:\n",
    "    print(x)\n",
    "print(list1)\n",
    "list1.remove('maqbul')\n",
    "list1.remove('sarabai')\n",
    "print(list1)"
   ]
  },
  {
   "cell_type": "code",
   "execution_count": 13,
   "metadata": {},
   "outputs": [
    {
     "name": "stdout",
     "output_type": "stream",
     "text": [
      "bye\n",
      "2\n",
      "bye\n",
      "bye\n",
      "4\n",
      "bye\n",
      "bye\n",
      "6\n",
      "bye\n",
      "bye\n",
      "8\n",
      "bye\n",
      "bye\n"
     ]
    }
   ],
   "source": [
    "for item in range(1,10):\n",
    "    if item%2==0:\n",
    "        print(item)\n",
    "    print('bye')"
   ]
  },
  {
   "cell_type": "markdown",
   "metadata": {},
   "source": [
    "- while loop"
   ]
  },
  {
   "cell_type": "code",
   "execution_count": 14,
   "metadata": {},
   "outputs": [
    {
     "name": "stdout",
     "output_type": "stream",
     "text": [
      "0\n",
      "1\n",
      "2\n",
      "3\n",
      "4\n"
     ]
    }
   ],
   "source": [
    "num=0\n",
    "while num<5:\n",
    "    print(num)\n",
    "    num+=1"
   ]
  },
  {
   "cell_type": "code",
   "execution_count": 15,
   "metadata": {},
   "outputs": [
    {
     "name": "stdout",
     "output_type": "stream",
     "text": [
      "[1, 2, 3, 4]\n",
      "[1, 2, 3]\n",
      "[1, 2]\n",
      "[1]\n",
      "[]\n"
     ]
    }
   ],
   "source": [
    "list1=[1,2,3,4,5]\n",
    "while len(list1)>0:\n",
    "    del list1[-1]\n",
    "    print(list1)"
   ]
  },
  {
   "cell_type": "markdown",
   "metadata": {},
   "source": [
    "## String Functions"
   ]
  },
  {
   "cell_type": "code",
   "execution_count": 16,
   "metadata": {},
   "outputs": [
    {
     "name": "stdout",
     "output_type": "stream",
     "text": [
      "True\n",
      "False\n",
      "True\n",
      "True\n",
      "False\n",
      "True\n",
      "pakka\n"
     ]
    }
   ],
   "source": [
    "str1='apple mango cat batman'\n",
    "\n",
    "print(str1.startswith('apple')) #check func but case sensitive\n",
    "print(str1.startswith('Apple'))\n",
    "\n",
    "print(str1.endswith('batman'))\n",
    "print(str1.endswith(' batman'))\n",
    "print(str1.endswith('batman '))\n",
    "print(str1.endswith('n'))\n",
    "\n",
    "if str1.startswith('A'):\n",
    "    print('bakka')\n",
    "else:\n",
    "    print('pakka')"
   ]
  },
  {
   "cell_type": "code",
   "execution_count": 17,
   "metadata": {},
   "outputs": [
    {
     "name": "stdout",
     "output_type": "stream",
     "text": [
      "apple mango cat batman\n",
      "True\n",
      "True\n",
      "False\n",
      "False\n"
     ]
    }
   ],
   "source": [
    "print(str1)\n",
    "print(str1.startswith('mango',6)) #checks if mango is present from 6th elemnt of the string\n",
    "print(str1.startswith('man',6,9)) #checks if mango is present from 6th till 9 elemnt of the string\n",
    "print(str1.endswith('batman',15,21))\n",
    "print(str1.endswith('tman',-5,-1))"
   ]
  },
  {
   "cell_type": "code",
   "execution_count": 18,
   "metadata": {},
   "outputs": [
    {
     "name": "stdout",
     "output_type": "stream",
     "text": [
      "Oh God Help\n",
      "000000Oh God Help00000000\n",
      "Oh God Help\n",
      "Oh God Help00000000\n",
      "000000Oh God Help\n"
     ]
    }
   ],
   "source": [
    "str2='000000Oh God Help00000000'\n",
    "print(str2.strip('0')) #this will strip only repetitve value\n",
    "print(str2.strip(' ')) #here ' ' is not repeating more than once hence not trimmed\n",
    "\n",
    "str2='     Oh God Help    '\n",
    "print(str2.strip())\n",
    "str2='000000Oh God Help00000000'\n",
    "print(str2.lstrip('0'))\n",
    "print(str2.rstrip('0'))"
   ]
  },
  {
   "cell_type": "code",
   "execution_count": 19,
   "metadata": {},
   "outputs": [
    {
     "name": "stdout",
     "output_type": "stream",
     "text": [
      "True\n",
      "False\n",
      "False\n",
      "False\n",
      "True\n",
      "False\n",
      "str1 is upper case\n",
      "it is mixed\n",
      "str2 is lower case\n",
      "it is mixed\n"
     ]
    }
   ],
   "source": [
    "str1='MELLOW'\n",
    "str2='mellow'\n",
    "str3='MelloW'\n",
    "print(str1.isupper()) #checks if whole str is upper or not\n",
    "print(str2.isupper())\n",
    "print(str3.isupper())\n",
    "print(str1.islower())\n",
    "print(str2.islower())\n",
    "print(str3.islower())\n",
    "print('str1 is upper case') if str1.isupper() else print('it is not an upper case')\n",
    "print('str3 is upper case') if str3.isupper() else print('it is a lower case') if str3.islower() else print('it is mixed')\n",
    "print('str2 is lower case') if str2.islower() else print('it is not a lower case')\n",
    "print('str3 is lower case') if str3.islower() else print('it is a upper case') if str3.isupper() else print('it is mixed')"
   ]
  },
  {
   "cell_type": "code",
   "execution_count": 20,
   "metadata": {},
   "outputs": [
    {
     "name": "stdout",
     "output_type": "stream",
     "text": [
      "i love python honey\n",
      "i love python baby\n",
      "i like python baby,i love python honey,i love python darling\n"
     ]
    }
   ],
   "source": [
    "stringy='i love python baby'\n",
    "cringy=stringy.replace('baby','honey')\n",
    "print(cringy)\n",
    "cringy1=stringy.replace('darling','honey') \n",
    "#as darling is not present in the string it wont throw an error else it will just ignore it\n",
    "print(cringy1)\n",
    "stry='i love python baby,i love python honey,i love python darling'\n",
    "cringy2=stry.replace('love','like',1) #this will replace only once\n",
    "print(cringy2)"
   ]
  },
  {
   "cell_type": "code",
   "execution_count": 32,
   "metadata": {},
   "outputs": [
    {
     "name": "stdout",
     "output_type": "stream",
     "text": [
      "12-01-1998\n",
      "12-01-1998\n",
      "junaid&tushar\n",
      "['cat', 'hog', 'dog']\n",
      "['cat', 'hog,dog']\n"
     ]
    }
   ],
   "source": [
    "fr='-'\n",
    "date=fr.join(('12','01','1998'))\n",
    "print(date)\n",
    "date=fr.join(['12','01','1998'])\n",
    "print(date)\n",
    "gt='&'\n",
    "list1=['junaid','tushar']\n",
    "names=gt.join(list1)\n",
    "print(names)\n",
    "hy='cat,hog,dog'\n",
    "ju=hy.split(',')\n",
    "print(ju)\n",
    "hy='cat,hog,dog'\n",
    "ju=hy.split(',',1)\n",
    "print(ju)"
   ]
  },
  {
   "cell_type": "code",
   "execution_count": null,
   "metadata": {},
   "outputs": [],
   "source": []
  }
 ],
 "metadata": {
  "kernelspec": {
   "display_name": "Python 3",
   "language": "python",
   "name": "python3"
  },
  "language_info": {
   "codemirror_mode": {
    "name": "ipython",
    "version": 3
   },
   "file_extension": ".py",
   "mimetype": "text/x-python",
   "name": "python",
   "nbconvert_exporter": "python",
   "pygments_lexer": "ipython3",
   "version": "3.7.6"
  }
 },
 "nbformat": 4,
 "nbformat_minor": 2
}
