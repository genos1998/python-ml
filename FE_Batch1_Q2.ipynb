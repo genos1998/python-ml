{
 "cells": [
  {
   "cell_type": "markdown",
   "metadata": {},
   "source": [
    "# Chemical Research Scientist"
   ]
  },
  {
   "cell_type": "markdown",
   "metadata": {},
   "source": [
    "The given file 'isotopes.xlsx' contains the details of a particular chemical's **critical point**, **pressure** and **isotope** corresponding to its **temperature** in degrees as per the existing research work of scientists.\n",
    "\n",
    "### Prediction Level 1 - High Temperature Analysis\n",
    "\n",
    "With the given data, use the **most suitable machine learning algorithm** and **predict the most appropriate value of pressure for temperature of 80, 90 and 100 degrees each.**\n",
    "\n",
    "| Temperature | Pressure | \n",
    "|-------------|----------| \n",
    "| 80          |  ?       | \n",
    "| 90          |  ?       | \n",
    "| 100         |  ?       |\n",
    "\n",
    "**Also predict the value of critical point at these temperatures.**\n",
    "\n",
    "| Temperature | Critical point | \n",
    "|-------------|----------------| \n",
    "| 80          |  ?             | \n",
    "| 90          |  ?             | \n",
    "| 100         |  ?             |\n",
    "\n",
    "**Important research details (for reference during prediction):**\n",
    "1. The chemical check is possible at temperature between 0 to 100 degrees only.\n",
    "2. The critical point is always positive.\n",
    "3. The critical point of the chemical should not be greater than 15.\n",
    "4. One scientist experimented at 100 degrees and the critical point was reported as 9.2. So, it gives a basis to the research that the predicted critical point will be around 8 to 12.\n",
    "\n",
    "**Steps to be followed:**\n",
    "1. Initially plot the required graphs for data visualisation and understanding purpose. Analyse and mention which machine learning methods will you use to predict the pressure and critical point with respect to temperature. And which columns are required for which predictions.\n",
    "2. Proceed with prediction of pressure first. Split your data into training and testing data set. It should be a 75:25 split with any random state of your choice.\n",
    "3. Use appropriate machine learning model to fit the training dataset.\n",
    "4. Test your model with testing dataset. Calculate R2 coefficient and Mean Square Error (MSE) to justify that your model is accurate.\n",
    "5. Predict the most appropriate value of pressure for temperature of 80, 90 and 100 degrees each.\n",
    "6. Plot the approriate graph representing the model and prediction.\n",
    "7. **Repeat step 2 to step 6** to predict the most appropriate value of critical point for temperature of 80, 90 and 100 degrees each. (Keep in consideration, the **Important research details** mentioned above.)\n",
    "\n",
    "### Prediction Level 2 - Isotope Analysis\n",
    "\n",
    "The chemical has 3 isotopes named, A,B and C (as mentioned in dataset).\n",
    "\n",
    "**The type of isotope is dependent on critical point and pressure only.**\n",
    "\n",
    "Perform classification of the following chemical based on isotopes and predict the isotope for following chemicals\n",
    "\n",
    "| Pressure | Critical point | Isotope | \n",
    "|----------|----------------|---------| \n",
    "| 7.2      |  3             |  ?      | \n",
    "| 8        |  2             |  ?      | \n",
    "| 6.4      |  4             |  ?      | \n",
    "\n",
    "**Steps to be followed:**\n",
    "1. Initially plot the required graph for data visualisation and understanding purpose. Analyse and mention which classification algorithm will you use to predict the isotope based on pressure and critical point.\n",
    "2. Use appropriate machine learning model to fit the entire dataset. *(Train test split not required.)*\n",
    "3. Test your model with all inputs. Print confusion matrix and the heatmap of the same. Also print the classification report.\n",
    "4. Predict the isotope for above mentioned 3 different inputs.\n",
    "5. Plot the contour plot to validate your classification. **(BONUS: 2 marks)**\n",
    "\n",
    "**Important instructions**\n",
    "\n",
    "All the graphs should contain proper title, labels, legend, grid, colour map, etc. whichever is applicable for better interpretation."
   ]
  },
  {
   "cell_type": "code",
   "execution_count": 1,
   "metadata": {},
   "outputs": [
    {
     "data": {
      "text/html": [
       "<div>\n",
       "<style scoped>\n",
       "    .dataframe tbody tr th:only-of-type {\n",
       "        vertical-align: middle;\n",
       "    }\n",
       "\n",
       "    .dataframe tbody tr th {\n",
       "        vertical-align: top;\n",
       "    }\n",
       "\n",
       "    .dataframe thead th {\n",
       "        text-align: right;\n",
       "    }\n",
       "</style>\n",
       "<table border=\"1\" class=\"dataframe\">\n",
       "  <thead>\n",
       "    <tr style=\"text-align: right;\">\n",
       "      <th></th>\n",
       "      <th>temp</th>\n",
       "      <th>critical_point</th>\n",
       "      <th>pressure</th>\n",
       "      <th>isotope</th>\n",
       "    </tr>\n",
       "  </thead>\n",
       "  <tbody>\n",
       "    <tr>\n",
       "      <th>0</th>\n",
       "      <td>0</td>\n",
       "      <td>2.00</td>\n",
       "      <td>8.50</td>\n",
       "      <td>A</td>\n",
       "    </tr>\n",
       "    <tr>\n",
       "      <th>1</th>\n",
       "      <td>2</td>\n",
       "      <td>2.01</td>\n",
       "      <td>8.42</td>\n",
       "      <td>A</td>\n",
       "    </tr>\n",
       "    <tr>\n",
       "      <th>2</th>\n",
       "      <td>3</td>\n",
       "      <td>2.03</td>\n",
       "      <td>8.35</td>\n",
       "      <td>A</td>\n",
       "    </tr>\n",
       "    <tr>\n",
       "      <th>3</th>\n",
       "      <td>5</td>\n",
       "      <td>2.08</td>\n",
       "      <td>8.27</td>\n",
       "      <td>A</td>\n",
       "    </tr>\n",
       "    <tr>\n",
       "      <th>4</th>\n",
       "      <td>6</td>\n",
       "      <td>2.10</td>\n",
       "      <td>8.20</td>\n",
       "      <td>A</td>\n",
       "    </tr>\n",
       "  </tbody>\n",
       "</table>\n",
       "</div>"
      ],
      "text/plain": [
       "   temp  critical_point  pressure isotope\n",
       "0     0            2.00      8.50       A\n",
       "1     2            2.01      8.42       A\n",
       "2     3            2.03      8.35       A\n",
       "3     5            2.08      8.27       A\n",
       "4     6            2.10      8.20       A"
      ]
     },
     "execution_count": 1,
     "metadata": {},
     "output_type": "execute_result"
    }
   ],
   "source": [
    "import pandas as pd\n",
    "\n",
    "df = pd.read_excel('isotopes.xlsx')\n",
    "df.head()"
   ]
  },
  {
   "cell_type": "markdown",
   "metadata": {},
   "source": [
    "## Initially plot the required graphs for data visualisation and understanding purpose. Analyse and mention which machine learning methods will you use to predict the pressure and critical point with respect to temperature. And which columns are required for which predictions."
   ]
  },
  {
   "cell_type": "code",
   "execution_count": 11,
   "metadata": {},
   "outputs": [
    {
     "name": "stdout",
     "output_type": "stream",
     "text": [
      "for predict pressure use linear regression\n",
      "for predict critical point use polynomial regression\n",
      "use supervised learning\n"
     ]
    },
    {
     "data": {
      "image/png": "[encoded data removed]",
      "text/plain": [
       "<Figure size 432x288 with 1 Axes>"
      ]
     },
     "metadata": {
      "needs_background": "light"
     },
     "output_type": "display_data"
    }
   ],
   "source": [
    "import matplotlib.pyplot as plt\n",
    "import numpy as np\n",
    "plt.scatter(df['temp'],df['critical_point'])\n",
    "plt.scatter(df['temp'],df['pressure'],color='k')\n",
    "print('for predict pressure use linear regression')\n",
    "print('for predict critical point use polynomial regression')\n",
    "print('use supervised learning')\n",
    "print('for pred any value use temp as input')"
   ]
  },
  {
   "cell_type": "markdown",
   "metadata": {},
   "source": [
    "## Proceed with prediction of pressure first. Split your data into training and testing data set. It should be a 75:25 split with any random state of your choice."
   ]
  },
  {
   "cell_type": "code",
   "execution_count": 14,
   "metadata": {},
   "outputs": [
    {
     "data": {
      "text/plain": [
       "<matplotlib.axes._subplots.AxesSubplot at 0x175fc481ac8>"
      ]
     },
     "execution_count": 14,
     "metadata": {},
     "output_type": "execute_result"
    },
    {
     "data": {
      "image/png": "[encoded data removed]",
      "text/plain": [
       "<Figure size 432x288 with 1 Axes>"
      ]
     },
     "metadata": {
      "needs_background": "light"
     },
     "output_type": "display_data"
    }
   ],
   "source": [
    "from sklearn.model_selection import train_test_split\n",
    "ip_train,ip_test,op_train,op_test=train_test_split(df['temp'],df['pressure'],test_size=0.25,random_state=2)\n",
    "x1=ip_train.values.reshape(-1,1)\n",
    "y1=ip_test.values.reshape(-1,1)\n",
    "x2=op_train.values.reshape(-1,1)\n",
    "y2=op_test.values.reshape(-1,1)\n",
    "op_train.value_counts().sort_index().plot(kind='bar')"
   ]
  },
  {
   "cell_type": "markdown",
   "metadata": {},
   "source": [
    "## Use appropriate machine learning model to fit the training dataset."
   ]
  },
  {
   "cell_type": "code",
   "execution_count": 15,
   "metadata": {},
   "outputs": [
    {
     "data": {
      "text/plain": [
       "LinearRegression(copy_X=True, fit_intercept=True, n_jobs=None, normalize=False)"
      ]
     },
     "execution_count": 15,
     "metadata": {},
     "output_type": "execute_result"
    }
   ],
   "source": [
    "from sklearn.linear_model import LinearRegression\n",
    "model=LinearRegression()\n",
    "model.fit(x1,x2)"
   ]
  },
  {
   "cell_type": "markdown",
   "metadata": {},
   "source": [
    "## Test your model with testing dataset. Calculate R2 coefficient and Mean Square Error (MSE) to justify that your model is accurate"
   ]
  },
  {
   "cell_type": "code",
   "execution_count": 20,
   "metadata": {},
   "outputs": [
    {
     "name": "stdout",
     "output_type": "stream",
     "text": [
      "R^2 Score is  0.9969275038996397\n",
      "MSE is  0.0026584495130246694\n"
     ]
    }
   ],
   "source": [
    "print(\"R^2 Score is \",model.score(ip_test.values.reshape(-1,1),op_test.values.reshape(-1,1)))#R^2 coefficient\n",
    "from sklearn.metrics import mean_squared_error\n",
    "mse=mean_squared_error(op_test.values.reshape(-1,1),model.predict(ip_test.values.reshape(-1,1)), multioutput='uniform_average')\n",
    "print(\"MSE is \",mse)"
   ]
  },
  {
   "cell_type": "markdown",
   "metadata": {},
   "source": [
    "## Predict the most appropriate value of pressure for temperature of 80, 90 and 100 degrees each."
   ]
  },
  {
   "cell_type": "code",
   "execution_count": 25,
   "metadata": {},
   "outputs": [
    {
     "name": "stdout",
     "output_type": "stream",
     "text": [
      "[[5.34072291]]\n",
      "[[4.95301075]]\n",
      "[[4.5652986]]\n"
     ]
    }
   ],
   "source": [
    "print(model.predict([[80]]))\n",
    "print(model.predict([[90]]))\n",
    "print(model.predict([[100]]))"
   ]
  },
  {
   "cell_type": "markdown",
   "metadata": {},
   "source": [
    "## Plot the approriate graph representing the model and prediction."
   ]
  },
  {
   "cell_type": "code",
   "execution_count": 26,
   "metadata": {},
   "outputs": [
    {
     "data": {
      "text/plain": [
       "<matplotlib.legend.Legend at 0x175fc758f28>"
      ]
     },
     "execution_count": 26,
     "metadata": {},
     "output_type": "execute_result"
    },
    {
     "data": {
      "image/png": "[encoded data removed]",
      "text/plain": [
       "<Figure size 1080x720 with 1 Axes>"
      ]
     },
     "metadata": {
      "needs_background": "light"
     },
     "output_type": "display_data"
    }
   ],
   "source": [
    "plt.figure(figsize=[15,10])\n",
    "plt.scatter(x1,x2,color='r',label=\"Train Dataset\")\n",
    "plt.title(\"temp vs pressure\")\n",
    "plt.xlabel(\"temp\")\n",
    "plt.ylabel(\"pressure\")\n",
    "plt.grid(True)\n",
    "plt.plot([0,100],model.predict([[0],[100]]),color='g',label=\"Regression line\")\n",
    "plt.legend()"
   ]
  },
  {
   "cell_type": "markdown",
   "metadata": {},
   "source": [
    "## Critical pt"
   ]
  },
  {
   "cell_type": "code",
   "execution_count": 86,
   "metadata": {},
   "outputs": [],
   "source": [
    "ip_train,ip_test,op_train,op_test=train_test_split(df['temp'],df['critical_point'],test_size=0.25,random_state=True)\n",
    "x1=ip_train.values.reshape(-1,1)\n",
    "y1=ip_test.values.reshape(-1,1)\n",
    "x2=op_train.values.reshape(-1,1)\n",
    "y2=op_test.values.reshape(-1,1)"
   ]
  },
  {
   "cell_type": "code",
   "execution_count": 87,
   "metadata": {},
   "outputs": [],
   "source": [
    "from sklearn.preprocessing import PolynomialFeatures\n",
    "poly= PolynomialFeatures(degree=2)\n",
    "quadraticcoeff= poly.fit_transform(x1)"
   ]
  },
  {
   "cell_type": "code",
   "execution_count": 88,
   "metadata": {},
   "outputs": [
    {
     "data": {
      "text/plain": [
       "LinearRegression(copy_X=True, fit_intercept=True, n_jobs=None, normalize=False)"
      ]
     },
     "execution_count": 88,
     "metadata": {},
     "output_type": "execute_result"
    }
   ],
   "source": [
    "model.fit(quadraticcoeff,x2)"
   ]
  },
  {
   "cell_type": "code",
   "execution_count": 80,
   "metadata": {},
   "outputs": [],
   "source": [
    "quadraticcoeff= poly.fit_transform(y1)"
   ]
  },
  {
   "cell_type": "code",
   "execution_count": 81,
   "metadata": {},
   "outputs": [
    {
     "name": "stdout",
     "output_type": "stream",
     "text": [
      "score is  0.859847070742577\n",
      "MSE is  0.05404265320428723\n"
     ]
    }
   ],
   "source": [
    "print('score is ',model.score(quadraticcoeff,y2))\n",
    "mse=mean_squared_error(y2,model.predict(quadraticcoeff),multioutput='uniform_average')\n",
    "#multioutput defines weighs used to average errors\n",
    "print('MSE is ',mse)"
   ]
  },
  {
   "cell_type": "code",
   "execution_count": 82,
   "metadata": {},
   "outputs": [],
   "source": [
    "quadraticcoeff= poly.fit_transform([[80]])"
   ]
  },
  {
   "cell_type": "code",
   "execution_count": 83,
   "metadata": {},
   "outputs": [
    {
     "name": "stdout",
     "output_type": "stream",
     "text": [
      "[[3.09043378]]\n"
     ]
    }
   ],
   "source": [
    "print(model.predict(quadraticcoeff))"
   ]
  },
  {
   "cell_type": "code",
   "execution_count": 84,
   "metadata": {},
   "outputs": [
    {
     "name": "stdout",
     "output_type": "stream",
     "text": [
      "[[2.58972718]]\n"
     ]
    }
   ],
   "source": [
    "quadraticcoeff= poly.fit_transform([[90]])\n",
    "print(model.predict(quadraticcoeff))"
   ]
  },
  {
   "cell_type": "code",
   "execution_count": 85,
   "metadata": {},
   "outputs": [
    {
     "name": "stdout",
     "output_type": "stream",
     "text": [
      "[[1.93207181]]\n"
     ]
    }
   ],
   "source": [
    "quadraticcoeff= poly.fit_transform([[100]])\n",
    "print(model.predict(quadraticcoeff))"
   ]
  },
  {
   "cell_type": "code",
   "execution_count": 91,
   "metadata": {},
   "outputs": [
    {
     "data": {
      "text/plain": [
       "<matplotlib.collections.PathCollection at 0x175fe9a61d0>"
      ]
     },
     "execution_count": 91,
     "metadata": {},
     "output_type": "execute_result"
    },
    {
     "data": {
      "image/png": "[encoded data removed]",
      "text/plain": [
       "<Figure size 432x288 with 1 Axes>"
      ]
     },
     "metadata": {
      "needs_background": "light"
     },
     "output_type": "display_data"
    }
   ],
   "source": [
    "plt.grid()\n",
    "plt.scatter(x1,model.predict(quadraticcoeff),color='k')\n",
    "plt.scatter(x1,x2,color='r')"
   ]
  },
  {
   "cell_type": "code",
   "execution_count": 94,
   "metadata": {},
   "outputs": [
    {
     "data": {
      "text/plain": [
       "[<matplotlib.lines.Line2D at 0x175fea6e550>]"
      ]
     },
     "execution_count": 94,
     "metadata": {},
     "output_type": "execute_result"
    },
    {
     "data": {
      "image/png": "[encoded data removed]",
      "text/plain": [
       "<Figure size 432x288 with 1 Axes>"
      ]
     },
     "metadata": {
      "needs_background": "light"
     },
     "output_type": "display_data"
    }
   ],
   "source": [
    "o=np.linspace(0,100,100).reshape(-1,1)\n",
    "o_quad=poly.fit_transform(o)\n",
    "plt.plot(o,model.predict(o_quad),'k--')"
   ]
  },
  {
   "cell_type": "markdown",
   "metadata": {},
   "source": [
    "## Prediction Level 2 - Isotope Analysis\n",
    "## The chemical has 3 isotopes named, A,B and C (as mentioned in dataset)."
   ]
  },
  {
   "cell_type": "markdown",
   "metadata": {},
   "source": [
    "## The type of isotope is dependent on critical point and pressure only.\n",
    "\n",
    "## Perform classification of the following chemical based on isotopes and predict the isotope for following chemicals\n",
    "## Pressure \tCritical point \tIsotope\n",
    "- Steps to be followed:\n",
    "\n",
    "    - Initially plot the required graph for data visualisation and understanding purpose. Analyse and mention which classification algorithm will you use to predict the isotope based on pressure and critical point.\n",
    "    - Use appropriate machine learning model to fit the entire dataset. (Train test split not required.)\n",
    "    - Test your model with all inputs. Print confusion matrix and the heatmap of the same. Also print the classification report.\n",
    "    - Predict the isotope for above mentioned 3 different inputs.\n",
    "    - Plot the contour plot to validate your classification. (BONUS: 2 marks)\n",
    "\n",
    "- Important instructions\n",
    "\n",
    "- All the graphs should contain proper title, labels, legend, grid, colour map, etc. whichever is applicable for better interpretation."
   ]
  },
  {
   "cell_type": "code",
   "execution_count": 97,
   "metadata": {},
   "outputs": [],
   "source": [
    "newdata=df[['pressure','critical_point','isotope']]"
   ]
  },
  {
   "cell_type": "code",
   "execution_count": 98,
   "metadata": {},
   "outputs": [
    {
     "data": {
      "text/html": [
       "<div>\n",
       "<style scoped>\n",
       "    .dataframe tbody tr th:only-of-type {\n",
       "        vertical-align: middle;\n",
       "    }\n",
       "\n",
       "    .dataframe tbody tr th {\n",
       "        vertical-align: top;\n",
       "    }\n",
       "\n",
       "    .dataframe thead th {\n",
       "        text-align: right;\n",
       "    }\n",
       "</style>\n",
       "<table border=\"1\" class=\"dataframe\">\n",
       "  <thead>\n",
       "    <tr style=\"text-align: right;\">\n",
       "      <th></th>\n",
       "      <th>pressure</th>\n",
       "      <th>critical_point</th>\n",
       "      <th>isotope</th>\n",
       "    </tr>\n",
       "  </thead>\n",
       "  <tbody>\n",
       "    <tr>\n",
       "      <th>0</th>\n",
       "      <td>8.50</td>\n",
       "      <td>2.00</td>\n",
       "      <td>A</td>\n",
       "    </tr>\n",
       "    <tr>\n",
       "      <th>1</th>\n",
       "      <td>8.42</td>\n",
       "      <td>2.01</td>\n",
       "      <td>A</td>\n",
       "    </tr>\n",
       "    <tr>\n",
       "      <th>2</th>\n",
       "      <td>8.35</td>\n",
       "      <td>2.03</td>\n",
       "      <td>A</td>\n",
       "    </tr>\n",
       "    <tr>\n",
       "      <th>3</th>\n",
       "      <td>8.27</td>\n",
       "      <td>2.08</td>\n",
       "      <td>A</td>\n",
       "    </tr>\n",
       "    <tr>\n",
       "      <th>4</th>\n",
       "      <td>8.20</td>\n",
       "      <td>2.10</td>\n",
       "      <td>A</td>\n",
       "    </tr>\n",
       "  </tbody>\n",
       "</table>\n",
       "</div>"
      ],
      "text/plain": [
       "   pressure  critical_point isotope\n",
       "0      8.50            2.00       A\n",
       "1      8.42            2.01       A\n",
       "2      8.35            2.03       A\n",
       "3      8.27            2.08       A\n",
       "4      8.20            2.10       A"
      ]
     },
     "execution_count": 98,
     "metadata": {},
     "output_type": "execute_result"
    }
   ],
   "source": [
    "newdata.head()"
   ]
  },
  {
   "cell_type": "code",
   "execution_count": 102,
   "metadata": {},
   "outputs": [
    {
     "data": {
      "text/plain": [
       "<matplotlib.legend.Legend at 0x175ffd20eb8>"
      ]
     },
     "execution_count": 102,
     "metadata": {},
     "output_type": "execute_result"
    },
    {
     "data": {
      "image/png": "[encoded data removed]",
      "text/plain": [
       "<Figure size 432x288 with 1 Axes>"
      ]
     },
     "metadata": {
      "needs_background": "light"
     },
     "output_type": "display_data"
    }
   ],
   "source": [
    "A=df[df['isotope']=='A']\n",
    "B=df[df['isotope']=='B']\n",
    "C=df[df['isotope']=='C']\n",
    "plt.scatter(A['critical_point'].values,A['pressure'].values,color='blue',label='A')\n",
    "plt.scatter(B['critical_point'].values,B['pressure'].values,color='red',label='B')\n",
    "plt.scatter(C['critical_point'].values,C['pressure'].values,color='green',label='C')\n",
    "plt.legend()"
   ]
  },
  {
   "cell_type": "code",
   "execution_count": 245,
   "metadata": {},
   "outputs": [
    {
     "name": "stdout",
     "output_type": "stream",
     "text": [
      "svc tree model is needed\n"
     ]
    }
   ],
   "source": [
    "print('svc tree model is needed')"
   ]
  },
  {
   "cell_type": "code",
   "execution_count": 247,
   "metadata": {},
   "outputs": [],
   "source": [
    "from sklearn.tree import DecisionTreeClassifier\n",
    "from sklearn.metrics import confusion_matrix\n",
    "from sklearn.svm import SVC\n",
    "from sklearn import svm, metrics"
   ]
  },
  {
   "cell_type": "code",
   "execution_count": 248,
   "metadata": {},
   "outputs": [],
   "source": [
    "SVCClassifier=SVC(kernel='linear',C=10,max_iter=150)\n",
    "SVCModel=SVCClassifier.fit(df[['pressure','critical_point']],df['isotope'])"
   ]
  },
  {
   "cell_type": "markdown",
   "metadata": {},
   "source": [
    "### Test your model with all inputs. Print confusion matrix and the heatmap of the same. Also print the classification report."
   ]
  },
  {
   "cell_type": "code",
   "execution_count": 249,
   "metadata": {},
   "outputs": [
    {
     "name": "stdout",
     "output_type": "stream",
     "text": [
      "0    A\n",
      "1    A\n",
      "2    A\n",
      "Name: isotope, dtype: object\n",
      "['A' 'A' 'A']\n"
     ]
    }
   ],
   "source": [
    "print(A['isotope'][:3])\n",
    "print(SVCModel.predict(A[['pressure','critical_point']][:3]))"
   ]
  },
  {
   "cell_type": "code",
   "execution_count": 250,
   "metadata": {},
   "outputs": [
    {
     "name": "stdout",
     "output_type": "stream",
     "text": [
      "14    B\n",
      "15    B\n",
      "16    B\n",
      "Name: isotope, dtype: object\n",
      "['A' 'B' 'B']\n"
     ]
    }
   ],
   "source": [
    "print(B['isotope'][:3])\n",
    "print(SVCModel.predict(B[['pressure','critical_point']][:3]))"
   ]
  },
  {
   "cell_type": "code",
   "execution_count": 251,
   "metadata": {},
   "outputs": [
    {
     "name": "stdout",
     "output_type": "stream",
     "text": [
      "26    C\n",
      "27    C\n",
      "28    C\n",
      "Name: isotope, dtype: object\n",
      "['C' 'C' 'C']\n"
     ]
    }
   ],
   "source": [
    "print(C['isotope'][:3])\n",
    "print(SVCModel.predict(C[['pressure','critical_point']][:3]))"
   ]
  },
  {
   "cell_type": "code",
   "execution_count": 254,
   "metadata": {},
   "outputs": [
    {
     "name": "stdout",
     "output_type": "stream",
     "text": [
      "[[14  0  0]\n",
      " [ 1 15  1]\n",
      " [ 0  0 14]]\n",
      "              precision    recall  f1-score   support\n",
      "\n",
      "           A       0.93      1.00      0.97        14\n",
      "           B       1.00      0.88      0.94        17\n",
      "           C       0.93      1.00      0.97        14\n",
      "\n",
      "    accuracy                           0.96        45\n",
      "   macro avg       0.96      0.96      0.96        45\n",
      "weighted avg       0.96      0.96      0.95        45\n",
      "\n"
     ]
    }
   ],
   "source": [
    "from sklearn.metrics import confusion_matrix\n",
    "from sklearn.metrics import classification_report\n",
    "actual=df['isotope']\n",
    "pred=SVCModel.predict(df[['pressure','critical_point']])\n",
    "#print(actual)\n",
    "#print(pred)\n",
    "print(confusion_matrix(actual,pred))\n",
    "print(classification_report(actual,pred))"
   ]
  },
  {
   "cell_type": "code",
   "execution_count": 255,
   "metadata": {},
   "outputs": [
    {
     "data": {
      "text/plain": [
       "<matplotlib.axes._subplots.AxesSubplot at 0x1758034c3c8>"
      ]
     },
     "execution_count": 255,
     "metadata": {},
     "output_type": "execute_result"
    },
    {
     "data": {
      "image/png": "[encoded data removed]",
      "text/plain": [
       "<Figure size 432x288 with 2 Axes>"
      ]
     },
     "metadata": {
      "needs_background": "light"
     },
     "output_type": "display_data"
    }
   ],
   "source": [
    "import seaborn\n",
    "seaborn.heatmap(confusion_matrix(actual,pred),annot=True,cmap=\"Oranges\",)"
   ]
  },
  {
   "cell_type": "markdown",
   "metadata": {},
   "source": [
    "## Predict the isotope for above mentioned 3 different inputs."
   ]
  },
  {
   "cell_type": "markdown",
   "metadata": {},
   "source": [
    "- 7.2 \t3 \t\n",
    "- 8 \t2 \t\n",
    "- 6.4 \t4 "
   ]
  },
  {
   "cell_type": "code",
   "execution_count": 256,
   "metadata": {},
   "outputs": [
    {
     "data": {
      "text/plain": [
       "array(['B'], dtype=object)"
      ]
     },
     "execution_count": 256,
     "metadata": {},
     "output_type": "execute_result"
    }
   ],
   "source": [
    "SVCModel.predict([[7.2,3]])"
   ]
  },
  {
   "cell_type": "code",
   "execution_count": 257,
   "metadata": {},
   "outputs": [
    {
     "data": {
      "text/plain": [
       "array(['A'], dtype=object)"
      ]
     },
     "execution_count": 257,
     "metadata": {},
     "output_type": "execute_result"
    }
   ],
   "source": [
    "SVCModel.predict([[8,2]])"
   ]
  },
  {
   "cell_type": "code",
   "execution_count": 258,
   "metadata": {},
   "outputs": [
    {
     "data": {
      "text/plain": [
       "array(['C'], dtype=object)"
      ]
     },
     "execution_count": 258,
     "metadata": {},
     "output_type": "execute_result"
    }
   ],
   "source": [
    "SVCModel.predict([[6.4,4]])"
   ]
  },
  {
   "cell_type": "markdown",
   "metadata": {},
   "source": [
    "- Plot the contour plot to validate your classification. (BONUS: 2 marks)"
   ]
  },
  {
   "cell_type": "code",
   "execution_count": null,
   "metadata": {},
   "outputs": [],
   "source": []
  }
 ],
 "metadata": {
  "kernelspec": {
   "display_name": "Python 3",
   "language": "python",
   "name": "python3"
  },
  "language_info": {
   "codemirror_mode": {
    "name": "ipython",
    "version": 3
   },
   "file_extension": ".py",
   "mimetype": "text/x-python",
   "name": "python",
   "nbconvert_exporter": "python",
   "pygments_lexer": "ipython3",
   "version": "3.7.6"
  }
 },
 "nbformat": 4,
 "nbformat_minor": 2
}
