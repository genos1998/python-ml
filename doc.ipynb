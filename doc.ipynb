{
 "cells": [
  {
   "cell_type": "markdown",
   "metadata": {},
   "source": [
    " df1 = pd.DataFrame({'A': ['A0', 'A1', 'A2', 'A3'],\n",
    "   ...:                     'B': ['B0', 'B1', 'B2', 'B3'],\n",
    "   ...:                     'C': ['C0', 'C1', 'C2', 'C3'],\n",
    "   ...:                     'D': ['D0', 'D1', 'D2', 'D3']},\n",
    "   ...:                    index=[0, 1, 2, 3])\n",
    "   ...: \n",
    "\n",
    "In [2]: df2 = pd.DataFrame({'A': ['A4', 'A5', 'A6', 'A7'],\n",
    "   ...:                     'B': ['B4', 'B5', 'B6', 'B7'],\n",
    "   ...:                     'C': ['C4', 'C5', 'C6', 'C7'],\n",
    "   ...:                     'D': ['D4', 'D5', 'D6', 'D7']},\n",
    "   ...:                    index=[4, 5, 6, 7])\n",
    "   ...: \n",
    "\n",
    "In [3]: df3 = pd.DataFrame({'A': ['A8', 'A9', 'A10', 'A11'],\n",
    "   ...:                     'B': ['B8', 'B9', 'B10', 'B11'],\n",
    "   ...:                     'C': ['C8', 'C9', 'C10', 'C11'],\n",
    "   ...:                     'D': ['D8', 'D9', 'D10', 'D11']},\n",
    "   ...:                    index=[8, 9, 10, 11])\n",
    "   ...: \n",
    "\n",
    "In [4]: frames = [df1, df2, df3]\n",
    "\n",
    "In [5]: result = pd.concat(frames)\n"
   ]
  },
  {
   "cell_type": "markdown",
   "metadata": {},
   "source": [
    " pandas provides the isna() and notna() functions, which are also methods on Series and DataFrame objects:"
   ]
  },
  {
   "cell_type": "markdown",
   "metadata": {},
   "source": [
    "df2['one']\n",
    "Out[7]: \n",
    "a    0.469112\n",
    "b         NaN\n",
    "c   -1.135632\n",
    "d         NaN\n",
    "e    0.119209\n",
    "f   -2.104569\n",
    "g         NaN\n",
    "h    0.721555\n",
    "Name: one, dtype: float64\n",
    "\n",
    "In [8]: pd.isna(df2['one'])\n",
    "Out[8]: \n",
    "a    False\n",
    "b     True\n",
    "c    False\n",
    "d     True\n",
    "e    False\n",
    "f    False\n",
    "g     True\n",
    "h    False\n",
    "Name: one, dtype: bool\n",
    "\n",
    "In [9]: df2['four'].notna()\n",
    "Out[9]: \n",
    "a     True\n",
    "b    False\n",
    "c     True\n",
    "d    False\n",
    "e     True\n",
    "f     True\n",
    "g    False\n",
    "h     True\n",
    "Name: four, dtype: bool\n",
    "\n",
    "In [10]: df2.isna()\n",
    "Out[10]: \n",
    "     one    two  three   four   five\n",
    "a  False  False  False  False  False\n",
    "b   True   True   True   True   True\n",
    "c  False  False  False  False  False\n",
    "d   True   True   True   True   True\n",
    "e  False  False  False  False  False\n",
    "f  False  False  False  False  False\n",
    "g   True   True   True   True   True\n",
    "h  False  False  False  False  False"
   ]
  },
  {
   "cell_type": "code",
   "execution_count": 8,
   "metadata": {},
   "outputs": [
    {
     "data": {
      "text/plain": [
       "SVC(C=1.0, cache_size=200, class_weight=None, coef0=0.0,\n",
       "    decision_function_shape='ovr', degree=3, gamma='scale', kernel='rbf',\n",
       "    max_iter=-1, probability=False, random_state=None, shrinking=True,\n",
       "    tol=0.001, verbose=False)"
      ]
     },
     "execution_count": 8,
     "metadata": {},
     "output_type": "execute_result"
    }
   ],
   "source": [
    "from sklearn import svm\n",
    "from sklearn.svm import SVC\n",
    "x=[[0,0],[1,1]]\n",
    "y=[0,1]\n",
    "clf = svm.SVC(gamma='scale')\n",
    "clf.fit(x, y)  \n",
    "SVC(C=1.0, cache_size=200, class_weight=None, coef0=0.0,\n",
    "    decision_function_shape='ovr', degree=3, gamma='scale', kernel='rbf',\n",
    "    max_iter=-1, probability=False, random_state=None, shrinking=True,\n",
    "    tol=0.001, verbose=False)"
   ]
  },
  {
   "cell_type": "markdown",
   "metadata": {},
   "source": [
    "import numpy as np\n",
    "from sklearn import svm\n",
    "def my_kernel(X, Y):\n",
    "     return np.dot(X, Y.T)\n",
    "clf = svm.SVC(kernel=my_kernel)"
   ]
  },
  {
   "cell_type": "code",
   "execution_count": null,
   "metadata": {},
   "outputs": [],
   "source": []
  }
 ],
 "metadata": {
  "kernelspec": {
   "display_name": "Python 3",
   "language": "python",
   "name": "python3"
  },
  "language_info": {
   "codemirror_mode": {
    "name": "ipython",
    "version": 3
   },
   "file_extension": ".py",
   "mimetype": "text/x-python",
   "name": "python",
   "nbconvert_exporter": "python",
   "pygments_lexer": "ipython3",
   "version": "3.7.6"
  }
 },
 "nbformat": 4,
 "nbformat_minor": 2
}
