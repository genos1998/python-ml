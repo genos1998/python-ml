{
 "cells": [
  {
   "cell_type": "markdown",
   "metadata": {},
   "source": [
    "# Indian Student Clustering with Plotly\n",
    "\n",
    "The 'Indian_Student_Data.csv' file contains different countries and the percentage of Indian students studying in them. The countries are listed by name, latitude & longitude and a country code. \n",
    "\n",
    "We have to cluster students based on their numbers and country and plot on plotly's geographical map.\n",
    "Plotly tutorial and documentation is available at https://plot.ly/python/choropleth-maps/. For understanding Plotly, a short jupyter notebook is also available at https://drive.google.com/drive/folders/1SCm-y25dhegPJDfr6tWrRgxlbHI-4XJu?usp=sharing\n",
    "\n",
    "We are using World Choropleth maps like following one:\n",
    "\n",
    "![Image](StudentClustering_plotly.png)\n",
    "\n",
    "Solve the following questions:\n",
    "1. Choose the number of clusters by observing the data distribution on Plotly. Justify your choice of clusters. \n",
    "2. Run the KMeans clustering algorithm and chosen number of clusters in Qt 1. Use the features latitude, longitude, percentage for the clustering. \n",
    "3. Plot the clusters on the plotly's geographical map. The countries in the same cluster should have the same color. Each cluster should have different color.\n",
    "4. For every cluster you make, find out the sum of sqaured errors."
   ]
  },
  {
   "cell_type": "code",
   "execution_count": 1,
   "metadata": {},
   "outputs": [
    {
     "data": {
      "text/html": [
       "<div>\n",
       "<style scoped>\n",
       "    .dataframe tbody tr th:only-of-type {\n",
       "        vertical-align: middle;\n",
       "    }\n",
       "\n",
       "    .dataframe tbody tr th {\n",
       "        vertical-align: top;\n",
       "    }\n",
       "\n",
       "    .dataframe thead th {\n",
       "        text-align: right;\n",
       "    }\n",
       "</style>\n",
       "<table border=\"1\" class=\"dataframe\">\n",
       "  <thead>\n",
       "    <tr style=\"text-align: right;\">\n",
       "      <th></th>\n",
       "      <th>country</th>\n",
       "      <th>no_of_indian_students</th>\n",
       "      <th>percentage</th>\n",
       "      <th>latitude</th>\n",
       "      <th>longitude</th>\n",
       "      <th>code</th>\n",
       "    </tr>\n",
       "  </thead>\n",
       "  <tbody>\n",
       "    <tr>\n",
       "      <td>0</td>\n",
       "      <td>United States of America</td>\n",
       "      <td>165918</td>\n",
       "      <td>37.134985</td>\n",
       "      <td>39.783730</td>\n",
       "      <td>-100.445882</td>\n",
       "      <td>USA</td>\n",
       "    </tr>\n",
       "    <tr>\n",
       "      <td>1</td>\n",
       "      <td>Australia</td>\n",
       "      <td>66886</td>\n",
       "      <td>14.970109</td>\n",
       "      <td>-24.776109</td>\n",
       "      <td>134.755000</td>\n",
       "      <td>AUS</td>\n",
       "    </tr>\n",
       "    <tr>\n",
       "      <td>2</td>\n",
       "      <td>Canada</td>\n",
       "      <td>50000</td>\n",
       "      <td>11.190764</td>\n",
       "      <td>61.066692</td>\n",
       "      <td>-107.991707</td>\n",
       "      <td>CAN</td>\n",
       "    </tr>\n",
       "    <tr>\n",
       "      <td>3</td>\n",
       "      <td>New Zealand</td>\n",
       "      <td>32000</td>\n",
       "      <td>7.162089</td>\n",
       "      <td>-41.500083</td>\n",
       "      <td>172.834408</td>\n",
       "      <td>NZL</td>\n",
       "    </tr>\n",
       "    <tr>\n",
       "      <td>4</td>\n",
       "      <td>Bahrain</td>\n",
       "      <td>27000</td>\n",
       "      <td>6.043013</td>\n",
       "      <td>35.207801</td>\n",
       "      <td>72.547397</td>\n",
       "      <td>BHR</td>\n",
       "    </tr>\n",
       "  </tbody>\n",
       "</table>\n",
       "</div>"
      ],
      "text/plain": [
       "                    country  no_of_indian_students  percentage   latitude  \\\n",
       "0  United States of America                 165918   37.134985  39.783730   \n",
       "1                 Australia                  66886   14.970109 -24.776109   \n",
       "2                    Canada                  50000   11.190764  61.066692   \n",
       "3               New Zealand                  32000    7.162089 -41.500083   \n",
       "4                   Bahrain                  27000    6.043013  35.207801   \n",
       "\n",
       "    longitude code  \n",
       "0 -100.445882  USA  \n",
       "1  134.755000  AUS  \n",
       "2 -107.991707  CAN  \n",
       "3  172.834408  NZL  \n",
       "4   72.547397  BHR  "
      ]
     },
     "execution_count": 1,
     "metadata": {},
     "output_type": "execute_result"
    }
   ],
   "source": [
    "import pandas as pd\n",
    "import numpy as np\n",
    "import matplotlib.pyplot as plt\n",
    "\n",
    "df = pd.read_csv(\"Indian_Student_Data.csv\")\n",
    "df.head()"
   ]
  },
  {
   "cell_type": "code",
   "execution_count": 2,
   "metadata": {},
   "outputs": [
    {
     "name": "stdout",
     "output_type": "stream",
     "text": [
      "[2 1 2 1 1 0 2 0 1 1 0 0 1 1 0 0 0 0 0 1 0 0 0 1 1 0 1 1 0 0 1 0 1 0 0 0 0\n",
      " 0 0 0 0 0 0 0 2 0 0 0 0 0 2 1 1 0 1 0 0 0 2 0 0 2 2 1 0]\n"
     ]
    },
    {
     "data": {
      "text/plain": [
       "array([[  0.31766276,  40.41470957,  24.60008055],\n",
       "       [  1.8991349 ,  16.22711237, 107.31606639],\n",
       "       [  6.51151418,  20.87950446, -86.0408836 ]])"
      ]
     },
     "execution_count": 2,
     "metadata": {},
     "output_type": "execute_result"
    }
   ],
   "source": [
    "from sklearn.cluster import KMeans \n",
    "kmeans = KMeans(n_clusters=3, init='random')\n",
    "y_kmeans = kmeans.fit_predict(df[['percentage','latitude','longitude']])\n",
    "print(y_kmeans)\n",
    "c = kmeans.cluster_centers_\n",
    "c"
   ]
  },
  {
   "cell_type": "code",
   "execution_count": 3,
   "metadata": {},
   "outputs": [
    {
     "name": "stderr",
     "output_type": "stream",
     "text": [
      "C:\\ProgramData\\Anaconda3\\lib\\site-packages\\IPython\\core\\display.py:694: UserWarning:\n",
      "\n",
      "Consider using IPython.display.IFrame instead\n",
      "\n"
     ]
    },
    {
     "data": {
      "text/html": [
       "<iframe id=\"igraph\" scrolling=\"no\" style=\"border:none;\" seamless=\"seamless\" src=\"https://plot.ly/~junaidshaikh98/2.embed\" height=\"525px\" width=\"100%\"></iframe>"
      ],
      "text/plain": [
       "<chart_studio.tools.PlotlyDisplay object>"
      ]
     },
     "execution_count": 3,
     "metadata": {},
     "output_type": "execute_result"
    }
   ],
   "source": [
    "import plotly.plotly as py\n",
    "import plotly\n",
    "import pandas as pd\n",
    "plotly.tools.set_credentials_file(username='junaidshaikh98', api_key=\"4EEfIDltWDZbPKkM3Bec\")\n",
    "\n",
    "data = [dict(\n",
    "        type = 'choropleth',\n",
    "        locations = df['code'],\n",
    "        text = df['country'],\n",
    "        autocolorscale = False,\n",
    "        z = y_kmeans,\n",
    "        colorscale = [[0,\"rgb(255,0 , 0)\"],[1,\"rgb(255, 255, 0)\"], [2,\"rgb(127, 255, 255)\"]],\n",
    "        marker = dict(\n",
    "            line = dict (\n",
    "                color = 'rgb(0,0,0)',\n",
    "                width = 1) ),\n",
    "        colorbar = dict(\n",
    "            autotick = False,\n",
    "            title = 'Color Distribution')\n",
    "      )]\n",
    "\n",
    "layout = dict(\n",
    "    title = 'ploty',\n",
    "    geo = dict(\n",
    "        showframe = True,\n",
    "        showcoastlines = True\n",
    "    )\n",
    ")\n",
    "\n",
    "fig = dict( data=data, layout=layout )\n",
    "py.iplot( fig, validate=False, filename='lotly' )"
   ]
  },
  {
   "cell_type": "code",
   "execution_count": 4,
   "metadata": {},
   "outputs": [
    {
     "name": "stdout",
     "output_type": "stream",
     "text": [
      "60000.068878341626\n"
     ]
    }
   ],
   "source": [
    "print(kmeans.inertia_) # sum of squared distance to closest cluster"
   ]
  },
  {
   "cell_type": "code",
   "execution_count": 5,
   "metadata": {},
   "outputs": [
    {
     "name": "stdout",
     "output_type": "stream",
     "text": [
      "298.6359851150617\n",
      "761.9283542750946\n",
      "330.48335702615805\n"
     ]
    }
   ],
   "source": [
    "c1_centroid= c[0]\n",
    "c2_centroid= c[1]\n",
    "c3_centroid= c[2]\n",
    "cluster1_points=df[y_kmeans==0]\n",
    "cluster2_points=df[y_kmeans==1]\n",
    "cluster3_points=df[y_kmeans==2]\n",
    "c1_distances=cluster1_points.apply(lambda x: np.sqrt((x[2]-c1_centroid[0])**2 + (x[3]-c1_centroid[1])**2)+(x[4]-c1_centroid[2])**2,axis=1)\n",
    "c2_distances=cluster2_points.apply(lambda x: np.sqrt((x[2]-c2_centroid[0])**2 + (x[3]-c2_centroid[1])**2)+(x[4]-c2_centroid[2])**2,axis=1)\n",
    "c3_distances=cluster3_points.apply(lambda x: np.sqrt((x[2]-c3_centroid[0])**2 + (x[3]-c3_centroid[1])**2)+(x[4]-c3_centroid[2])**2,axis=1)\n",
    "print(c1_distances.mean())\n",
    "print(c2_distances.mean())\n",
    "print(c3_distances.mean())"
   ]
  },
  {
   "cell_type": "code",
   "execution_count": null,
   "metadata": {},
   "outputs": [],
   "source": []
  }
 ],
 "metadata": {
  "kernelspec": {
   "display_name": "Python 3",
   "language": "python",
   "name": "python3"
  },
  "language_info": {
   "codemirror_mode": {
    "name": "ipython",
    "version": 3
   },
   "file_extension": ".py",
   "mimetype": "text/x-python",
   "name": "python",
   "nbconvert_exporter": "python",
   "pygments_lexer": "ipython3",
   "version": "3.7.4"
  }
 },
 "nbformat": 4,
 "nbformat_minor": 2
}
