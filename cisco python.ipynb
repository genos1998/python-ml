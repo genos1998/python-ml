{
 "cells": [
  {
   "cell_type": "markdown",
   "metadata": {},
   "source": [
    "## Scenario\n",
    "Your task is to prepare a simple code able to evaluate the end time of a period of time, given as a number of minutes (it could be arbitrarily large). The start time is given as a pair of hours (0..23) and minutes (0..59). The result has to be printed to the console.\n",
    "\n",
    "For example, if an event starts at 12:17 and lasts 59 minutes, it will end at 13:16.\n",
    "\n",
    "Don't worry about any imperfections in your code - it's okay if it accepts an invalid time - the most important thing is that the code produce valid results for valid input data.\n",
    "\n",
    "Test your code carefully. Hint: using the % operator may be the key to success.\n",
    "\n",
    "Test Data\n",
    "Sample input:\n",
    "12\n",
    "17\n",
    "59\n",
    "\n",
    "Expected output: 13:16\n",
    "\n",
    "\n",
    "Sample input:\n",
    "23\n",
    "58\n",
    "642\n",
    "\n",
    "Expected output: 10:40\n",
    "\n",
    "\n",
    "Sample input:\n",
    "0\n",
    "1\n",
    "2939\n",
    "\n",
    "Expected output: 1:0"
   ]
  },
  {
   "cell_type": "code",
   "execution_count": 1,
   "metadata": {},
   "outputs": [
    {
     "name": "stdout",
     "output_type": "stream",
     "text": [
      "Starting time (hours): 12\n",
      "Starting time (minutes): 17\n",
      "Event duration (minutes): 59\n",
      "13:16\n"
     ]
    }
   ],
   "source": [
    "hour = int(input(\"Starting time (hours): \"))\n",
    "mins = int(input(\"Starting time (minutes): \"))\n",
    "dura = int(input(\"Event duration (minutes): \"))\n",
    "modu=dura%60\n",
    "if modu!=0:\n",
    "    mins+=modu\n",
    "    if mins>59:\n",
    "        mins-=60\n",
    "        if dura<61:\n",
    "            hour+=1\n",
    "        else:\n",
    "            hour=dura//60\n",
    "while hour>23:\n",
    "    hour-=24\n",
    "print(hour,mins,sep=\":\")"
   ]
  },
  {
   "cell_type": "code",
   "execution_count": 2,
   "metadata": {},
   "outputs": [
    {
     "name": "stdout",
     "output_type": "stream",
     "text": [
      "17.5\n"
     ]
    }
   ],
   "source": [
    "print(1/2+3//3+4**2)"
   ]
  },
  {
   "cell_type": "markdown",
   "metadata": {},
   "source": [
    "## Scenario\n",
    "Once upon a time there was a land - a land of milk and honey, inhabited by happy and prosperous people. The people paid taxes, of course - their happiness had limits. The most important tax, called the Personal Income Tax (PIT for short) had to be paid once a year, and was evaluated using the following rule:\n",
    "\n",
    "if the citizen's income was not higher than 85,528 thalers, the tax was equal to 18% of the income minus 556 thalers and 2 cents (this was the so-called tax relief)\n",
    "if the income was higher than this amount, the tax was equal to 14,839 thalers and 2 cents, plus 32% of the surplus over 85,528 thalers.\n",
    "Your task is to write a tax calculator.\n",
    "\n",
    "It should accept one floating-point value: the income.\n",
    "Next, it should print the calculated tax, rounded to full thalers. There's a function named round() which will do the rounding for you - you'll find it in the skeleton code in the editor.\n",
    "Note: this happy country never returns money to its citizens. If the calculated tax is less than zero, it only means no tax at all (the tax is equal to zero). Take this into consideration during your calculations.\n",
    "\n",
    "Look at the code in the editor - it only reads one input value and outputs a result, so you need to complete it with some smart calculations.\n",
    "\n",
    "Test your code using the data we've provided.\n",
    "\n",
    "Test Data\n",
    "Sample input: 10000\n",
    "\n",
    "Expected output: The tax is: 1244.0 thalers\n",
    "\n",
    "Sample input: 100000\n",
    "\n",
    "Expected output: The tax is: 19470.0 thalers\n",
    "\n",
    "Sample input: 1000\n",
    "\n",
    "Expected output: The tax is: 0.0 thalers\n",
    "\n",
    "Sample input: -100\n",
    "\n",
    "Expected output: The tax is: 0.0 thalers"
   ]
  },
  {
   "cell_type": "code",
   "execution_count": 3,
   "metadata": {},
   "outputs": [
    {
     "name": "stdout",
     "output_type": "stream",
     "text": [
      "Enter the annual income: 10\n"
     ]
    },
    {
     "ename": "NameError",
     "evalue": "name 'tax' is not defined",
     "output_type": "error",
     "traceback": [
      "\u001b[1;31m---------------------------------------------------------------------------\u001b[0m",
      "\u001b[1;31mNameError\u001b[0m                                 Traceback (most recent call last)",
      "\u001b[1;32m<ipython-input-3-1e56ecc290f5>\u001b[0m in \u001b[0;36m<module>\u001b[1;34m\u001b[0m\n\u001b[0;32m      5\u001b[0m \u001b[1;31m#\u001b[0m\u001b[1;33m\u001b[0m\u001b[1;33m\u001b[0m\u001b[0m\n\u001b[0;32m      6\u001b[0m \u001b[1;33m\u001b[0m\u001b[0m\n\u001b[1;32m----> 7\u001b[1;33m \u001b[0mtax\u001b[0m \u001b[1;33m=\u001b[0m \u001b[0mround\u001b[0m\u001b[1;33m(\u001b[0m\u001b[0mtax\u001b[0m\u001b[1;33m,\u001b[0m \u001b[1;36m0\u001b[0m\u001b[1;33m)\u001b[0m\u001b[1;33m\u001b[0m\u001b[0m\n\u001b[0m\u001b[0;32m      8\u001b[0m \u001b[0mprint\u001b[0m\u001b[1;33m(\u001b[0m\u001b[1;34m\"The tax is:\"\u001b[0m\u001b[1;33m,\u001b[0m \u001b[0mtax\u001b[0m\u001b[1;33m,\u001b[0m \u001b[1;34m\"thalers\"\u001b[0m\u001b[1;33m)\u001b[0m\u001b[1;33m\u001b[0m\u001b[0m\n",
      "\u001b[1;31mNameError\u001b[0m: name 'tax' is not defined"
     ]
    }
   ],
   "source": [
    "income = float(input(\"Enter the annual income: \"))\n",
    "\n",
    "#\n",
    "# Put your code here.\n",
    "#\n",
    "\n",
    "tax = round(tax, 0)\n",
    "print(\"The tax is:\", tax, \"thalers\")"
   ]
  },
  {
   "cell_type": "markdown",
   "metadata": {},
   "source": [
    "## Scenario\n",
    "As you surely know, due to some astronomical reasons, years may be leap or common. The former are 366 days long, while the latter are 365 days long.\n",
    "\n",
    "Since the introduction of the Gregorian calendar (in 1582), the following rule is used to determine the kind of year:\n",
    "\n",
    "if the year number isn't divisible by four, it's a common year;\n",
    "otherwise, if the year number isn't divisible by 100, it's a leap year;\n",
    "otherwise, if the year number isn't divisible by 400, it's a common year;\n",
    "otherwise, it's a leap year.\n",
    "Look at the code in the editor - it only reads a year number, and needs to be completed with the instructions implementing the test we've just described.\n",
    "\n",
    "The code should output one of two possible messages, which are Leap year or Common year, depending on the value entered.\n",
    "\n",
    "It would be good to verify if the entered year falls into the Gregorian era, and output a warning otherwise: Not within the Gregorian calendar period. Tip: use the != and % operators.\n",
    "\n",
    "Test your code using the data we've provided.\n",
    "\n",
    "Test Data\n",
    "Sample input: 2000\n",
    "\n",
    "Expected output: Leap year\n",
    "\n",
    "Sample input: 2015\n",
    "\n",
    "Expected output: Common year\n",
    "\n",
    "Sample input: 1999\n",
    "\n",
    "Expected output: Common year\n",
    "\n",
    "Sample input: 1996\n",
    "\n",
    "Expected output: Leap year\n",
    "\n",
    "Sample input: 1580\n",
    "\n",
    "Expected output: Not within the Gregorian calendar period"
   ]
  },
  {
   "cell_type": "markdown",
   "metadata": {},
   "source": [
    "## Scenario\n",
    "A junior magician has picked a secret number. He has hidden it in a variable named secret_number. He wants everyone who run his program to play the Guess the secret number game, and guess what number he has picked for them. Those who don't guess the number will be stuck in an endless loop forever! Unfortunately, he does not know how to complete the code.\n",
    "\n",
    "Your task is to help the magician complete the code in the editor in such a way so that the code:\n",
    "\n",
    "will ask the user to enter an integer number;\n",
    "will use a while loop;\n",
    "will check whether the number entered by the user is the same as the number picked by the magician. If the number chosen by the user is different than the magician's secret number, the user should see the message \"Ha ha! You're stuck in my loop!\" and be prompted to enter a number again. If the number entered by the user matches the number picked by the magician, the number should be printed to the screen, and the magician should say the following words: \"Well done, muggle! You are free now.\"\n",
    "The magician is counting on you! Don't disappoint him.\n",
    "\n",
    "\n",
    "EXTRA INFO\n",
    "\n",
    "By the way, look at the print() function. The way we've used it here is called multi-line printing. You can use triple quotes to print strings on multiple lines in order to make text easier to read, or create a special text-based design. Experiment with it."
   ]
  },
  {
   "cell_type": "markdown",
   "metadata": {},
   "source": [
    "## code\n",
    "secret_number = 777\n",
    "\n",
    "print(\n",
    "\"\"\"\n",
    "+================================+\n",
    "| Welcome to my game, muggle!    |\n",
    "| Enter an integer number        |\n",
    "| and guess what number I've     |\n",
    "| picked for you.                |\n",
    "| So, what is the secret number? |\n",
    "+================================+\n",
    "\"\"\")"
   ]
  },
  {
   "cell_type": "markdown",
   "metadata": {},
   "source": [
    "## Scenario\n",
    "Do you know what Mississippi is? Well, it's the name of one of the states and rivers in the United States. The Mississippi River is about 2,340 miles long, which makes it the second longest river in the United States (the longest being the Missouri River). It's so long that a single drop of water needs 90 days to travel its entire length!\n",
    "\n",
    "The word Mississippi is also used for a slightly different purpose: to count mississippily.\n",
    "\n",
    "If you're not familiar with the phrase, we're here to explain to you what it means: it's used to count seconds.\n",
    "\n",
    "The idea behind it is that adding the word Mississippi to a number when counting seconds aloud makes them sound closer to clock-time, and therefore \"one Mississippi, two Mississippi, three Mississippi\" will take approximately an actual three seconds of time! It's often used by children playing hide-and-seek to make sure the seeker does an honest count.\n",
    "\n",
    "\n",
    "Your task is very simple here: write a program that uses a for loop to \"count mississippily\" to five. Having counted to five, the program should print to the screen the final message \"Ready or not, here I come!\"\n",
    "\n",
    "Use the skeleton we've provided in the editor.\n",
    "\n",
    "EXTRA INFO\n",
    "\n",
    "Note that the code in the editor contains two elements which may not be fully clear to you at this moment: the import time statement, and the sleep() method. We're going to talk about them soon.\n",
    "\n",
    "For the time being, we'd just like you to know that we've imported the time module and used the sleep() method to suspend the execution of each subsequent print() function inside the for loop for one second, so that the message outputted to the console resembles an actual counting. Don't worry - you'll soon learn more about modules and methods.\n",
    "\n",
    "Expected output\n",
    "1 Mississippi\n",
    "2 Mississippi\n",
    "3 Mississippi\n",
    "4 Mississippi\n",
    "5 Mississippi\n",
    "\n",
    " \n",
    "## code\n",
    "\n",
    "import time\n",
    "\n",
    " Write a for loop that counts to five.\n",
    "    # Body of the loop - print the loop iteration number and the word \"Mississippi\".\n",
    "    # Body of the loop - use: time.sleep(1)\n",
    "\n",
    " Write a print function with the final message."
   ]
  },
  {
   "cell_type": "markdown",
   "metadata": {},
   "source": [
    "## Scenario\n",
    "The break statement is used to exit/terminate a loop.\n",
    "\n",
    "Design a program that uses a while loop and continuously asks the user to enter a word unless the user enters \"chupacabra\" as the secret exit word, in which case the message \"You've successfully left the loop.\" should be printed to the screen, and the loop should terminate.\n",
    "\n",
    "Don't print any of the words entered by the user. Use the concept of conditional execution and the break statement.\n"
   ]
  },
  {
   "cell_type": "markdown",
   "metadata": {},
   "source": [
    "## Scenario\n",
    "The continue statement is used to skip the current block and move ahead to the next iteration, without executing the statements inside the loop.\n",
    "\n",
    "It can be used with both the while and for loops.\n",
    "\n",
    "Your task here is very special: you must design a vowel eater! Write a program that uses:\n",
    "\n",
    "a for loop;\n",
    "the concept of conditional execution (if-elif-else)\n",
    "the continue statement.\n",
    "Your program must:\n",
    "\n",
    "ask the user to enter a word;\n",
    "use userWord = userWord.upper() to convert the word entered by the user to upper case; we'll talk about the so-called string methods and the upper() method very soon - don't worry;\n",
    "use conditional execution and the continue statement to \"eat\" the following vowels A, E, I, O, U from the inputted word;\n",
    "print the uneaten letters to the screen, each one of them on a separate line.\n",
    "Test your program with the data we've provided for you.\n",
    "\n",
    "\n",
    "Test data\n",
    "Sample input: Gregory\n",
    "\n",
    "Expected output:\n",
    "\n",
    "G\n",
    "R\n",
    "G\n",
    "R\n",
    "Y\n",
    "Sample input: abstemious\n",
    "\n",
    "Expected output:\n",
    "\n",
    "B\n",
    "S\n",
    "T\n",
    "M\n",
    "S\n",
    "Sample input: IOUEA\n",
    "\n",
    "Expected output:\n",
    "\n",
    " "
   ]
  },
  {
   "cell_type": "markdown",
   "metadata": {},
   "source": [
    "## Scenario\n",
    "Your task here is even more special than before: you must redesign the (ugly) vowel eater from the previous lab (3.1.2.10) and create a better, upgraded (pretty) vowel eater! Write a program that uses:\n",
    "\n",
    "a for loop;\n",
    "the concept of conditional execution (if-elif-else)\n",
    "the continue statement.\n",
    "Your program must:\n",
    "\n",
    "ask the user to enter a word;\n",
    "use userWord = userWord.upper() to convert the word entered by the user to upper case; we'll talk about the so-called string methods and the upper() method very soon - don't worry;\n",
    "use conditional execution and the continue statement to \"eat\" the following vowels A, E, I, O, U from the inputted word;\n",
    "assign the uneaten letters to the wordWithoutVovels variable and print the variable to the screen.\n",
    "Look at the code in the editor. We've created wordWithoutVovels and assigned an empty string to it. Use concatenation operation to ask Python to combine selected letters into a longer string during subsequent loop turns, and assign it to the wordWithoutVovels variable.\n",
    "\n",
    "Test your program with the data we've provided for you.\n",
    "\n",
    "\n",
    "Test data\n",
    "Sample input: Gregory\n",
    "\n",
    "Expected output:\n",
    "\n",
    "GRGRY\n",
    "Sample input: abstemious\n",
    "\n",
    "Expected output:\n",
    "\n",
    "BSTMS\n",
    "Sample input: IOUEA\n",
    "\n",
    "Expected output: "
   ]
  },
  {
   "cell_type": "markdown",
   "metadata": {},
   "source": [
    "## while else\n",
    "i = 1\n",
    "\n",
    "while i < 5:\n",
    "\n",
    "    print(i)\n",
    "\n",
    "    i += 1\n",
    "\n",
    "else:\n",
    "\n",
    "    print(\"else:\", i)"
   ]
  },
  {
   "cell_type": "markdown",
   "metadata": {},
   "source": [
    "### The loop's else branch is always executed once, regardless of whether the loop has entered its body or not"
   ]
  },
  {
   "cell_type": "markdown",
   "metadata": {},
   "source": [
    "# The for loop and the else branch"
   ]
  },
  {
   "cell_type": "markdown",
   "metadata": {},
   "source": [
    "https://edube.org/uploads/media/default/0001/01/26238ebafe7c913f177040785f30d7dde4a1c69a.png"
   ]
  },
  {
   "cell_type": "markdown",
   "metadata": {},
   "source": [
    "## Scenario\n",
    "Listen to this story: a boy and his father, a computer programmer, are playing with wooden blocks. They are building a pyramid.\n",
    "\n",
    "Their pyramid is a bit weird, as it is actually a pyramid-shaped wall - it's flat. The pyramid is stacked according to one simple principle: each lower layer contains one block more than the layer above.\n",
    "\n",
    "The figure illustrates the rule used by the builders:\n",
    "\n",
    " \n",
    "\n",
    "Your task is to write a program which reads the number of blocks the builders have, and outputs the height of the pyramid that can be built using these blocks.\n",
    "\n",
    "Note: the height is measured by the number of fully completed layers - if the builders don't have a sufficient number of blocks and cannot complete the next layer, they finish their work immediately.\n",
    "\n",
    "Test your code using the data we've provided.\n",
    "\n",
    "\n",
    "Test Data\n",
    "\n",
    "Sample input: 6\n",
    "\n",
    "Expected output: The height of the pyramid: 3\n",
    "\n",
    "Sample input: 20\n",
    "\n",
    "Expected output: The height of the pyramid: 5\n",
    "\n",
    "Sample input: 1000\n",
    "\n",
    "Expected output: The height of the pyramid: 44\n",
    "\n",
    "Sample input: 2\n",
    "\n",
    "Expected output: The height of the pyramid: 1"
   ]
  },
  {
   "cell_type": "markdown",
   "metadata": {},
   "source": [
    "## Scenario\n",
    "In 1937, a German mathematician named Lothar Collatz formulated an intriguing hypothesis (it still remains unproven) which can be described in the following way:\n",
    "\n",
    "take any non-negative and non-zero integer number and name it  c0;\n",
    "if it's even, evaluate a new c0 as c0 ÷ 2;\n",
    "otherwise, if it's odd, evaluate a new c0 as 3 × c0 + 1;\n",
    "if c0 ≠ 1, skip to point 2.\n",
    "The hypothesis says that regardless of the initial value of c0, it will always go to 1.\n",
    "\n",
    "Of course, it's an extremely complex task to use a computer in order to prove the hypothesis for any natural number (it may even require artificial intelligence), but you can use Python to check some individual numbers. Maybe you'll even find the one which would disprove the hypothesis.\n",
    "\n",
    "\n",
    "Write a program which reads one natural number and executes the above steps as long as c0 remains different from 1. We also want you to count the steps needed to achieve the goal. Your code should output all the intermediate values of c0, too.\n",
    "\n",
    "Hint: the most important part of the problem is how to transform Collatz's idea into a while loop - this is the key to success.\n",
    "\n",
    "Test your code using the data we've provided.\n",
    "\n",
    "Test Data\n",
    "\n",
    "Sample input: 15\n",
    "\n",
    "Expected output:\n",
    "\n",
    "46\n",
    "\n",
    "23\n",
    "\n",
    "70\n",
    "\n",
    "35\n",
    "\n",
    "106\n",
    "\n",
    "53\n",
    "\n",
    "160\n",
    "\n",
    "80\n",
    "\n",
    "40\n",
    "\n",
    "20\n",
    "\n",
    "10\n",
    "\n",
    "5\n",
    "\n",
    "16\n",
    "\n",
    "8\n",
    "\n",
    "4\n",
    "\n",
    "2\n",
    "\n",
    "1\n",
    "\n",
    "steps = 17\n",
    "\n",
    "Sample input: 16\n",
    "\n",
    "Expected output:\n",
    "\n",
    "8\n",
    "\n",
    "4\n",
    "\n",
    "2\n",
    "\n",
    "1\n",
    "\n",
    "steps = 4\n",
    "\n",
    "Sample input: 1023\n",
    "\n",
    "Expected output:\n",
    "\n",
    "\n",
    "3070\n",
    "\n",
    "1535\n",
    "\n",
    "4606\n",
    "\n",
    "2303\n",
    "\n",
    "6910\n",
    "\n",
    "3455\n",
    "\n",
    "10366\n",
    "\n",
    "5183\n",
    "\n",
    "15550\n",
    "\n",
    "7775\n",
    "\n",
    "23326\n",
    "\n",
    "11663\n",
    "\n",
    "34990\n",
    "\n",
    "17495\n",
    "\n",
    "52486\n",
    "\n",
    "26243\n",
    "\n",
    "78730\n",
    "\n",
    "39365\n",
    "\n",
    "118096\n",
    "\n",
    "59048\n",
    "\n",
    "29524\n",
    "\n",
    "14762\n",
    "\n",
    "7381\n",
    "\n",
    "22144\n",
    "\n",
    "11072\n",
    "\n",
    "5536\n",
    "\n",
    "2768\n",
    "\n",
    "1384\n",
    "\n",
    "692\n",
    "\n",
    "346\n",
    "\n",
    "173\n",
    "\n",
    "520\n",
    "\n",
    "260\n",
    "\n",
    "130\n",
    "\n",
    "65\n",
    "\n",
    "196\n",
    "\n",
    "98\n",
    "\n",
    "49\n",
    "\n",
    "148\n",
    "\n",
    "74\n",
    "\n",
    "37\n",
    "\n",
    "112\n",
    "\n",
    "56\n",
    "\n",
    "28\n",
    "\n",
    "14\n",
    "\n",
    "7\n",
    "\n",
    "22\n",
    "\n",
    "11\n",
    "\n",
    "34\n",
    "\n",
    "17\n",
    "\n",
    "52\n",
    "\n",
    "26\n",
    "\n",
    "13\n",
    "\n",
    "40\n",
    "\n",
    "20\n",
    "\n",
    "10\n",
    "\n",
    "5\n",
    "\n",
    "16\n",
    "\n",
    "8\n",
    "\n",
    "4\n",
    "\n",
    "2\n",
    "\n",
    "1\n",
    "\n",
    "steps = 62"
   ]
  },
  {
   "cell_type": "code",
   "execution_count": 5,
   "metadata": {},
   "outputs": [
    {
     "name": "stdout",
     "output_type": "stream",
     "text": [
      "OpenEDG "
     ]
    }
   ],
   "source": [
    "text = \"OpenEDG Python Institute\"\n",
    "for letter in text:\n",
    "    if letter == \"P\":\n",
    "        break\n",
    "    print(letter, end=\"\")"
   ]
  },
  {
   "cell_type": "code",
   "execution_count": 6,
   "metadata": {},
   "outputs": [
    {
     "name": "stdout",
     "output_type": "stream",
     "text": [
      "P*y*t*h*o*n*"
     ]
    }
   ],
   "source": [
    "word = \"Python\"\n",
    "for letter in word:\n",
    "    print(letter, end=\"*\")"
   ]
  },
  {
   "cell_type": "code",
   "execution_count": 7,
   "metadata": {},
   "outputs": [
    {
     "name": "stdout",
     "output_type": "stream",
     "text": [
      "pypypy"
     ]
    }
   ],
   "source": [
    "text = \"pyxpyxpyx\"\n",
    "for letter in text:\n",
    "    if letter == \"x\":\n",
    "        continue\n",
    "    print(letter, end=\"\")"
   ]
  },
  {
   "cell_type": "code",
   "execution_count": 8,
   "metadata": {},
   "outputs": [
    {
     "name": "stdout",
     "output_type": "stream",
     "text": [
      "0\n",
      "1\n",
      "2\n",
      "3 else\n",
      "\n",
      "0\n",
      "1\n",
      "2\n",
      "2 else\n"
     ]
    }
   ],
   "source": [
    "n = 0\n",
    "\n",
    "while n != 3:\n",
    "    print(n)\n",
    "    n += 1\n",
    "else:\n",
    "    print(n, \"else\")\n",
    "\n",
    "print()\n",
    "\n",
    "for i in range(0, 3):\n",
    "    print(i)\n",
    "else:\n",
    "    print(i, \"else\")"
   ]
  },
  {
   "cell_type": "markdown",
   "metadata": {},
   "source": [
    "& (ampersand) - bitwise conjunction;\n",
    "| (bar) - bitwise disjunction;\n",
    "~ (tilde) - bitwise negation;\n",
    "^ (caret) - bitwise exclusive or (xor)."
   ]
  },
  {
   "cell_type": "code",
   "execution_count": 9,
   "metadata": {},
   "outputs": [
    {
     "name": "stdout",
     "output_type": "stream",
     "text": [
      "17 68 8\n"
     ]
    }
   ],
   "source": [
    "## bitwise\n",
    "var = 17\n",
    "varRight = var >> 1\n",
    "varLeft = var << 2\n",
    "print(var, varLeft, varRight)"
   ]
  },
  {
   "cell_type": "code",
   "execution_count": 10,
   "metadata": {},
   "outputs": [
    {
     "name": "stdout",
     "output_type": "stream",
     "text": [
      "0 5 -5 1 1 16\n"
     ]
    }
   ],
   "source": [
    "## bitwise\n",
    "x = 4\n",
    "y = 1\n",
    "\n",
    "a = x & y\n",
    "b = x | y\n",
    "c = ~x\n",
    "d = x ^ 5\n",
    "e = x >> 2\n",
    "f = x << 2\n",
    "\n",
    "print(a, b, c, d, e, f)"
   ]
  },
  {
   "cell_type": "markdown",
   "metadata": {},
   "source": [
    "## Scenario\n",
    "There once was a hat. The hat contained no rabbit, but a list of five numbers: 1, 2, 3, 4, and 5.\n",
    "\n",
    "Your task is to:\n",
    "\n",
    "write a line of code that prompts the user to replace the middle number in the list with an integer number entered by the user (step 1)\n",
    "write a line of code that removes the last element from the list (step 2)\n",
    "write a line of code that prints the length of the existing list (step 3.)\n",
    "Ready for this challenge?"
   ]
  },
  {
   "cell_type": "markdown",
   "metadata": {},
   "source": [
    "## code\n",
    "hatList = [1, 2, 3, 4, 5]  # This is an existing list of numbers hidden in the hat.\n",
    "\n",
    "# Step 1: write a line of code that prompts the user\n",
    "# to replace the middle number with an integer number entered by the user.\n",
    "\n",
    "# Step 2: write a line of code here that removes the last element from the list.\n",
    "\n",
    "# Step 3: write a line of code here that prints the length of the existing list.\n",
    "\n",
    "print(hatList)"
   ]
  },
  {
   "cell_type": "markdown",
   "metadata": {},
   "source": [
    "## list.insert(location, value)"
   ]
  },
  {
   "cell_type": "markdown",
   "metadata": {},
   "source": [
    "## Random imp"
   ]
  },
  {
   "cell_type": "code",
   "execution_count": 11,
   "metadata": {},
   "outputs": [],
   "source": [
    "variable1 = 1\n",
    "variable2 = 2\n",
    "\n",
    "variable1, variable2 = variable2, variable1"
   ]
  },
  {
   "cell_type": "code",
   "execution_count": 12,
   "metadata": {},
   "outputs": [
    {
     "name": "stdout",
     "output_type": "stream",
     "text": [
      "[5, 3, 8, 1, 10]\n"
     ]
    }
   ],
   "source": [
    "myList = [10, 1, 8, 3, 5]\n",
    "length = len(myList)\n",
    "\n",
    "for i in range(length // 2):\n",
    "    myList[i], myList[length - i - 1] = myList[length - i - 1], myList[i]\n",
    "\n",
    "print(myList)"
   ]
  },
  {
   "cell_type": "markdown",
   "metadata": {},
   "source": [
    "## Scenario\n",
    "The Beatles were one of the most popular music group of the 1960s, and the best-selling band in history. \n",
    "\n",
    "Some people consider them to be the most influential act of the rock era. \n",
    "\n",
    "Indeed, they were included in Time magazine's compilation of the 20th Century's 100 most influential people.\n",
    "\n",
    "The band underwent many line-up changes, culminating in 1962 with the line-up of John Lennon, Paul McCartney, George Harrison, and Richard Starkey (better known as Ringo Starr).\n",
    "\n",
    "\n",
    "Write a program that reflects these changes and lets you practice with the concept of lists. Your task is to:\n",
    "\n",
    "step 1: create an empty list named beatles;\n",
    "\n",
    "step 2: use the append() method to add the following members of the band to the list: John Lennon, Paul McCartney, and George Harrison;\n",
    "\n",
    "step 3: use the for loop and the append() method to prompt the user to add the following members of the band to the list: Stu Sutcliffe, and Pete Best;\n",
    "\n",
    "step 4: use the del instruction to remove Stu Sutcliffe and Pete Best from the list;\n",
    "\n",
    "step 5: use the insert() method to add Ringo Starr to the beginning of the list."
   ]
  },
  {
   "cell_type": "markdown",
   "metadata": {},
   "source": [
    "## Challenge\n",
    "The bubble sort\n",
    "Now that you can effectively juggle the elements of lists, it's time to learn how to sort them. Many sorting algorithms have been invented so far, which differ a lot in speed, as well as in complexity. We are going to show you a very simple algorithm, easy to understand, but unfortunately not too efficient, either. It's used very rarely, and certainly not for large and extensive lists.\n",
    "\n",
    "Let's say that a list can be sorted in two ways:\n",
    "\n",
    "increasing (or more precisely - non-decreasing) - if in every pair of adjacent elements, the former element is not greater than the latter;\n",
    "decreasing (or more precisely - non-increasing) - if in every pair of adjacent elements, the former element is not less than the latter.\n",
    "In the following sections, we'll sort the list in increasing order, so that the numbers will be ordered from the smallest to the largest.\n",
    "\n",
    "Here's the list:\n",
    "\n",
    "8\n",
    "10\n",
    "6\n",
    "2\n",
    "4\n",
    "We'll try to use the following approach: we'll take the first and the second elements and compare them; if we determine that they're in the wrong order (i.e., the first is greater than the second), we'll swap them round; if their order is valid, we'll do nothing. A glance at our list confirms the latter - the elements 01 and 02 are in the proper order, as in 8 < 10.\n",
    "\n",
    "Now look at the second and the third elements. They're in the wrong positions. We have to swap them:\n",
    "\n",
    "8\n",
    "6\n",
    "10\n",
    "2\n",
    "4\n",
    "\n",
    "We go further, and look at the third and the fourth elements. Again, this is not what it's supposed to be like. We have to swap them:\n",
    "\n",
    "8\n",
    "6\n",
    "2\n",
    "10\n",
    "4\n",
    "\n",
    "Now we check the fourth and the fifth elements. Yes, they too are in the wrong positions. Another swap occurs:\n",
    "\n",
    "8\n",
    "6\n",
    "2\n",
    "4\n",
    "10\n",
    "\n",
    "The first pass through the list is already finished. We're still far from finishing our job, but something curious has happened in the meantime. The largest element, 10, has already gone to the end of the list. Note that this is the desired place for it. All the remaining elements form a picturesque mess, but this one is already in place.\n",
    "\n",
    "\n",
    "\n",
    "Now, for a moment, try to imagine the list in a slightly different way - namely, like this:\n",
    "\n",
    "10\n",
    "4\n",
    "2\n",
    "6\n",
    "8\n",
    "\n",
    "Look - 10 is at the top. We could say that it floated up from the bottom to the surface, just like the bubble in a glass of champagne. The sorting method derives its name from the same observation - it's called a bubble sort.\n",
    "\n",
    "Now we start with the second pass through the list. We look at the first and second elements - a swap is necessary:\n",
    "\n",
    "6\n",
    "8\n",
    "2\n",
    "4\n",
    "10\n",
    "\n",
    "Time for the second and third elements: we have to swap them too:\n",
    "\n",
    "6\n",
    "2\n",
    "8\n",
    "4\n",
    "10\n",
    "\n",
    "Now the third and fourth elements, and the second pass is finished, as 8 is already in place:\n",
    "\n",
    "6\n",
    "2\n",
    "4\n",
    "8\n",
    "10\n",
    "\n",
    "We start the next pass immediately. Watch the first and the second elements carefully - another swap is needed:\n",
    "\n",
    "2\n",
    "6\n",
    "4\n",
    "8\n",
    "10\n",
    "\n",
    "Now 6 needs to go into place. We swap the second and the third elements:\n",
    "\n",
    "2\n",
    "4\n",
    "6\n",
    "8\n",
    "10\n",
    "\n",
    "The list is already sorted. We have nothing more to do. This is exactly what we want.\n",
    "\n",
    "As you can see, the essence of this algorithm is simple: we compare the adjacent elements, and by swapping some of them, we achieve our goal.\n",
    "\n",
    "Let's code in Python all the actions performed during a single pass through the list, and then we'll consider how many passes we actually need to perform it. We haven't explained this so far, and we'll do that a little later."
   ]
  },
  {
   "cell_type": "code",
   "execution_count": 14,
   "metadata": {},
   "outputs": [
    {
     "name": "stdout",
     "output_type": "stream",
     "text": [
      "[5, 3, 1, 2, 4]\n",
      "[4, 2, 1, 3, 5]\n"
     ]
    }
   ],
   "source": [
    "lst = [5, 3, 1, 2, 4]\n",
    "print(lst)\n",
    "\n",
    "lst.reverse()\n",
    "print(lst)"
   ]
  },
  {
   "cell_type": "markdown",
   "metadata": {},
   "source": [
    "## Scenario\n",
    "Imagine a list - not very long, not very complicated, just a simple list containing some integer numbers. Some of these numbers may be repeated, and this is the clue. We don't want any repetitions. We want them to be removed.\n",
    "\n",
    "Your task is to write a program which removes all the number repetitions from the list. The goal is to have a list in which all the numbers appear not more than once.\n",
    "\n",
    "Note: assume that the source list is hard-coded inside the code - you don't have to enter it from the keyboard. Of course, you can improve the code and add a part that can carry out a conversation with the user and obtain all the data from her/him.\n",
    "\n",
    "Hint: we encourage you to create a new list as a temporary work area - you don't need to update the list in situ.\n",
    "\n",
    "myList = [1, 2, 4, 4, 1, 4, 2, 6, 2, 9]\n",
    "\n",
    "put your code here\n",
    "\n",
    "print(\"The list with unique elements only:\")\n",
    "\n",
    "print(myList)"
   ]
  },
  {
   "cell_type": "markdown",
   "metadata": {},
   "source": [
    "## clever"
   ]
  },
  {
   "cell_type": "code",
   "execution_count": 15,
   "metadata": {},
   "outputs": [
    {
     "name": "stdout",
     "output_type": "stream",
     "text": [
      "[[0, 1, 2, 3, 4, 5, 6, 7], [0, 1, 2, 3, 4, 5, 6, 7], [0, 1, 2, 3, 4, 5, 6, 7], [0, 1, 2, 3, 4, 5, 6, 7], [0, 1, 2, 3, 4, 5, 6, 7], [0, 1, 2, 3, 4, 5, 6, 7], [0, 1, 2, 3, 4, 5, 6, 7], [0, 1, 2, 3, 4, 5, 6, 7]]\n"
     ]
    }
   ],
   "source": [
    "board=[]\n",
    "board = [[i for i in range(8)] for j in range(8)]\n",
    "print(board)"
   ]
  },
  {
   "cell_type": "code",
   "execution_count": 20,
   "metadata": {},
   "outputs": [
    {
     "name": "stdout",
     "output_type": "stream",
     "text": [
      "*\n",
      "*\n",
      "*\n"
     ]
    }
   ],
   "source": [
    "i=0\n",
    "while i<6:\n",
    "    i+=1\n",
    "    if i%2==0:\n",
    "        continue\n",
    "    print('*')"
   ]
  },
  {
   "cell_type": "code",
   "execution_count": 19,
   "metadata": {},
   "outputs": [
    {
     "data": {
      "text/plain": [
       "True"
      ]
     },
     "execution_count": 19,
     "metadata": {},
     "output_type": "execute_result"
    }
   ],
   "source": [
    "z=10\n",
    "y=0\n",
    "x=y<z and z>y or y>z and z<y\n",
    "x"
   ]
  },
  {
   "cell_type": "code",
   "execution_count": 21,
   "metadata": {},
   "outputs": [
    {
     "data": {
      "text/plain": [
       "[]"
      ]
     },
     "execution_count": 21,
     "metadata": {},
     "output_type": "execute_result"
    }
   ],
   "source": [
    "nums=[1,2,3]\n",
    "vals=nums[-1:-2]\n",
    "vals"
   ]
  },
  {
   "cell_type": "code",
   "execution_count": 24,
   "metadata": {},
   "outputs": [
    {
     "data": {
      "text/plain": [
       "[[0, 1, 2, 3], [0, 1, 2, 3]]"
      ]
     },
     "execution_count": 24,
     "metadata": {},
     "output_type": "execute_result"
    }
   ],
   "source": [
    "lst=[[0,1,2,3] for i in range(2)]\n",
    "lst"
   ]
  },
  {
   "cell_type": "code",
   "execution_count": 25,
   "metadata": {},
   "outputs": [
    {
     "name": "stdout",
     "output_type": "stream",
     "text": [
      "#\n",
      "#\n",
      "#\n",
      "#\n"
     ]
    }
   ],
   "source": [
    "var=1\n",
    "while var<10:\n",
    "    print('#')\n",
    "    var= var<<1"
   ]
  },
  {
   "cell_type": "code",
   "execution_count": 26,
   "metadata": {},
   "outputs": [
    {
     "name": "stdout",
     "output_type": "stream",
     "text": [
      "Hello, my name is James Bond\n",
      "Hello, my name is Luke Skywalker\n"
     ]
    }
   ],
   "source": [
    "def introduction(firstName, lastName):\n",
    "    print(\"Hello, my name is\", firstName, lastName)\n",
    "\n",
    "introduction(firstName = \"James\", lastName = \"Bond\")\n",
    "introduction(lastName = \"Skywalker\", firstName = \"Luke\")"
   ]
  },
  {
   "cell_type": "code",
   "execution_count": 27,
   "metadata": {},
   "outputs": [
    {
     "name": "stdout",
     "output_type": "stream",
     "text": [
      "Do I know that variable? 2\n",
      "2\n"
     ]
    }
   ],
   "source": [
    "def myFunction():\n",
    "    global var\n",
    "    var = 2\n",
    "    print(\"Do I know that variable?\", var)\n",
    "\n",
    "var = 1\n",
    "myFunction()\n",
    "print(var)"
   ]
  },
  {
   "cell_type": "markdown",
   "metadata": {},
   "source": [
    "## fibonacci"
   ]
  },
  {
   "cell_type": "code",
   "execution_count": 28,
   "metadata": {},
   "outputs": [
    {
     "name": "stdout",
     "output_type": "stream",
     "text": [
      "1 -> 1\n",
      "2 -> 1\n",
      "3 -> 2\n",
      "4 -> 3\n",
      "5 -> 5\n",
      "6 -> 8\n",
      "7 -> 13\n",
      "8 -> 21\n",
      "9 -> 34\n"
     ]
    }
   ],
   "source": [
    "def fib(n):\n",
    "    if n < 1:\n",
    "         return None\n",
    "    if n < 3:\n",
    "        return 1\n",
    "\n",
    "    elem1 = elem2 = 1\n",
    "    sum = 0\n",
    "    for i in range(3, n + 1):\n",
    "        sum = elem1 + elem2\n",
    "        elem1, elem2 = elem2, sum\n",
    "    return sum\n",
    "\n",
    "for n in range(1, 10): # testing\n",
    "    print(n, \"->\", fib(n))"
   ]
  },
  {
   "cell_type": "code",
   "execution_count": 30,
   "metadata": {},
   "outputs": [
    {
     "name": "stdout",
     "output_type": "stream",
     "text": [
      "1 -> 1\n",
      "2 -> 1\n",
      "3 -> 2\n",
      "4 -> 3\n",
      "5 -> 5\n",
      "6 -> 8\n",
      "7 -> 13\n",
      "8 -> 21\n",
      "9 -> 34\n"
     ]
    }
   ],
   "source": [
    "def fib(n):\n",
    "    if n < 1:\n",
    "        return None\n",
    "    if n < 3:\n",
    "        return 1\n",
    "    return fib(n - 1) + fib(n - 2)\n",
    "\n",
    "for n in range(1, 10):\n",
    "    print(n, \"->\", fib(n))"
   ]
  },
  {
   "cell_type": "code",
   "execution_count": 31,
   "metadata": {},
   "outputs": [
    {
     "name": "stdout",
     "output_type": "stream",
     "text": [
      "1 -> 1\n",
      "2 -> 1\n",
      "3 -> 2\n",
      "4 -> 3\n",
      "5 -> 5\n",
      "6 -> 8\n",
      "7 -> 13\n",
      "8 -> 21\n",
      "9 -> 34\n"
     ]
    }
   ],
   "source": [
    "def factorialFun(n):\n",
    "    if n < 0:\n",
    "        return None\n",
    "    if n < 2:\n",
    "        return 1\n",
    "    return n * factorialFun(n - 1)\n",
    "for n in range(1, 10):\n",
    "    print(n, \"->\", fib(n))"
   ]
  },
  {
   "cell_type": "code",
   "execution_count": 32,
   "metadata": {},
   "outputs": [
    {
     "name": "stdout",
     "output_type": "stream",
     "text": [
      "{'cat': 'chat', 'dog': 'chien', 'horse': 'cheval', 'duck': 'canard'}\n"
     ]
    }
   ],
   "source": [
    "dict = {\"cat\" : \"chat\", \"dog\" : \"chien\", \"horse\" : \"cheval\"}\n",
    "dict.update({\"duck\" : \"canard\"})\n",
    "print(dict)"
   ]
  },
  {
   "cell_type": "code",
   "execution_count": 34,
   "metadata": {},
   "outputs": [
    {
     "name": "stdout",
     "output_type": "stream",
     "text": [
      "{'cat': 'chat', 'dog': 'chien', 'horse': 'cheval', 'duck': 'canard'}\n",
      "{'cat': 'chat', 'dog': 'chien', 'horse': 'cheval'}\n"
     ]
    }
   ],
   "source": [
    "dict = {\"cat\" : \"chat\", \"dog\" : \"chien\", \"horse\" : \"cheval\"}\n",
    "dict.update({\"duck\" : \"canard\"})\n",
    "print(dict)\n",
    "dict.popitem()\n",
    "print(dict)"
   ]
  },
  {
   "cell_type": "markdown",
   "metadata": {},
   "source": [
    "you need a program to evaluate the students' average scores;\n",
    "\n",
    "the program should ask for the student's name, followed by her/his single score;\n",
    "\n",
    "the names may be entered in any order;\n",
    "\n",
    "entering an empty name finishes the inputting of the data;\n",
    "\n",
    "a list of all names, together with the evaluated average score, should be then emitted.\n",
    "\n",
    "Enter the student's name and press Enter to stop: Bob\n",
    "\n",
    "Enter the student's score (0-10): 7\n",
    "\n",
    "Enter the student's name (or type exit to stop): Andy\n",
    "\n",
    "Enter the student's score (0-10): 3\n",
    "\n",
    "Enter the student's name (or type exit to stop): Bob\n",
    "\n",
    "Enter the student's score (0-10): 2\n",
    "\n",
    "Enter the student's name (or type exit to stop): Andy\n",
    "\n",
    "Enter the student's score (0-10): 10\n",
    "\n",
    "Enter the student's name (or type exit to stop): Andy\n",
    "\n",
    "Enter the student's score (0-10): 3\n",
    "\n",
    "Enter the student's name (or type exit to stop): Bob\n",
    "\n",
    "Enter the student's score (0-10): 9\n",
    "\n",
    "Enter the student's name (or type exit to stop):\n",
    "\n",
    "Andy : 5.333333333333333\n",
    "\n",
    "Bob : 6.0"
   ]
  },
  {
   "cell_type": "code",
   "execution_count": null,
   "metadata": {},
   "outputs": [],
   "source": [
    "schoolClass = {}\n",
    "\n",
    "while True:\n",
    "    name = input(\"Enter the student's name (or type exit to stop): \")\n",
    "    if name == 'exit':\n",
    "        break\n",
    "    \n",
    "    score = int(input(\"Enter the student's score (0-10): \"))\n",
    "    \n",
    "    if name in schoolClass:\n",
    "        schoolClass[name] += (score,)\n",
    "    else:\n",
    "        schoolClass[name] = (score,)\n",
    "        \n",
    "for name in sorted(schoolClass.keys()):\n",
    "    sum = 0\n",
    "    counter = 0\n",
    "    for score in schoolClass[name]:\n",
    "        sum += score\n",
    "        counter += 1\n",
    "    print(name, \":\", sum / counter)\n",
    "polEngDict.clear()   \n",
    "copyDict = polEngDict.copy()"
   ]
  },
  {
   "cell_type": "markdown",
   "metadata": {},
   "source": [
    "## Scenario\n",
    "Your task is to write a simple program which pretends to play tic-tac-toe with the user.\n",
    "\n",
    "To make it all easier for you, we've decided to simplify the game. Here are our assumptions:\n",
    "\n",
    "the computer (i.e., your program) should play the game using 'X's;\n",
    "\n",
    "the user (e.g., you) should play the game using 'O's;\n",
    "\n",
    "the first move belongs to the computer - it always puts its first 'X' in the middle of the board;\n",
    "\n",
    "all the squares are numbered row by row starting with 1 (see the example session below for reference)\n",
    "\n",
    "the user inputs their move by entering the number of the square they choose - the number must be valid, i.e., it must \n",
    "\n",
    "be an integer, it must be greater than 0 and less than 10, and it cannot point to a field which is already occupied;\n",
    "\n",
    "the program checks if the game is over - there are four possible verdicts: the game should continue, or the game ends \n",
    "\n",
    "with a tie, your win, or the computer's win;\n",
    "\n",
    "the computer responds with its move and the check is repeated;\n",
    "\n",
    "don't implement any form of artificial intelligence - a random field choice made by the computer is good enough for \n",
    "\n",
    "the game.\n",
    "\n",
    "The example session with the program may look as follows:\n",
    "\n",
    "+-------+-------+-------+\n",
    "\n",
    "|       |       |       |\n",
    "\n",
    "|   1   |   2   |   3   |\n",
    "\n",
    "|       |       |       |\n",
    "\n",
    "+-------+-------+-------+\n",
    "\n",
    "|       |       |       |\n",
    "\n",
    "|   4   |   X   |   6   |\n",
    "\n",
    "|       |       |       |\n",
    "\n",
    "+-------+-------+-------+\n",
    "\n",
    "|       |       |       |\n",
    "\n",
    "|   7   |   8   |   9   |\n",
    "\n",
    "|       |       |       |\n",
    "\n",
    "+-------+-------+-------+\n",
    "\n",
    "Enter your move: 1\n",
    "\n",
    "+-------+-------+-------+\n",
    "\n",
    "|       |       |       |\n",
    "\n",
    "|   O   |   2   |   3   |\n",
    "\n",
    "|       |       |       |\n",
    "\n",
    "+-------+-------+-------+\n",
    "\n",
    "|       |       |       |\n",
    "\n",
    "|   4   |   X   |   6   |\n",
    "\n",
    "|       |       |       |\n",
    "\n",
    "+-------+-------+-------+\n",
    "\n",
    "|       |       |       |\n",
    "\n",
    "|   7   |   8   |   9   |\n",
    "\n",
    "|       |       |       |\n",
    "\n",
    "+-------+-------+-------+\n",
    "\n",
    "+-------+-------+-------+\n",
    "\n",
    "|       |       |       |\n",
    "\n",
    "|   O   |   X   |   3   |\n",
    "\n",
    "|       |       |       |\n",
    "\n",
    "+-------+-------+-------+\n",
    "\n",
    "|       |       |       |\n",
    "\n",
    "|   4   |   X   |   6   |\n",
    "\n",
    "|       |       |       |\n",
    "\n",
    "+-------+-------+-------+\n",
    "\n",
    "|       |       |       |\n",
    "\n",
    "|   7   |   8   |   9   |\n",
    "\n",
    "|       |       |       |\n",
    "\n",
    "+-------+-------+-------+\n",
    "\n",
    "Enter your move: 8\n",
    "\n",
    "+-------+-------+-------+\n",
    "\n",
    "|       |       |       |\n",
    "\n",
    "|   O   |   X   |   3   |\n",
    "\n",
    "|       |       |       |\n",
    "\n",
    "+-------+-------+-------+\n",
    "\n",
    "|       |       |       |\n",
    "\n",
    "|   4   |   X   |   6   |\n",
    "\n",
    "|       |       |       |\n",
    "\n",
    "+-------+-------+-------+\n",
    "\n",
    "|       |       |       |\n",
    "\n",
    "|   7   |   O   |   9   |\n",
    "\n",
    "|       |       |       |\n",
    "\n",
    "+-------+-------+-------+\n",
    "\n",
    "+-------+-------+-------+\n",
    "\n",
    "|       |       |       |\n",
    "\n",
    "|   O   |   X   |   3   |\n",
    "\n",
    "|       |       |       |\n",
    "\n",
    "+-------+-------+-------+\n",
    "\n",
    "|       |       |       |\n",
    "\n",
    "|   4   |   X   |   X   |\n",
    "\n",
    "|       |       |       |\n",
    "\n",
    "+-------+-------+-------+\n",
    "\n",
    "|       |       |       |\n",
    "\n",
    "|   7   |   O   |   9   |\n",
    "\n",
    "|       |       |       |\n",
    "\n",
    "+-------+-------+-------+\n",
    "\n",
    "Enter your move: 4\n",
    "\n",
    "+-------+-------+-------+\n",
    "\n",
    "|       |       |       |\n",
    "\n",
    "|   O   |   X   |   3   |\n",
    "\n",
    "|       |       |       |\n",
    "\n",
    "+-------+-------+-------+\n",
    "\n",
    "|       |       |       |\n",
    "\n",
    "|   O   |   X   |   X   |\n",
    "\n",
    "|       |       |       |\n",
    "\n",
    "+-------+-------+-------+\n",
    "\n",
    "|       |       |       |\n",
    "\n",
    "|   7   |   O   |   9   |\n",
    "\n",
    "|       |       |       |\n",
    "\n",
    "+-------+-------+-------+\n",
    "\n",
    "+-------+-------+-------+\n",
    "\n",
    "|       |       |       |\n",
    "\n",
    "|   O   |   X   |   X   |\n",
    "\n",
    "|       |       |       |\n",
    "\n",
    "+-------+-------+-------+\n",
    "\n",
    "|       |       |       |\n",
    "\n",
    "|   O   |   X   |   X   |\n",
    "\n",
    "|       |       |       |\n",
    "\n",
    "+-------+-------+-------+\n",
    "\n",
    "|       |       |       |\n",
    "\n",
    "|   7   |   O   |   9   |\n",
    "\n",
    "|       |       |       |\n",
    "\n",
    "+-------+-------+-------+\n",
    "\n",
    "Enter your move: 7\n",
    "\n",
    "+-------+-------+-------+\n",
    "\n",
    "|       |       |       |\n",
    "\n",
    "|   O   |   X   |   X   |\n",
    "\n",
    "|       |       |       |\n",
    "\n",
    "+-------+-------+-------+\n",
    "\n",
    "|       |       |       |\n",
    "\n",
    "|   O   |   X   |   X   |\n",
    "\n",
    "|       |       |       |\n",
    "\n",
    "+-------+-------+-------+\n",
    "\n",
    "|       |       |       |\n",
    "\n",
    "|   O   |   O   |   9   |\n",
    "\n",
    "|       |       |       |\n",
    "\n",
    "+-------+-------+-------+\n",
    "\n",
    "You won!\n",
    "\n",
    "Requirements\n",
    "\n",
    "Implement the following features:\n",
    "\n",
    "the board should be stored as a three-element list, while each element is another three-element list (the inner lists \n",
    "\n",
    "represent rows) so that all of the squares may be accessed using the following syntax: \n",
    "\n",
    "board[row][column]\n",
    "\n",
    "each of the inner list's elements can contain 'O', 'X', or a digit representing the square's number (such a square is \n",
    "\n",
    "considered free)\n",
    "\n",
    "the board's appearance should be exactly the same as the one presented in the example.\n",
    "\n",
    "implement the functions defined for you in the editor.\n",
    "\n",
    "Drawing a random integer number can be done by utilizing a Python function called randrange(). The example program \n",
    "\n",
    "below shows how to use it (the program prints ten random numbers from 0 to 8).\n",
    "\n",
    "Note: the from-import instruction provides an access to the randrange function defined within an external Python \n",
    "\n",
    "module callled random.\n",
    "\n",
    "from random import randrange\n",
    "\n",
    "for i in range(10):\n",
    "\n",
    "    print(randrange(8))\n"
   ]
  },
  {
   "cell_type": "code",
   "execution_count": null,
   "metadata": {},
   "outputs": [],
   "source": [
    "def DisplayBoard(board):\n",
    "#\n",
    "# the function accepts one parameter containing the board's current status\n",
    "# and prints it out to the console\n",
    "#\n",
    "\n",
    "def EnterMove(board):\n",
    "#\n",
    "# the function accepts the board current status, asks the user about their move, \n",
    "# checks the input and updates the board according to the user's decision\n",
    "#\n",
    "\n",
    "def MakeListOfFreeFields(board):\n",
    "#\n",
    "# the function browses the board and builds a list of all the free squares; \n",
    "# the list consists of tuples, while each tuple is a pair of row and column numbers\n",
    "#\n",
    "\n",
    "def VictoryFor(board, sign):\n",
    "#\n",
    "# the function analyzes the board status in order to check if \n",
    "# the player using 'O's or 'X's has won the game\n",
    "#\n",
    "\n",
    "def DrawMove(board):\n",
    "#\n",
    "# the function draws the computer's move and updates the board\n",
    "#"
   ]
  },
  {
   "cell_type": "code",
   "execution_count": 35,
   "metadata": {},
   "outputs": [
    {
     "name": "stdout",
     "output_type": "stream",
     "text": [
      "4\n"
     ]
    }
   ],
   "source": [
    "def fun(x):\n",
    "    x+=1\n",
    "    return x\n",
    "x=2\n",
    "x=fun(x+1)\n",
    "print(x)"
   ]
  },
  {
   "cell_type": "code",
   "execution_count": 36,
   "metadata": {},
   "outputs": [
    {
     "name": "stdout",
     "output_type": "stream",
     "text": [
      "two\n"
     ]
    }
   ],
   "source": [
    "dct={'one':'two','three':'one','two':'three'}\n",
    "v=dct['one']\n",
    "for k in range(len(dct)):\n",
    "    v=dct[v]\n",
    "print(v)"
   ]
  },
  {
   "cell_type": "code",
   "execution_count": 37,
   "metadata": {},
   "outputs": [
    {
     "ename": "TypeError",
     "evalue": "unsupported operand type(s) for +: 'NoneType' and 'int'",
     "output_type": "error",
     "traceback": [
      "\u001b[1;31m---------------------------------------------------------------------------\u001b[0m",
      "\u001b[1;31mTypeError\u001b[0m                                 Traceback (most recent call last)",
      "\u001b[1;32m<ipython-input-37-184bab741ee9>\u001b[0m in \u001b[0;36m<module>\u001b[1;34m\u001b[0m\n\u001b[0;32m      4\u001b[0m     \u001b[1;32melse\u001b[0m\u001b[1;33m:\u001b[0m\u001b[1;33m\u001b[0m\u001b[0m\n\u001b[0;32m      5\u001b[0m         \u001b[1;32mreturn\u001b[0m\u001b[1;33m\u001b[0m\u001b[0m\n\u001b[1;32m----> 6\u001b[1;33m \u001b[0mprint\u001b[0m\u001b[1;33m(\u001b[0m\u001b[0mfun\u001b[0m\u001b[1;33m(\u001b[0m\u001b[0mfun\u001b[0m\u001b[1;33m(\u001b[0m\u001b[1;36m2\u001b[0m\u001b[1;33m)\u001b[0m\u001b[1;33m)\u001b[0m\u001b[1;33m+\u001b[0m\u001b[1;36m1\u001b[0m\u001b[1;33m)\u001b[0m\u001b[1;33m\u001b[0m\u001b[0m\n\u001b[0m",
      "\u001b[1;31mTypeError\u001b[0m: unsupported operand type(s) for +: 'NoneType' and 'int'"
     ]
    }
   ],
   "source": [
    "def fun(x):\n",
    "    if x%2==0:\n",
    "        return 1\n",
    "    else:\n",
    "        return\n",
    "print(fun(fun(2))+1)"
   ]
  },
  {
   "cell_type": "code",
   "execution_count": 38,
   "metadata": {},
   "outputs": [
    {
     "name": "stdout",
     "output_type": "stream",
     "text": [
      "16\n"
     ]
    }
   ],
   "source": [
    "def func1(x):\n",
    "    return x**x\n",
    "def func2(x):\n",
    "    return func1(x)*func1(x)\n",
    "print(func2(2))"
   ]
  },
  {
   "cell_type": "code",
   "execution_count": 39,
   "metadata": {},
   "outputs": [
    {
     "name": "stdout",
     "output_type": "stream",
     "text": [
      "2\n"
     ]
    }
   ],
   "source": [
    "tup=(1,2,4,8)\n",
    "tup=tup[1:-1]\n",
    "tup=tup[0]\n",
    "print(tup)"
   ]
  },
  {
   "cell_type": "code",
   "execution_count": 40,
   "metadata": {},
   "outputs": [
    {
     "name": "stdout",
     "output_type": "stream",
     "text": [
      "21"
     ]
    }
   ],
   "source": [
    "dct={}\n",
    "dct['1']=(1,2)\n",
    "dct['2']=(2,1)\n",
    "for x in dct.keys():\n",
    "    print(dct[x][1],end='')"
   ]
  },
  {
   "cell_type": "code",
   "execution_count": 41,
   "metadata": {},
   "outputs": [
    {
     "name": "stdout",
     "output_type": "stream",
     "text": [
      "0\n"
     ]
    }
   ],
   "source": [
    "def fun(x,y):\n",
    "    if x==y:\n",
    "        return x\n",
    "    else:\n",
    "        return fun(x,y-1)\n",
    "print(fun(0,3))"
   ]
  },
  {
   "cell_type": "code",
   "execution_count": 42,
   "metadata": {},
   "outputs": [
    {
     "name": "stdout",
     "output_type": "stream",
     "text": [
      "[]\n"
     ]
    }
   ],
   "source": [
    "num=[1,2,3]\n",
    "vals=num\n",
    "del vals[:]\n",
    "print(num)"
   ]
  },
  {
   "cell_type": "code",
   "execution_count": 43,
   "metadata": {},
   "outputs": [
    {
     "name": "stdout",
     "output_type": "stream",
     "text": [
      "1 1 2\n"
     ]
    }
   ],
   "source": [
    "x=1\n",
    "y=2\n",
    "x,y,z=x,x,y\n",
    "z,y,z=x,y,z\n",
    "print(x,y,z)"
   ]
  },
  {
   "cell_type": "code",
   "execution_count": 44,
   "metadata": {},
   "outputs": [
    {
     "ename": "AttributeError",
     "evalue": "'dict' object has no attribute 'vals'",
     "output_type": "error",
     "traceback": [
      "\u001b[1;31m---------------------------------------------------------------------------\u001b[0m",
      "\u001b[1;31mAttributeError\u001b[0m                            Traceback (most recent call last)",
      "\u001b[1;32m<ipython-input-44-dbbee647aa8a>\u001b[0m in \u001b[0;36m<module>\u001b[1;34m\u001b[0m\n\u001b[0;32m      1\u001b[0m \u001b[0mdd\u001b[0m\u001b[1;33m=\u001b[0m\u001b[1;33m{\u001b[0m\u001b[1;34m'0'\u001b[0m\u001b[1;33m:\u001b[0m\u001b[1;34m'1'\u001b[0m\u001b[1;33m,\u001b[0m\u001b[1;34m'1'\u001b[0m\u001b[1;33m:\u001b[0m\u001b[1;34m'0'\u001b[0m\u001b[1;33m}\u001b[0m\u001b[1;33m\u001b[0m\u001b[0m\n\u001b[1;32m----> 2\u001b[1;33m \u001b[1;32mfor\u001b[0m \u001b[0mx\u001b[0m \u001b[1;32min\u001b[0m \u001b[0mdd\u001b[0m\u001b[1;33m.\u001b[0m\u001b[0mvals\u001b[0m\u001b[1;33m(\u001b[0m\u001b[1;33m)\u001b[0m\u001b[1;33m:\u001b[0m\u001b[1;33m\u001b[0m\u001b[0m\n\u001b[0m\u001b[0;32m      3\u001b[0m     \u001b[0mprint\u001b[0m\u001b[1;33m(\u001b[0m\u001b[0mx\u001b[0m\u001b[1;33m,\u001b[0m\u001b[0mend\u001b[0m\u001b[1;33m=\u001b[0m\u001b[1;34m\"\"\u001b[0m\u001b[1;33m)\u001b[0m\u001b[1;33m\u001b[0m\u001b[0m\n",
      "\u001b[1;31mAttributeError\u001b[0m: 'dict' object has no attribute 'vals'"
     ]
    }
   ],
   "source": [
    "dd={'0':'1','1':'0'}\n",
    "for x in dd.vals():\n",
    "    print(x,end=\"\")"
   ]
  },
  {
   "cell_type": "code",
   "execution_count": 45,
   "metadata": {},
   "outputs": [
    {
     "name": "stdout",
     "output_type": "stream",
     "text": [
      "#\n",
      "#\n",
      "#\n"
     ]
    }
   ],
   "source": [
    "lst=[[x for x in range(3)] for y in range(3)]\n",
    "for r in range(3):\n",
    "    for c in range(3):\n",
    "        if lst[r][c]%2!=0:\n",
    "            print('#')"
   ]
  },
  {
   "cell_type": "code",
   "execution_count": 47,
   "metadata": {},
   "outputs": [
    {
     "data": {
      "text/plain": [
       "[]"
      ]
     },
     "execution_count": 47,
     "metadata": {},
     "output_type": "execute_result"
    }
   ],
   "source": [
    "lst=[i for i in range(-1,-2)]\n",
    "lst"
   ]
  },
  {
   "cell_type": "code",
   "execution_count": 49,
   "metadata": {},
   "outputs": [
    {
     "data": {
      "text/plain": [
       "0"
      ]
     },
     "execution_count": 49,
     "metadata": {},
     "output_type": "execute_result"
    }
   ],
   "source": [
    "\n",
    "x=3%2\n",
    "x%=2\n",
    "y=2%x\n",
    "y"
   ]
  },
  {
   "cell_type": "markdown",
   "metadata": {},
   "source": [
    "## import method\n",
    "In the third method, the import's syntax is a more aggressive form of the previously presented one:\n",
    "\n",
    "from module import *\n",
    "\n",
    "As you can see, the name of an entity (or the list of entities' names) is replaced with a single asterisk (*).\n",
    "\n",
    "Such an instruction imports all entities from the indicated module."
   ]
  },
  {
   "cell_type": "code",
   "execution_count": 50,
   "metadata": {},
   "outputs": [
    {
     "name": "stdout",
     "output_type": "stream",
     "text": [
      "1.0\n"
     ]
    }
   ],
   "source": [
    "from math import pi as PI, sin as sine\n",
    "\n",
    "print(sine(PI/2))"
   ]
  },
  {
   "cell_type": "code",
   "execution_count": 52,
   "metadata": {},
   "outputs": [
    {
     "name": "stdout",
     "output_type": "stream",
     "text": [
      "__doc__\n",
      "__loader__\n",
      "__name__\n",
      "__package__\n",
      "__spec__\n",
      "acos\n",
      "acosh\n",
      "asin\n",
      "asinh\n",
      "atan\n",
      "atan2\n",
      "atanh\n",
      "ceil\n",
      "copysign\n",
      "cos\n",
      "cosh\n",
      "degrees\n",
      "e\n",
      "erf\n",
      "erfc\n",
      "exp\n",
      "expm1\n",
      "fabs\n",
      "factorial\n",
      "floor\n",
      "fmod\n",
      "frexp\n",
      "fsum\n",
      "gamma\n",
      "gcd\n",
      "hypot\n",
      "inf\n",
      "isclose\n",
      "isfinite\n",
      "isinf\n",
      "isnan\n",
      "ldexp\n",
      "lgamma\n",
      "log\n",
      "log10\n",
      "log1p\n",
      "log2\n",
      "modf\n",
      "nan\n",
      "pi\n",
      "pow\n",
      "radians\n",
      "sin\n",
      "sinh\n",
      "sqrt\n",
      "tan\n",
      "tanh\n",
      "tau\n",
      "trunc\n"
     ]
    }
   ],
   "source": [
    "import math\n",
    "\n",
    "for name in dir(math):\n",
    "    print(name, end=\"\\n\")"
   ]
  },
  {
   "cell_type": "code",
   "execution_count": 53,
   "metadata": {},
   "outputs": [
    {
     "name": "stdout",
     "output_type": "stream",
     "text": [
      "0.8444218515250481\n",
      "0.7579544029403025\n",
      "0.420571580830845\n",
      "0.25891675029296335\n",
      "0.5112747213686085\n"
     ]
    }
   ],
   "source": [
    "from random import random, seed\n",
    "\n",
    "seed(0)\n",
    "\n",
    "for i in range(5):\n",
    "    print(random())"
   ]
  },
  {
   "cell_type": "markdown",
   "metadata": {},
   "source": [
    "platform(aliased = False, terse = False)\n",
    "\n",
    "And now:\n",
    "\n",
    "aliased → when set to True (or any non-zero value) it may cause the function to present the alternative underlying layer names instead of the common ones;\n",
    "\n",
    "terse → when set to True (or any non-zero value) it may convince the function to present a briefer form of the result (if possible)"
   ]
  },
  {
   "cell_type": "code",
   "execution_count": 54,
   "metadata": {},
   "outputs": [
    {
     "name": "stdout",
     "output_type": "stream",
     "text": [
      "Windows-10-10.0.17134-SP0\n",
      "Windows-10-10.0.17134-SP0\n",
      "Windows-10\n"
     ]
    }
   ],
   "source": [
    "from platform import platform\n",
    "\n",
    "print(platform())\n",
    "print(platform(1))\n",
    "print(platform(0, 1))"
   ]
  },
  {
   "cell_type": "code",
   "execution_count": 55,
   "metadata": {},
   "outputs": [
    {
     "name": "stdout",
     "output_type": "stream",
     "text": [
      "AMD64\n"
     ]
    }
   ],
   "source": [
    "from platform import machine\n",
    "\n",
    "print(machine())"
   ]
  },
  {
   "cell_type": "code",
   "execution_count": 56,
   "metadata": {},
   "outputs": [
    {
     "name": "stdout",
     "output_type": "stream",
     "text": [
      "Intel64 Family 6 Model 61 Stepping 4, GenuineIntel\n"
     ]
    }
   ],
   "source": [
    "from platform import processor\n",
    "\n",
    "print(processor())"
   ]
  },
  {
   "cell_type": "code",
   "execution_count": 57,
   "metadata": {},
   "outputs": [
    {
     "name": "stdout",
     "output_type": "stream",
     "text": [
      "Windows\n"
     ]
    }
   ],
   "source": [
    "from platform import system\n",
    "\n",
    "print(system())"
   ]
  },
  {
   "cell_type": "code",
   "execution_count": 58,
   "metadata": {},
   "outputs": [
    {
     "name": "stdout",
     "output_type": "stream",
     "text": [
      "10.0.17134\n"
     ]
    }
   ],
   "source": [
    "from platform import version\n",
    "\n",
    "print(version())"
   ]
  },
  {
   "cell_type": "markdown",
   "metadata": {},
   "source": [
    "python_implementation() → returns a string denoting the Python implementation (expect CPython here, unless you decide to use any non-canonical Python branch)\n",
    "\n",
    "python_version_tuple() → returns a three-element tuple filled with:\n",
    "\n",
    "the major part of Python's version;\n",
    "\n",
    "the minor part;\n",
    "\n",
    "the patch level number."
   ]
  },
  {
   "cell_type": "code",
   "execution_count": 61,
   "metadata": {},
   "outputs": [
    {
     "name": "stdout",
     "output_type": "stream",
     "text": [
      "CPython\n",
      "3\n",
      "6\n",
      "4\n"
     ]
    }
   ],
   "source": [
    "from platform import python_implementation, python_version_tuple\n",
    "\n",
    "print(python_implementation())\n",
    "\n",
    "for atr in python_version_tuple():\n",
    "    print(atr)"
   ]
  },
  {
   "cell_type": "markdown",
   "metadata": {},
   "source": [
    "## documentation\n",
    "https://docs.python.org/3/py-modindex.html"
   ]
  },
  {
   "cell_type": "code",
   "execution_count": null,
   "metadata": {},
   "outputs": [],
   "source": [
    "# module.py\n",
    "\n",
    "if __name__ == \"__main__\":\n",
    "    print(\"I prefer to be a module\")\n",
    "else:\n",
    "    print(\"I like to be a module\")"
   ]
  },
  {
   "cell_type": "code",
   "execution_count": null,
   "metadata": {},
   "outputs": [],
   "source": [
    "# module.py\n",
    "\n",
    "counter = 0\n",
    "\n",
    "if __name__ == \"__main__\":\n",
    "    print(\"I prefer to be a module\")\n",
    "else:\n",
    "    print(\"I like to be a module\")\n",
    "\n",
    "# main.py\n",
    "\n",
    "import module\n",
    "\n",
    "print(module.counter)"
   ]
  },
  {
   "cell_type": "markdown",
   "metadata": {},
   "source": [
    "Python has no means of allowing you to hide such variables from the eyes of the module's users. You can only inform your users that this is your variable, that they may read it, but that they should not modify it under any circumstances.\n",
    "\n",
    "This is done by preceding the variable's name with _ (one underscore) or __ (two underscores), but remember, it's only a convention. "
   ]
  },
  {
   "cell_type": "code",
   "execution_count": null,
   "metadata": {},
   "outputs": [],
   "source": [
    "# module.py\n",
    "\n",
    "#!/usr/bin/env python3 \n",
    "\n",
    "\"\"\" module.py - an example of Python module \"\"\"\n",
    "\n",
    "__counter = 0\n",
    "\n",
    "def suml(list):\n",
    "\tglobal __counter\n",
    "\t__counter += 1\n",
    "\tsum = 0\n",
    "\tfor el in list:\n",
    "\t\tsum += el\n",
    "\treturn sum\n",
    "\n",
    "def prodl(list):\n",
    "\tglobal __counter\t\n",
    "\t__counter += 1\n",
    "\tprod = 1\n",
    "\tfor el in list:\n",
    "\t\tprod *= el\n",
    "\treturn prod\n",
    "\n",
    "if __name__ == \"__main__\":\n",
    "\tprint(\"I prefer to be a module, but I can do some tests for you\")\n",
    "\tl = [i+1 for i in range(5)]\n",
    "\tprint(suml(l) == 15)\n",
    "\tprint(prodl(l) == 120)\n",
    "    \n",
    "# main.py\n",
    "\n",
    "from module import suml, prodl\n",
    "\n",
    "zeroes = [0 for i in range(5)]\n",
    "ones = [1 for i in range(5)]\n",
    "print(suml(zeroes))\n",
    "print(prodl(ones))"
   ]
  },
  {
   "cell_type": "code",
   "execution_count": null,
   "metadata": {},
   "outputs": [],
   "source": [
    "# main.py\n",
    "\n",
    "from sys import path\n",
    "\n",
    "path.append('..\\\\modules')\n",
    "\n",
    "import module\n",
    "\n",
    "zeroes = [0 for i in range(5)]\n",
    "ones = [1 for i in range(5)]\n",
    "print(module.suml(zeroes))\n",
    "print(module.prodl(ones))"
   ]
  },
  {
   "cell_type": "code",
   "execution_count": null,
   "metadata": {},
   "outputs": [],
   "source": [
    "path.append('C:\\\\Users\\\\user\\\\py\\\\modules')"
   ]
  },
  {
   "cell_type": "code",
   "execution_count": null,
   "metadata": {},
   "outputs": [],
   "source": [
    "https://edube.org/uploads/media/default/0001/01/cac9cdda73323bfa0a86a4287de87230abb74df2.png\n",
    "extra.good.best.tau.funT()"
   ]
  },
  {
   "cell_type": "code",
   "execution_count": null,
   "metadata": {},
   "outputs": [],
   "source": [
    "# main2.py\n",
    "\n",
    "from sys import path\n",
    "\n",
    "path.append('..\\\\packages')\n",
    "\n",
    "import extra.iota\n",
    "\n",
    "print(extra.iota.funI())"
   ]
  },
  {
   "cell_type": "code",
   "execution_count": null,
   "metadata": {},
   "outputs": [],
   "source": [
    "# main2.py\n",
    "\n",
    "from sys import path\n",
    "\n",
    "path.append('..\\\\packages')\n",
    "\n",
    "import extra.good.best.sigma as sig\n",
    "import extra.good.alpha as alp\n",
    "\n",
    "print(sig.funS())\n",
    "print(alp.funA())"
   ]
  },
  {
   "cell_type": "markdown",
   "metadata": {},
   "source": [
    "raise is a keyword.\n",
    "\n",
    "The instruction enables you to:\n",
    "\n",
    "simulate raising actual exceptions (e.g., to test your handling strategy)\n",
    "\n",
    "partially handle an exception and make another part of the code responsible for completing the handling (separation of concerns)."
   ]
  },
  {
   "cell_type": "code",
   "execution_count": 65,
   "metadata": {},
   "outputs": [
    {
     "name": "stdout",
     "output_type": "stream",
     "text": [
      "What happened? An error?\n",
      "THE END.\n"
     ]
    }
   ],
   "source": [
    "def badFun(n):\n",
    "    raise ZeroDivisionError\n",
    "\n",
    "try:\n",
    "    badFun(0)\n",
    "except ArithmeticError:\n",
    "    print(\"What happened? An error?\")\n",
    "\n",
    "print(\"THE END.\")"
   ]
  },
  {
   "cell_type": "code",
   "execution_count": 66,
   "metadata": {},
   "outputs": [
    {
     "name": "stdout",
     "output_type": "stream",
     "text": [
      "I did it again!\n",
      "I see!\n",
      "THE END.\n"
     ]
    }
   ],
   "source": [
    "def badFun(n):\n",
    "    try:\n",
    "        return n / 0\n",
    "    except:\n",
    "        print(\"I did it again!\")\n",
    "        raise\n",
    "\n",
    "try:\n",
    "    badFun(0)\n",
    "except ArithmeticError:\n",
    "    print(\"I see!\")\n",
    "\n",
    "print(\"THE END.\")"
   ]
  },
  {
   "cell_type": "markdown",
   "metadata": {},
   "source": [
    "## Scenario\n",
    "Your task is to write a function able to input integer values and to check if they are within a specified range.\n",
    "\n",
    "The function should:\n",
    "\n",
    "accept three arguments: a prompt, a low acceptable limit, and a high acceptable limit;\n",
    "\n",
    "if the user enters a string that is not an integer value, the function should emit the message Error: wrong input, and ask the user to input the value again;\n",
    "\n",
    "if the user enters a number which falls outside the specified range, the function should emit the message Error: the value is not within permitted range (min..max) and ask the user to input the value again;\n",
    "\n",
    "if the input value is valid, return it as a result.\n",
    "\n",
    "Test data\n",
    "\n",
    "Test your code carefully.\n",
    "\n",
    "This is how the function should react to the user's input:\n",
    "\n",
    "Enter a number from -10 to 10: 100\n",
    "\n",
    "Error: the value is not within permitted range (-10..10)\n",
    "\n",
    "Enter a number from -10 to 10: asd\n",
    "\n",
    "Error: wrong input\n",
    "\n",
    "Enter number from -10 to 10: 1\n",
    "\n",
    "The number is: 1"
   ]
  },
  {
   "cell_type": "code",
   "execution_count": 67,
   "metadata": {},
   "outputs": [
    {
     "name": "stdout",
     "output_type": "stream",
     "text": [
      "Line #1\n",
      "Line #2\n",
      "15\n"
     ]
    }
   ],
   "source": [
    "multiLine = '''Line #1\n",
    "Line #2'''\n",
    "print(multiLine)\n",
    "print(len(multiLine))"
   ]
  },
  {
   "cell_type": "markdown",
   "metadata": {},
   "source": [
    "The missing character is simply invisible - it's a whitespace. It's located between the two text lines.\n",
    "\n",
    "It's denoted as: \\n."
   ]
  },
  {
   "cell_type": "markdown",
   "metadata": {},
   "source": [
    "If you want to know a specific character's ASCII/UNICODE code point value, you can use a function named ord() (as in ordinal)."
   ]
  },
  {
   "cell_type": "code",
   "execution_count": 68,
   "metadata": {},
   "outputs": [
    {
     "name": "stdout",
     "output_type": "stream",
     "text": [
      "97\n",
      "32\n"
     ]
    }
   ],
   "source": [
    "# Demonstrating the ord() function\n",
    "\n",
    "ch1 = 'a' \n",
    "ch2 = ' ' # space\n",
    "\n",
    "print(ord(ch1))\n",
    "print(ord(ch2))"
   ]
  },
  {
   "cell_type": "code",
   "execution_count": 69,
   "metadata": {},
   "outputs": [
    {
     "name": "stdout",
     "output_type": "stream",
     "text": [
      "a\n",
      "α\n"
     ]
    }
   ],
   "source": [
    "# Demonstrating the chr() function\n",
    "\n",
    "print(chr(97))\n",
    "print(chr(945))"
   ]
  },
  {
   "cell_type": "markdown",
   "metadata": {},
   "source": [
    "If you know the code point (number) and want to get the corresponding character, you can use a function named chr().\n",
    "\n",
    "The function takes a code point and returns its character."
   ]
  },
  {
   "cell_type": "code",
   "execution_count": 70,
   "metadata": {},
   "outputs": [
    {
     "name": "stdout",
     "output_type": "stream",
     "text": [
      "True\n",
      "False\n",
      "False\n",
      "True\n",
      "False\n"
     ]
    }
   ],
   "source": [
    "alphabet = \"abcdefghijklmnopqrstuvwxyz\"\n",
    "\n",
    "print(\"f\" in alphabet)\n",
    "print(\"F\" in alphabet)\n",
    "print(\"1\" in alphabet)\n",
    "print(\"ghi\" in alphabet)\n",
    "print(\"Xyz\" in alphabet)"
   ]
  },
  {
   "cell_type": "markdown",
   "metadata": {},
   "source": [
    "function named min().\n",
    "\n",
    "The function finds the minimum element of the sequence passed as an argument. \n",
    "\n",
    "There is one condition - the sequence (string, list, it doesn't matter) cannot be empty, or else you'll get a ValueError exception."
   ]
  },
  {
   "cell_type": "code",
   "execution_count": 71,
   "metadata": {},
   "outputs": [
    {
     "name": "stdout",
     "output_type": "stream",
     "text": [
      "A\n",
      "[ ]\n",
      "0\n"
     ]
    }
   ],
   "source": [
    "# Demonstrating min() - Example 1\n",
    "print(min(\"aAbByYzZ\"))\n",
    "\n",
    "\n",
    "# Demonstrating min() - Examples 2 & 3\n",
    "t = 'The Knights Who Say \"Ni!\"'\n",
    "print('[' + min(t) + ']')\n",
    "\n",
    "t = [0, 1, 2]\n",
    "print(min(t))"
   ]
  },
  {
   "cell_type": "code",
   "execution_count": 72,
   "metadata": {},
   "outputs": [
    {
     "name": "stdout",
     "output_type": "stream",
     "text": [
      "z\n",
      "[y]\n",
      "2\n"
     ]
    }
   ],
   "source": [
    "# Demonstrating max() - Example 1\n",
    "print(max(\"aAbByYzZ\"))\n",
    "\n",
    "\n",
    "# Demonstrating max() - Examples 2 & 3\n",
    "t = 'The Knights Who Say \"Ni!\"'\n",
    "print('[' + max(t) + ']')\n",
    "\n",
    "t = [0, 1, 2]\n",
    "print(max(t))"
   ]
  },
  {
   "cell_type": "code",
   "execution_count": 73,
   "metadata": {},
   "outputs": [
    {
     "name": "stdout",
     "output_type": "stream",
     "text": [
      "2\n",
      "7\n",
      "1\n"
     ]
    }
   ],
   "source": [
    "# Demonstrating the index() method\n",
    "print(\"aAbByYzZaA\".index(\"b\"))\n",
    "print(\"aAbByYzZaA\".index(\"Z\"))\n",
    "print(\"aAbByYzZaA\".index(\"A\"))"
   ]
  },
  {
   "cell_type": "code",
   "execution_count": 74,
   "metadata": {},
   "outputs": [
    {
     "name": "stdout",
     "output_type": "stream",
     "text": [
      "2\n",
      "0\n"
     ]
    }
   ],
   "source": [
    "# Demonstrating the count() method\n",
    "print(\"abcabc\".count(\"b\"))\n",
    "print('abcabc'.count(\"d\"))"
   ]
  },
  {
   "cell_type": "markdown",
   "metadata": {},
   "source": [
    "documentation: https://docs.python.org/3.4/library/stdtypes.html#string-methods"
   ]
  },
  {
   "cell_type": "code",
   "execution_count": 77,
   "metadata": {},
   "outputs": [
    {
     "name": "stdout",
     "output_type": "stream",
     "text": [
      "Abcd\n",
      "Alpha\n",
      "Alpha\n",
      " alpha\n",
      "123\n",
      "Αβγδ\n"
     ]
    }
   ],
   "source": [
    "# Demonstrating the capitalize() method\n",
    "print('aBcD'.capitalize())\n",
    "print(\"Alpha\".capitalize())\n",
    "print('ALPHA'.capitalize())\n",
    "print(' Alpha'.capitalize())\n",
    "print('123'.capitalize())\n",
    "print(\"αβγδ\".capitalize())"
   ]
  },
  {
   "cell_type": "markdown",
   "metadata": {},
   "source": [
    " it creates a new string filled with characters taken from the source string, but it tries to modify them in the following way:\n",
    "\n",
    "if the first character inside the string is a letter (note: the first character is an element with an index equal to 0, not just the first visible character), it will be converted to upper-case;\n",
    "\n",
    "all remaining letters from the string will be converted to lower-case."
   ]
  },
  {
   "cell_type": "code",
   "execution_count": 80,
   "metadata": {},
   "outputs": [
    {
     "name": "stdout",
     "output_type": "stream",
     "text": [
      "[  alpha   ]\n",
      "[Beta]\n",
      "[Beta]\n",
      "[ Beta ]\n",
      "[*******gamma********]\n"
     ]
    }
   ],
   "source": [
    "# Demonstrating the center() method\n",
    "print('[' + 'alpha'.center(10) + ']')\n",
    "print('[' + 'Beta'.center(2) + ']')\n",
    "print('[' + 'Beta'.center(4) + ']')\n",
    "print('[' + 'Beta'.center(6) + ']')\n",
    "print('[' + 'gamma'.center(20, '*') + ']')"
   ]
  },
  {
   "cell_type": "code",
   "execution_count": 81,
   "metadata": {},
   "outputs": [
    {
     "name": "stdout",
     "output_type": "stream",
     "text": [
      "1\n",
      "-1\n"
     ]
    }
   ],
   "source": [
    "# Demonstrating the find() method\n",
    "print(\"Eta\".find(\"ta\"))\n",
    "print(\"Eta\".find(\"mma\"))"
   ]
  },
  {
   "cell_type": "markdown",
   "metadata": {},
   "source": [
    "find() method is similar to index(), which you already know - it looks for a substring and returns the index of first occurrence of this substring, but:\n",
    "\n",
    "it's safer - it doesn't generate an error for an argument containing a non-existent substring (it returns -1 then)\n",
    "it works with strings only - don't try to apply it to any other sequence."
   ]
  },
  {
   "cell_type": "code",
   "execution_count": 82,
   "metadata": {},
   "outputs": [
    {
     "name": "stdout",
     "output_type": "stream",
     "text": [
      "True\n",
      "True\n",
      "True\n",
      "False\n",
      "False\n",
      "False\n",
      "False\n",
      "True\n",
      "True\n"
     ]
    }
   ],
   "source": [
    "# Demonstrating the isalnum() method\n",
    "print('lambda30'.isalnum())\n",
    "print('lambda'.isalnum())\n",
    "print('30'.isalnum())\n",
    "print('@'.isalnum())\n",
    "print('lambda_30'.isalnum())\n",
    "print(''.isalnum())\n",
    "t = 'Six lambdas'\n",
    "print(t.isalnum())\n",
    "\n",
    "t = 'ΑβΓδ'\n",
    "print(t.isalnum())\n",
    "\n",
    "t = '20E1'\n",
    "print(t.isalnum())"
   ]
  },
  {
   "cell_type": "code",
   "execution_count": 83,
   "metadata": {},
   "outputs": [
    {
     "name": "stdout",
     "output_type": "stream",
     "text": [
      "True\n",
      "False\n",
      "True\n",
      "False\n"
     ]
    }
   ],
   "source": [
    "# Example 1: Demonstrating the isapha() method\n",
    "print(\"Moooo\".isalpha())\n",
    "print('Mu40'.isalpha())\n",
    "\n",
    "# Example 2: Demonstrating the isdigit() method\n",
    "print('2018'.isdigit())\n",
    "print(\"Year2019\".isdigit())"
   ]
  },
  {
   "cell_type": "code",
   "execution_count": 84,
   "metadata": {},
   "outputs": [
    {
     "name": "stdout",
     "output_type": "stream",
     "text": [
      "False\n",
      "True\n",
      "True\n",
      "True\n",
      "False\n",
      "False\n",
      "False\n",
      "True\n"
     ]
    }
   ],
   "source": [
    "# Example 1: Demonstrating the islower() method\n",
    "print(\"Moooo\".islower())\n",
    "print('moooo'.islower())\n",
    "\n",
    "# Example 2: Demonstrating the isspace() method\n",
    "print(' \\n '.isspace())\n",
    "print(\" \".isspace())\n",
    "print(\"mooo mooo mooo\".isspace())\n",
    "\n",
    "# Example 3: Demonstrating the isupper() method\n",
    "print(\"Moooo\".isupper())\n",
    "print('moooo'.isupper())\n",
    "print('MOOOO'.isupper())"
   ]
  },
  {
   "cell_type": "code",
   "execution_count": 85,
   "metadata": {},
   "outputs": [
    {
     "name": "stdout",
     "output_type": "stream",
     "text": [
      "sigma=60\n"
     ]
    }
   ],
   "source": [
    "# Demonstrating the lower() method\n",
    "print(\"SiGmA=60\".lower())"
   ]
  },
  {
   "cell_type": "code",
   "execution_count": 86,
   "metadata": {},
   "outputs": [
    {
     "name": "stdout",
     "output_type": "stream",
     "text": [
      "[tau ]\n"
     ]
    }
   ],
   "source": [
    "# Demonstrating the lstrip() method\n",
    "print(\"[\" + \" tau \".lstrip() + \"]\")"
   ]
  },
  {
   "cell_type": "code",
   "execution_count": 88,
   "metadata": {},
   "outputs": [
    {
     "name": "stdout",
     "output_type": "stream",
     "text": [
      "8\n",
      "-1\n",
      "4\n"
     ]
    }
   ],
   "source": [
    "# Demonstrating the rfind() method\n",
    "#start their searches from the end of the string\n",
    "print(\"tau tau tau\".rfind(\"ta\"))\n",
    "print(\"tau tau tau\".rfind(\"ta\", 9))\n",
    "print(\"tau tau tau\".rfind(\"ta\", 3, 9))"
   ]
  },
  {
   "cell_type": "code",
   "execution_count": 89,
   "metadata": {},
   "outputs": [
    {
     "name": "stdout",
     "output_type": "stream",
     "text": [
      "[aleph]\n"
     ]
    }
   ],
   "source": [
    "# Demonstrating the strip() method\n",
    "print(\"[\" + \"   aleph   \".strip() + \"]\")"
   ]
  },
  {
   "cell_type": "code",
   "execution_count": 91,
   "metadata": {},
   "outputs": [
    {
     "name": "stdout",
     "output_type": "stream",
     "text": [
      "i KNOW THAT i KNOW NOTHING.\n",
      "\n",
      "I Know That I Know Nothing. Part 1.\n",
      "\n",
      "I KNOW THAT I KNOW NOTHING. PART 2.\n"
     ]
    }
   ],
   "source": [
    "# Demonstrating the swapcase() method\n",
    "print(\"I know that I know nothing.\".swapcase())\n",
    "\n",
    "print()\n",
    "\n",
    "# Demonstrating the title() method\n",
    "print(\"I know that I know nothing. Part 1.\".title())\n",
    "\n",
    "print()\n",
    "\n",
    "# Demonstrating the upper() method\n",
    "print(\"I know that I know nothing. Part 2.\".upper())"
   ]
  },
  {
   "cell_type": "markdown",
   "metadata": {},
   "source": [
    "## Scenario\n",
    "You already know how split() works. Now we want you to prove it.\n",
    "\n",
    "Your task is to write your own function, which behaves almost exactly like the original split() method, i.e.:\n",
    "\n",
    "it should accept exactly one argument - a string;\n",
    "it should return a list of words created from the string, divided in the places where the string contains whitespaces;\n",
    "if the string is empty, the function should return an empty list;\n",
    "its name should be mysplit()\n",
    "Use the template in the editor. Test your code carefully.\n",
    "\n",
    "Expected output\n",
    "['To', 'be', 'or', 'not', 'to', 'be,', 'that', 'is', 'the', 'question']\n",
    "['To', 'be', 'or', 'not', 'to', 'be,that', 'is', 'the', 'question']\n",
    "[]\n",
    "['abc']\n",
    "[]"
   ]
  },
  {
   "cell_type": "code",
   "execution_count": null,
   "metadata": {},
   "outputs": [],
   "source": [
    "def mysplit(strng):\n",
    "#\n",
    "# put your code here\n",
    "#\n",
    "\n",
    "print(mysplit(\"To be or not to be, that is the question\"))\n",
    "print(mysplit(\"To be or not to be,that is the question\"))\n",
    "print(mysplit(\"   \"))\n",
    "print(mysplit(\" abc \"))\n",
    "print(mysplit(\"\"))"
   ]
  },
  {
   "cell_type": "code",
   "execution_count": 92,
   "metadata": {},
   "outputs": [
    {
     "name": "stdout",
     "output_type": "stream",
     "text": [
      "['omega', 'alpha', 'pi', 'gamma']\n",
      "['alpha', 'gamma', 'omega', 'pi']\n",
      "\n",
      "['omega', 'alpha', 'pi', 'gamma']\n",
      "['alpha', 'gamma', 'omega', 'pi']\n"
     ]
    }
   ],
   "source": [
    "# Demonstrating the sorted() function\n",
    "firstGreek = ['omega', 'alpha', 'pi', 'gamma']\n",
    "firstGreek2 = sorted(firstGreek)\n",
    "\n",
    "print(firstGreek)\n",
    "print(firstGreek2)\n",
    "\n",
    "print()\n",
    "\n",
    "# Demonstrating the sort() method\n",
    "secondGreek = ['omega', 'alpha', 'pi', 'gamma']\n",
    "print(secondGreek)\n",
    "\n",
    "secondGreek.sort()\n",
    "print(secondGreek)"
   ]
  },
  {
   "cell_type": "markdown",
   "metadata": {},
   "source": [
    "## Scenario\n",
    "You've surely seen a seven-segment display.\n",
    "\n",
    "It's a device (sometimes electronic, sometimes mechanical) designed to present one decimal digit using a subset of seven segments. If you still don't know what it is, refer to the following Wikipedia article.\n",
    "\n",
    "Your task is to write a program which is able to simulate the work of a seven-display device, although you're going to use single LEDs instead of segments.\n",
    "\n",
    "Each digit is constructed from 13 LEDs (some lit, some dark, of course) - that's how we imagine it:\n",
    "\n",
    "  # ### ### # # ### ### ### ### ### ### \n",
    "  #   #   # # # #   #     # # # # # # # \n",
    "  # ### ### ### ### ###   # ### ### # # \n",
    "  # #     #   #   # # #   # # #   # # # \n",
    "  # ### ###   # ### ###   # ### ### ###\n",
    "\n",
    "Note: the number 8 shows all the LED lights on.\n",
    "\n",
    "Your code has to display any non-negative integer number entered by the user.\n",
    "\n",
    "Tip: using a list containing patterns of all ten digits may be very helpful.\n",
    "\n",
    "Test data\n",
    "Sample input:\n",
    "\n",
    "123\n",
    "\n",
    "Sample output:\n",
    "\n",
    "  # ### ### \n",
    "  #   #   # \n",
    "  # ### ### \n",
    "  # #     # \n",
    "  # ### ### \n",
    "\n",
    "Sample input:\n",
    "\n",
    "9081726354\n",
    "\n",
    "Sample output:\n",
    "\n",
    "### ### ###   # ### ### ### ### ### # # \n",
    "# # # # # #   #   #   # #     # #   # # \n",
    "### # # ###   #   # ### ### ### ### ### \n",
    "  # # # # #   #   # #   # #   #   #   # \n",
    "### ### ###   #   # ### ### ### ###   # "
   ]
  },
  {
   "cell_type": "code",
   "execution_count": null,
   "metadata": {},
   "outputs": [],
   "source": [
    "The Caesar Cipher: encrypting a message\n",
    "We're going to show you four simple programs in order to present some aspects of string processing in Python. They are purposefully simple, but the lab problems will be significantly more complicated.\n",
    "\n",
    "The first problem we want to show you is called the Caesar cipher - more details here: https://en.wikipedia.org/wiki/Caesar_cipher.\n",
    "\n",
    "This cipher was (probably) invented and used by Gaius Julius Caesar and his troops during the Gallic Wars. The idea is rather simple - every letter of the message is replaced by its nearest consequent (A becomes B, B becomes C, and so on). The only exception is Z, which becomes A.\n",
    "\n",
    "The program in the editor is a very simple (but working) implementation of the algorithm.\n",
    "\n",
    "We've written it using the following assumptions:\n",
    "\n",
    "it accepts Latin letters only (note: the Romans used neither whitespaces nor digits)\n",
    "all letters of the message are in upper case (note: the Romans knew only capitals)\n",
    "Let's trace the code:\n",
    "\n",
    "line 02: ask the user to enter the open (unencrypted), one-line message;\n",
    "line 03: prepare a string for an encrypted message (empty for now)\n",
    "line 04: start the iteration through the message;\n",
    "line 05: if the current character is not alphabetic...\n",
    "line 06: ...ignore it;\n",
    "line 07: convert the letter to upper-case (it's preferable to do it blindly, rather than check whether it's needed or not)\n",
    "line 08: get the code of the letter and increment it by one;\n",
    "line 09: if the resulting code has \"left\" the Latin alphabet (if it's greater than the Z code)...\n",
    "line 10: ...change it to the A code;\n",
    "line 11: append the received character to the end of the encrypted message;\n",
    "line 13: print the cipher.\n",
    "The code, fed with this message:\n",
    "\n",
    "AVE CAESAR\n",
    "\n",
    "outputs:\n",
    "\n",
    "BWFDBFTBS"
   ]
  },
  {
   "cell_type": "code",
   "execution_count": 93,
   "metadata": {},
   "outputs": [
    {
     "name": "stdout",
     "output_type": "stream",
     "text": [
      "Enter your message: AVE CAESAR\n",
      "BWFDBFTBS\n"
     ]
    }
   ],
   "source": [
    "# Caesar cipher\n",
    "text = input(\"Enter your message: \")\n",
    "cipher = ''\n",
    "for char in text:\n",
    "    if not char.isalpha():\n",
    "        continue\n",
    "    char = char.upper()\n",
    "    code = ord(char) + 1\n",
    "    if code > ord('Z'):\n",
    "        code = ord('A')\n",
    "    cipher += chr(code)\n",
    "\n",
    "print(cipher)"
   ]
  },
  {
   "cell_type": "markdown",
   "metadata": {},
   "source": [
    "The Caesar Cipher: decrypting a message\n",
    "The reverse transformation should now be clear to you - let's just present you with the code as-is, without any explanations.\n",
    "\n",
    "Look at the code in the editor. Check carefully if it works. Use the cryptogram from the previous program."
   ]
  },
  {
   "cell_type": "code",
   "execution_count": null,
   "metadata": {},
   "outputs": [],
   "source": [
    "# Caesar cipher - decrypting a message\n",
    "cipher = input('Enter your cryptogram: ')\n",
    "text = ''\n",
    "for char in cipher:\n",
    "    if not char.isalpha():\n",
    "        continue\n",
    "    char = char.upper()\n",
    "    code = ord(char) - 1\n",
    "    if code < ord('A'):\n",
    "        code = ord('Z')\n",
    "    text += chr(code)\n",
    "\n",
    "print(text)"
   ]
  },
  {
   "cell_type": "markdown",
   "metadata": {},
   "source": [
    "The Numbers Processor\n",
    "The third program shows a simple method allowing you to input a line filled with numbers, and to process them easily. Note: the routine input() function, combined together with the int() or float() functions, is unsuitable for this purpose.\n",
    "\n",
    "The processing will be extremely easy - we want the numbers to be summed.\n",
    "\n",
    "Look at the code in the editor. Let's analyze it.\n",
    "\n",
    "Using list comprehension may make the code slimmer. You can do that if you want.\n",
    "\n",
    "Let's present our version:\n",
    "\n",
    "line 03: ask the user to enter a line filled with any number of numbers (the numbers can be floats)\n",
    "line 04: split the line receiving a list of substrings;\n",
    "line 05: initiate the total sum to zero;\n",
    "line 06: as the string-float conversion may raise an exception, it's best to continue with the protection of the try-except block;\n",
    "line 07: iterate through the list...\n",
    "line 08: ...and try to convert all its elements into float numbers; if it works, increase the sum;\n",
    "line 09: everything is good so far, so print the sum;\n",
    "line 10: the program ends here in the case of an error;\n",
    "line 11: print a diagnostic message showing the user the reason for the failure.\n",
    "The code has one important weakness - it displays a bogus result when the user enters an empty line. Can you fix it?"
   ]
  },
  {
   "cell_type": "code",
   "execution_count": null,
   "metadata": {},
   "outputs": [],
   "source": [
    "# Numbers Processor\n",
    "\n",
    "line = input(\"Enter a line of numbers - separate them with spaces: \")\n",
    "strings = line.split()\n",
    "total = 0\n",
    "try:\n",
    "    for substr in strings:\n",
    "        total += float(substr)\n",
    "    print(\"The total is:\", total)\n",
    "except:\n",
    "    print(substr, \"is not a number.\")"
   ]
  },
  {
   "cell_type": "markdown",
   "metadata": {},
   "source": [
    "The IBAN Validator\n",
    "The fourth program implements (in a slightly simplified form) an algorithm used by European banks to specify account numbers. The standard named IBAN (International Bank Account Number) provides a simple and fairly reliable method of validating the account numbers against simple typos that can occur during rewriting of the number e.g., from paper documents, like invoices or bills, into computers.\n",
    "\n",
    "You can find more details here: https://en.wikipedia.org/wiki/International_Bank_Account_Number.\n",
    "\n",
    "An IBAN-compliant account number consists of:\n",
    "\n",
    "a two-letter country code taken from the ISO 3166-1 standard (e.g., FR for France, GB for Great Britain, DE for Germany, and so on)\n",
    "two check digits used to perform the validity checks - fast and simple, but not fully reliable, tests, showing whether a number is invalid (distorted by a typo) or seems to be good;\n",
    "the actual account number (up to 30 alphanumeric characters - the length of that part depends on the country)\n",
    "The standard says that validation requires the following steps (according to Wikipedia):\n",
    "\n",
    "(step 1) Check that the total IBAN length is correct as per the country (this program won't do that, but you can modify the code to meet this requirement if you wish; note: you have to teach the code all the lengths used in Europe)\n",
    "(step 2) Move the four initial characters to the end of the string (i.e., the country code and the check digits)\n",
    "(step 3) Replace each letter in the string with two digits, thereby expanding the string, where A = 10, B = 11 ... Z = 35;\n",
    "(step 4) Interpret the string as a decimal integer and compute the remainder of that number on division by 97; If the remainder is 1, the check digit test is passed and the IBAN might be valid.\n",
    "Look at the code in the editor. Let's analyze it:\n",
    "\n",
    "line 03: ask the user to enter the IBAN (the number can contain spaces, as they significantly improve number readability...\n",
    "line 04: ...but remove them immediately)\n",
    "line 05: the entered IBAN must consist of digits and letters only - if it doesn't...\n",
    "line 06: ...output the message;\n",
    "line 07: the IBAN mustn't be shorter than 15 characters (this is the shortest variant, used in Norway)\n",
    "line 08: if it is shorter, the user is informed;\n",
    "line 09: moreover, the IBAN cannot be longer than 31 characters (this is the longest variant, used in Malta)\n",
    "line 10: if it is longer, make an announcement;\n",
    "line 11: start the actual processing;\n",
    "line 12: move the four initial characters to the number's end, and convert all letters to upper case (step 02 of the algorithm)\n",
    "line 13: this is the variable used to complete the number, created by replacing the letters with digits (according to the algorithm's step 03)\n",
    "line 14: iterate through the IBAN;\n",
    "line 15: if the character is a digit...\n",
    "line 16: just copy it;\n",
    "line 17: otherwise...\n",
    "line 18: ...convert it into two digits (note the way it's done here)\n",
    "line 19: the converted form of the IBAN is ready - make an integer out of it;\n",
    "line 20: is the remainder of the division of iban2 by 97 equal to 1?\n",
    "line 21: If yes, then success;\n",
    "line 22: Otherwise...\n",
    "line 23: ...the number is invalid.\n",
    "Let's add some test data (all these numbers are valid - you can invalidate them by changing any character).\n",
    "\n",
    "British: GB72 HBZU 7006 7212 1253 00\n",
    "French: FR76 30003 03620 00020216907 50\n",
    "German: DE02100100100152517108\n",
    "If you are an EU resident, you can use you own account number for tests."
   ]
  },
  {
   "cell_type": "code",
   "execution_count": null,
   "metadata": {},
   "outputs": [],
   "source": [
    "# IBAN Validator\n",
    "\n",
    "iban = input(\"Enter IBAN, please: \")\n",
    "iban = iban.replace(' ','')\n",
    "if not iban.isalnum():\n",
    "    print(\"You have entered invalid characters.\")\n",
    "elif len(iban) < 15:\n",
    "    print(\"IBAN entered is too short.\")\n",
    "elif len(iban) > 31:\n",
    "    print(\"IBAN entered is too long.\")\n",
    "else:\n",
    "    iban = (iban[4:] + iban[0:4]).upper()\n",
    "    iban2 = ''\n",
    "    for ch in iban:\n",
    "        if ch.isdigit():\n",
    "            iban2 += ch\n",
    "        else:\n",
    "            iban2 += str(10 + ord(ch) - ord('A'))\n",
    "    ibann = int(iban2)\n",
    "    if ibann % 97 == 1:\n",
    "        print(\"IBAN entered is valid.\")\n",
    "    else:\n",
    "        print(\"IBAN entered is invalid.\")"
   ]
  },
  {
   "cell_type": "markdown",
   "metadata": {},
   "source": [
    "## Scenario\n",
    "You are already familiar with the Caesar cipher, and this is why we want you to improve the code we showed you recently.\n",
    "\n",
    "The original Caesar cipher shifts each character by one: a becomes b, z becomes a, and so on. Let's make it a bit harder, and allow the shifted value to come from the range 1..25 inclusive.\n",
    "\n",
    "Moreover, let the code preserve the letters' case (lower-case letters will remain lower-case) and all non-alphabetical characters should remain untouched.\n",
    "\n",
    "Your task is to write a program which:\n",
    "\n",
    "asks the user for one line of text to encrypt;\n",
    "asks the user for a shift value (an integer number from the range 1..25 - note: you should force the user to enter a valid shift value (don't give up and don't let bad data fool you!)\n",
    "prints out the encoded text.\n",
    "Test your code using the data we've provided.\n",
    "\n",
    "Test data\n",
    "Sample input:\n",
    "\n",
    "abcxyzABCxyz 123\n",
    "2\n",
    "\n",
    "Sample output:\n",
    "\n",
    "cdezabCDEzab 123\n",
    "\n",
    "Sample input:\n",
    "\n",
    "The die is cast\n",
    "25\n",
    "\n",
    "Sample output:\n",
    "\n",
    "Sgd chd hr bzrs"
   ]
  },
  {
   "cell_type": "markdown",
   "metadata": {},
   "source": [
    "## Scenario\n",
    "An anagram is a new word formed by rearranging the letters of a word, using all the original letters exactly once. For example, the phrases \"rail safety\" and \"fairy tales\" are anagrams, while \"I am\" and \"You are\" are not.\n",
    "\n",
    "Your task is to write a program which:\n",
    "\n",
    "asks the user for two separate texts;\n",
    "checks whether, the entered texts are anagrams and prints the result.\n",
    "Note:\n",
    "\n",
    "assume that two empty strings are not anagrams;\n",
    "treat upper- and lower-case letters as equal;\n",
    "spaces are not taken into account during the check - treat them as non-existent\n",
    "Test your code using the data we've provided.\n",
    "\n",
    "Test data\n",
    "Sample input:\n",
    "\n",
    "Listen\n",
    "Silent\n",
    "\n",
    "Anagrams \n",
    "Sample input:\n",
    "\n",
    "modern\n",
    "norman\n",
    "\n",
    "Not anagrams "
   ]
  },
  {
   "cell_type": "markdown",
   "metadata": {},
   "source": [
    "## Scenario\n",
    "Some say that the Digit of Life is a digit evaluated using somebody's birthday. It's simple - you just need to sum all the digits of the date. If the result contains more than one digit, you have to repeat the addition until you get exactly one digit. For example:\n",
    "\n",
    "1 January 2017 = 2017 01 01\n",
    "2 + 0 + 1 + 7 + 0 + 1 + 0 + 1 = 12\n",
    "1 + 2 = 3\n",
    "3 is the digit we searched for and found.\n",
    "\n",
    "Your task is to write a program which:\n",
    "\n",
    "asks the user her/his birthday (in the format YYYYMMDD, or YYYYDDMM, or MMDDYYYY - actually, the order of the digits doesn't matter)\n",
    "outputs the Digit of Life for the date.\n",
    "Test your code using the data we've provided.\n",
    "\n",
    "Test data\n",
    "Sample input:\n",
    "\n",
    "19991229\n",
    "\n",
    "Sample output:\n",
    "\n",
    "6\n",
    "\n",
    "Sample input:\n",
    "\n",
    "20000101\n",
    "\n",
    "Sample output:\n",
    "\n",
    "4\n"
   ]
  },
  {
   "cell_type": "markdown",
   "metadata": {},
   "source": [
    "## Scenario\n",
    "Let's play a game. We will give you two strings: one being a word (e.g., \"dog\") and the second being a combination of any characters.\n",
    "\n",
    "Your task is to write a program which answers the following question: are the characters comprising the first string hidden inside the second string?\n",
    "\n",
    "For example:\n",
    "\n",
    "if the second string is given as \"vcxzxduybfdsobywuefgas\", the answer is yes;\n",
    "if the second string is \"vcxzxdcybfdstbywuefsas\", the answer is no (as there are neither the letters \"d\", \"o\", or \"g\", in this order)\n",
    "Hints:\n",
    "\n",
    "you should use the two-argument variants of the pos() functions inside your code;\n",
    "don't worry about case sensitivity.\n",
    "Test your code using the data we've provided.\n",
    "\n",
    "Test data\n",
    "Sample input:\n",
    "\n",
    "donor\n",
    "Nabucodonosor\n",
    "\n",
    "Sample output:\n",
    "\n",
    "Yes\n",
    "\n",
    "Sample input:\n",
    "\n",
    "donut\n",
    "Nabucodonosor\n",
    "\n",
    "Sample output:\n",
    "\n",
    "No\n"
   ]
  },
  {
   "cell_type": "markdown",
   "metadata": {},
   "source": [
    "## Scenario\n",
    "As you probably know, Sudoku is a number-placing puzzle played on a 9x9 board. The player has to fill the board in a very specific way:\n",
    "\n",
    "each row of the board must contain all digits from 0 to 9 (the order doesn't matter)\n",
    "each column of the board must contain all digits from 0 to 9 (again, the order doesn't matter)\n",
    "each of the nine 3x3 \"tiles\" (we will name them \"sub-squares\") of the table must contain all digits from 0 to 9.\n",
    "If you need more details, you can find them here.\n",
    "\n",
    "Your task is to write a program which:\n",
    "\n",
    "reads 9 rows of the Sudoku, each containing 9 digits (check carefully if the data entered are valid)\n",
    "outputs Yes if the Sudoku is valid, and No otherwise.\n",
    "Test your code using the data we've provided.\n",
    "\n",
    "Test data\n",
    "Sample input:\n",
    "\n",
    "295743861\n",
    "431865927\n",
    "876192543\n",
    "387459216\n",
    "612387495\n",
    "549216738\n",
    "763524189\n",
    "928671354\n",
    "154938672\n",
    "\n",
    "Sample output:\n",
    "\n",
    "Yes\n",
    "\n",
    "Sample input:\n",
    "\n",
    "195743862\n",
    "431865927\n",
    "876192543\n",
    "387459216\n",
    "612387495\n",
    "549216738\n",
    "763524189\n",
    "928671354\n",
    "254938671\n",
    "\n",
    "Sample output:\n",
    "\n",
    "No"
   ]
  },
  {
   "cell_type": "code",
   "execution_count": 94,
   "metadata": {},
   "outputs": [
    {
     "data": {
      "text/plain": [
       "True"
      ]
     },
     "execution_count": 94,
     "metadata": {},
     "output_type": "execute_result"
    }
   ],
   "source": [
    "'mike'>'Mike'"
   ]
  },
  {
   "cell_type": "code",
   "execution_count": 95,
   "metadata": {},
   "outputs": [
    {
     "name": "stdout",
     "output_type": "stream",
     "text": [
      "2\n"
     ]
    }
   ],
   "source": [
    "print(ord('c')-ord('a'))"
   ]
  },
  {
   "cell_type": "code",
   "execution_count": 96,
   "metadata": {},
   "outputs": [
    {
     "name": "stdout",
     "output_type": "stream",
     "text": [
      "1\n"
     ]
    }
   ],
   "source": [
    "x='\\''\n",
    "print(len(x))"
   ]
  },
  {
   "cell_type": "code",
   "execution_count": 97,
   "metadata": {},
   "outputs": [
    {
     "name": "stdout",
     "output_type": "stream",
     "text": [
      "False\n"
     ]
    }
   ],
   "source": [
    "print('Mike'>\"Mikey\")"
   ]
  },
  {
   "cell_type": "code",
   "execution_count": 98,
   "metadata": {},
   "outputs": [
    {
     "name": "stdout",
     "output_type": "stream",
     "text": [
      "abcabcabcxyz\n"
     ]
    }
   ],
   "source": [
    "print(3*'abc'+'xyz')"
   ]
  },
  {
   "cell_type": "code",
   "execution_count": 99,
   "metadata": {},
   "outputs": [
    {
     "ename": "ValueError",
     "evalue": "could not convert string to float: '1,3'",
     "output_type": "error",
     "traceback": [
      "\u001b[1;31m---------------------------------------------------------------------------\u001b[0m",
      "\u001b[1;31mValueError\u001b[0m                                Traceback (most recent call last)",
      "\u001b[1;32m<ipython-input-99-01484b853a79>\u001b[0m in \u001b[0;36m<module>\u001b[1;34m\u001b[0m\n\u001b[1;32m----> 1\u001b[1;33m \u001b[0mprint\u001b[0m\u001b[1;33m(\u001b[0m\u001b[0mfloat\u001b[0m\u001b[1;33m(\u001b[0m\u001b[1;34m'1,3'\u001b[0m\u001b[1;33m)\u001b[0m\u001b[1;33m)\u001b[0m\u001b[1;33m\u001b[0m\u001b[0m\n\u001b[0m",
      "\u001b[1;31mValueError\u001b[0m: could not convert string to float: '1,3'"
     ]
    }
   ],
   "source": [
    "print(float('1,3'))"
   ]
  },
  {
   "cell_type": "code",
   "execution_count": 100,
   "metadata": {},
   "outputs": [
    {
     "ename": "AssertionError",
     "evalue": "",
     "output_type": "error",
     "traceback": [
      "\u001b[1;31m---------------------------------------------------------------------------\u001b[0m",
      "\u001b[1;31mAssertionError\u001b[0m                            Traceback (most recent call last)",
      "\u001b[1;32m<ipython-input-100-653bd44e1a16>\u001b[0m in \u001b[0;36m<module>\u001b[1;34m\u001b[0m\n\u001b[1;32m----> 1\u001b[1;33m \u001b[1;32massert\u001b[0m \u001b[0mvar\u001b[0m\u001b[1;33m==\u001b[0m\u001b[1;36m0\u001b[0m\u001b[1;33m\u001b[0m\u001b[0m\n\u001b[0m",
      "\u001b[1;31mAssertionError\u001b[0m: "
     ]
    }
   ],
   "source": [
    "assert var==0"
   ]
  },
  {
   "cell_type": "code",
   "execution_count": 101,
   "metadata": {},
   "outputs": [
    {
     "name": "stdout",
     "output_type": "stream",
     "text": [
      "x\n"
     ]
    }
   ],
   "source": [
    "print(chr(ord('z')-2))"
   ]
  },
  {
   "cell_type": "code",
   "execution_count": 102,
   "metadata": {},
   "outputs": [
    {
     "name": "stdout",
     "output_type": "stream",
     "text": [
      "1\n",
      "2\n",
      "3\n"
     ]
    }
   ],
   "source": [
    "## Stack\n",
    "stack = []\n",
    "\n",
    "def push(val):\n",
    "    stack.append(val)\n",
    "\n",
    "def pop():\n",
    "    val = stack[-1]\n",
    "    del stack[-1]\n",
    "    return val\n",
    "\n",
    "push(3)\n",
    "push(2)\n",
    "push(1)\n",
    "\n",
    "print(pop())\n",
    "print(pop())\n",
    "print(pop())"
   ]
  },
  {
   "cell_type": "code",
   "execution_count": 103,
   "metadata": {},
   "outputs": [
    {
     "name": "stdout",
     "output_type": "stream",
     "text": [
      "0\n"
     ]
    }
   ],
   "source": [
    "class Stack:\n",
    "    def __init__(self):\n",
    "        self.stackList = []\n",
    "\n",
    "stackObject = Stack()\n",
    "print(len(stackObject.stackList))"
   ]
  },
  {
   "cell_type": "markdown",
   "metadata": {},
   "source": [
    "name starting with two underscores (__), it becomes private "
   ]
  },
  {
   "cell_type": "code",
   "execution_count": 104,
   "metadata": {},
   "outputs": [
    {
     "ename": "AttributeError",
     "evalue": "'Stack' object has no attribute '__stackList'",
     "output_type": "error",
     "traceback": [
      "\u001b[1;31m---------------------------------------------------------------------------\u001b[0m",
      "\u001b[1;31mAttributeError\u001b[0m                            Traceback (most recent call last)",
      "\u001b[1;32m<ipython-input-104-9e3b7dedea00>\u001b[0m in \u001b[0;36m<module>\u001b[1;34m\u001b[0m\n\u001b[0;32m      4\u001b[0m \u001b[1;33m\u001b[0m\u001b[0m\n\u001b[0;32m      5\u001b[0m \u001b[0mstackObject\u001b[0m \u001b[1;33m=\u001b[0m \u001b[0mStack\u001b[0m\u001b[1;33m(\u001b[0m\u001b[1;33m)\u001b[0m\u001b[1;33m\u001b[0m\u001b[0m\n\u001b[1;32m----> 6\u001b[1;33m \u001b[0mprint\u001b[0m\u001b[1;33m(\u001b[0m\u001b[0mlen\u001b[0m\u001b[1;33m(\u001b[0m\u001b[0mstackObject\u001b[0m\u001b[1;33m.\u001b[0m\u001b[0m__stackList\u001b[0m\u001b[1;33m)\u001b[0m\u001b[1;33m)\u001b[0m\u001b[1;33m\u001b[0m\u001b[0m\n\u001b[0m",
      "\u001b[1;31mAttributeError\u001b[0m: 'Stack' object has no attribute '__stackList'"
     ]
    }
   ],
   "source": [
    "class Stack:\n",
    "    def __init__(self):\n",
    "        self.__stackList = []\n",
    "\n",
    "stackObject = Stack()\n",
    "print(len(stackObject.__stackList))"
   ]
  },
  {
   "cell_type": "code",
   "execution_count": 105,
   "metadata": {},
   "outputs": [
    {
     "name": "stdout",
     "output_type": "stream",
     "text": [
      "1\n",
      "2\n",
      "3\n"
     ]
    }
   ],
   "source": [
    "class Stack:\n",
    "    def __init__(self):\n",
    "        self.__stackList = []\n",
    "\n",
    "    def push(self, val):\n",
    "        self.__stackList.append(val)\n",
    "\n",
    "    def pop(self):\n",
    "        val = self.__stackList[-1]\n",
    "        del self.__stackList[-1]\n",
    "        return val\n",
    "\n",
    "\n",
    "stackObject = Stack()\n",
    "\n",
    "stackObject.push(3)\n",
    "stackObject.push(2)\n",
    "stackObject.push(1)\n",
    "\n",
    "print(stackObject.pop())\n",
    "print(stackObject.pop())\n",
    "print(stackObject.pop())"
   ]
  },
  {
   "cell_type": "code",
   "execution_count": 106,
   "metadata": {},
   "outputs": [
    {
     "name": "stdout",
     "output_type": "stream",
     "text": [
      "3\n"
     ]
    }
   ],
   "source": [
    "class Stack:\n",
    "    def __init__(self):\n",
    "        self.__stackList = []\n",
    "\n",
    "    def push(self, val):\n",
    "        self.__stackList.append(val)\n",
    "\n",
    "    def pop(self):\n",
    "        val = self.__stackList[-1]\n",
    "        del self.__stackList[-1]\n",
    "        return val\n",
    "\n",
    "\n",
    "stackObject1 = Stack()\n",
    "stackObject2 = Stack()\n",
    "\n",
    "stackObject1.push(3)\n",
    "stackObject2.push(stackObject1.pop())\n",
    "\n",
    "print(stackObject2.pop())"
   ]
  },
  {
   "cell_type": "code",
   "execution_count": 107,
   "metadata": {},
   "outputs": [
    {
     "name": "stdout",
     "output_type": "stream",
     "text": [
      "0\n"
     ]
    }
   ],
   "source": [
    "class Stack:\n",
    "    def __init__(self):\n",
    "        self.__stackList = []\n",
    "\n",
    "    def push(self, val):\n",
    "        self.__stackList.append(val)\n",
    "\n",
    "    def pop(self):\n",
    "        val = self.__stackList[-1]\n",
    "        del self.__stackList[-1]\n",
    "        return val\n",
    "\n",
    "# enter code here\n",
    "littleStack = Stack()\n",
    "anotherStack = Stack()\n",
    "funnyStack = Stack()\n",
    "\n",
    "littleStack.push(1)\n",
    "anotherStack.push(littleStack.pop() + 1)\n",
    "funnyStack.push(anotherStack.pop() - 2)\n",
    "\n",
    "print(funnyStack.pop())"
   ]
  },
  {
   "cell_type": "code",
   "execution_count": 108,
   "metadata": {},
   "outputs": [
    {
     "name": "stdout",
     "output_type": "stream",
     "text": [
      "10\n",
      "4\n",
      "3\n",
      "2\n",
      "1\n",
      "0\n",
      "0\n"
     ]
    }
   ],
   "source": [
    "class Stack:\n",
    "    def __init__(self):\n",
    "        self.__stackList = []\n",
    "\n",
    "    def push(self, val):\n",
    "        self.__stackList.append(val)\n",
    "\n",
    "    def pop(self):\n",
    "        val = self.__stackList[-1]\n",
    "        del self.__stackList[-1]\n",
    "        return val\n",
    "\n",
    "\n",
    "class AddingStack(Stack):\n",
    "    def __init__(self):\n",
    "        Stack.__init__(self)\n",
    "        self.__sum = 0\n",
    "\n",
    "    def getSum(self):\n",
    "        return self.__sum\n",
    "\n",
    "    def push(self, val):\n",
    "        self.__sum += val\n",
    "        Stack.push(self, val)\n",
    "\n",
    "    def pop(self):\n",
    "        val = Stack.pop(self)\n",
    "        self.__sum -= val\n",
    "        return val\n",
    "\n",
    "\n",
    "stackObject = AddingStack()\n",
    "for i in range(5):\n",
    "    stackObject.push(i)\n",
    "print(stackObject.getSum())\n",
    "\n",
    "for i in range(5):\n",
    "    print(stackObject.pop())\n",
    "print(stackObject.getSum())"
   ]
  },
  {
   "cell_type": "code",
   "execution_count": 109,
   "metadata": {},
   "outputs": [
    {
     "name": "stdout",
     "output_type": "stream",
     "text": [
      "{'first': 1}\n",
      "{'first': 2, 'second': 3}\n",
      "{'first': 4, 'third': 5}\n"
     ]
    }
   ],
   "source": [
    "class ExampleClass:\n",
    "    def __init__(self, val = 1):\n",
    "        self.first = val\n",
    "\n",
    "    def setSecond(self, val):\n",
    "        self.second = val\n",
    "\n",
    "\n",
    "exampleObject1 = ExampleClass()\n",
    "exampleObject2 = ExampleClass(2)\n",
    "\n",
    "exampleObject2.setSecond(3)\n",
    "\n",
    "exampleObject3 = ExampleClass(4)\n",
    "exampleObject3.third = 5\n",
    "\n",
    "\n",
    "print(exampleObject1.__dict__)\n",
    "print(exampleObject2.__dict__)\n",
    "print(exampleObject3.__dict__)"
   ]
  },
  {
   "cell_type": "markdown",
   "metadata": {},
   "source": [
    "exampleObject3 has been enriched with a property named third just on the fly, outside the class's code - this is possible and fully permissible."
   ]
  },
  {
   "cell_type": "code",
   "execution_count": 110,
   "metadata": {},
   "outputs": [
    {
     "name": "stdout",
     "output_type": "stream",
     "text": [
      "{'_ExampleClass__first': 1}\n",
      "{'_ExampleClass__first': 2, '_ExampleClass__second': 3}\n",
      "{'_ExampleClass__first': 4, '__third': 5}\n"
     ]
    }
   ],
   "source": [
    "class ExampleClass:\n",
    "    def __init__(self, val = 1):\n",
    "        self.__first = val\n",
    "\n",
    "    def setSecond(self, val = 2):\n",
    "        self.__second = val\n",
    "\n",
    "\n",
    "exampleObject1 = ExampleClass()\n",
    "exampleObject2 = ExampleClass(2)\n",
    "\n",
    "exampleObject2.setSecond(3)\n",
    "\n",
    "exampleObject3 = ExampleClass(4)\n",
    "exampleObject3.__third = 5\n",
    "\n",
    "\n",
    "print(exampleObject1.__dict__)\n",
    "print(exampleObject2.__dict__)\n",
    "print(exampleObject3.__dict__)"
   ]
  },
  {
   "cell_type": "code",
   "execution_count": 111,
   "metadata": {},
   "outputs": [
    {
     "name": "stdout",
     "output_type": "stream",
     "text": [
      "{'_ExampleClass__first': 1} 3\n",
      "{'_ExampleClass__first': 2} 3\n",
      "{'_ExampleClass__first': 4} 3\n"
     ]
    }
   ],
   "source": [
    "class ExampleClass:\n",
    "    counter = 0\n",
    "    def __init__(self, val = 1):\n",
    "        self.__first = val\n",
    "        ExampleClass.counter += 1\n",
    "\n",
    "exampleObject1 = ExampleClass()\n",
    "exampleObject2 = ExampleClass(2)\n",
    "exampleObject3 = ExampleClass(4)\n",
    "\n",
    "print(exampleObject1.__dict__, exampleObject1.counter)\n",
    "print(exampleObject2.__dict__, exampleObject2.counter)\n",
    "print(exampleObject3.__dict__, exampleObject3.counter)"
   ]
  },
  {
   "cell_type": "code",
   "execution_count": 112,
   "metadata": {},
   "outputs": [
    {
     "name": "stdout",
     "output_type": "stream",
     "text": [
      "{'_ExampleClass__first': 1} 3\n",
      "{'_ExampleClass__first': 2} 3\n",
      "{'_ExampleClass__first': 4} 3\n"
     ]
    }
   ],
   "source": [
    "class ExampleClass:\n",
    "    __counter = 0\n",
    "    def __init__(self, val = 1):\n",
    "        self.__first = val\n",
    "        ExampleClass.__counter += 1\n",
    "\n",
    "exampleObject1 = ExampleClass()\n",
    "exampleObject2 = ExampleClass(2)\n",
    "exampleObject3 = ExampleClass(4)\n",
    "\n",
    "print(exampleObject1.__dict__, exampleObject1._ExampleClass__counter)\n",
    "print(exampleObject2.__dict__, exampleObject2._ExampleClass__counter)\n",
    "print(exampleObject3.__dict__, exampleObject3._ExampleClass__counter)"
   ]
  },
  {
   "cell_type": "code",
   "execution_count": 115,
   "metadata": {},
   "outputs": [
    {
     "name": "stdout",
     "output_type": "stream",
     "text": [
      "{'__module__': '__main__', 'varia': 1, '__init__': <function ExampleClass.__init__ at 0x0000020190FAB268>, '__dict__': <attribute '__dict__' of 'ExampleClass' objects>, '__weakref__': <attribute '__weakref__' of 'ExampleClass' objects>, '__doc__': None}\n",
      "\n",
      "{'__module__': '__main__', 'varia': 2, '__init__': <function ExampleClass.__init__ at 0x0000020190FAB268>, '__dict__': <attribute '__dict__' of 'ExampleClass' objects>, '__weakref__': <attribute '__weakref__' of 'ExampleClass' objects>, '__doc__': None}\n",
      "\n",
      "{}\n"
     ]
    }
   ],
   "source": [
    "class ExampleClass:\n",
    "    varia = 1\n",
    "    def __init__(self, val):\n",
    "        ExampleClass.varia = val\n",
    "\n",
    "print(ExampleClass.__dict__)\n",
    "print()\n",
    "exampleObject = ExampleClass(2)\n",
    "\n",
    "print(ExampleClass.__dict__)\n",
    "print()\n",
    "print(exampleObject.__dict__)"
   ]
  },
  {
   "cell_type": "markdown",
   "metadata": {},
   "source": [
    "the first line of the off-class code prints the value of the ExampleClass.varia attribute; note - we use the value before the very first object of the class is instantiated."
   ]
  },
  {
   "cell_type": "markdown",
   "metadata": {},
   "source": [
    "Note that the object's __dict__ is empty - the object has no instance variables."
   ]
  },
  {
   "cell_type": "code",
   "execution_count": 116,
   "metadata": {},
   "outputs": [
    {
     "name": "stdout",
     "output_type": "stream",
     "text": [
      "1\n"
     ]
    }
   ],
   "source": [
    "class ExampleClass:\n",
    "    def __init__(self, val):\n",
    "        if val % 2 != 0:\n",
    "            self.a = 1\n",
    "        else:\n",
    "            self.b = 1\n",
    "\n",
    "exampleObject = ExampleClass(2)\n",
    "\n",
    "#print(exampleObject.a)\n",
    "print(exampleObject.b)"
   ]
  },
  {
   "cell_type": "code",
   "execution_count": 119,
   "metadata": {},
   "outputs": [
    {
     "name": "stdout",
     "output_type": "stream",
     "text": [
      "1\n"
     ]
    }
   ],
   "source": [
    "class ExampleClass:\n",
    "    def __init__(self, val):\n",
    "        if val % 2 != 0:\n",
    "            self.a = 1\n",
    "        else:\n",
    "            self.b = 1\n",
    "\n",
    "exampleObject = ExampleClass(1)\n",
    "print(exampleObject.a)\n",
    "\n",
    "try:\n",
    "    print(exampleObject.b)\n",
    "except AttributeError:\n",
    "    pass"
   ]
  },
  {
   "cell_type": "markdown",
   "metadata": {},
   "source": [
    "Python provides a function which is able to safely check if any object/class contains a specified property. The function is named hasattr, and expects two arguments to be passed to it:\n",
    "\n",
    "the class or the object being checked;\n",
    "\n",
    "the name of the property whose existence has to be reported (note: it has to be a string containing the attribute name, not the name alone)\n",
    "\n",
    "The function returns True or False."
   ]
  },
  {
   "cell_type": "code",
   "execution_count": 124,
   "metadata": {},
   "outputs": [
    {
     "name": "stdout",
     "output_type": "stream",
     "text": [
      "1\n"
     ]
    }
   ],
   "source": [
    "class ExampleClass:\n",
    "    def __init__(self, val):\n",
    "        if val % 2 != 0:\n",
    "            self.a = 1\n",
    "        else:\n",
    "            self.b = 1\n",
    "\n",
    "exampleObject = ExampleClass(2)\n",
    "\n",
    "if hasattr(exampleObject, 'b'):\n",
    "    print(exampleObject.b)\n",
    "else:\n",
    "    print(exampleObject.a)"
   ]
  },
  {
   "cell_type": "code",
   "execution_count": 125,
   "metadata": {},
   "outputs": [
    {
     "name": "stdout",
     "output_type": "stream",
     "text": [
      "True\n",
      "False\n"
     ]
    }
   ],
   "source": [
    "class ExampleClass:\n",
    "    attr = 1\n",
    "\n",
    "print(hasattr(ExampleClass, 'attr'))\n",
    "print(hasattr(ExampleClass, 'prop'))"
   ]
  },
  {
   "cell_type": "markdown",
   "metadata": {},
   "source": [
    " You can use it to find out if a class variable is available"
   ]
  },
  {
   "cell_type": "code",
   "execution_count": 126,
   "metadata": {},
   "outputs": [
    {
     "name": "stdout",
     "output_type": "stream",
     "text": [
      "True\n",
      "True\n",
      "False\n",
      "True\n"
     ]
    }
   ],
   "source": [
    "class ExampleClass:\n",
    "    a = 1\n",
    "    def __init__(self):\n",
    "        self.b = 2\n",
    "\n",
    "exampleObject = ExampleClass()\n",
    "\n",
    "print(hasattr(exampleObject, 'b'))\n",
    "print(hasattr(exampleObject, 'a'))\n",
    "print(hasattr(ExampleClass, 'b'))\n",
    "print(hasattr(ExampleClass, 'a'))"
   ]
  },
  {
   "cell_type": "markdown",
   "metadata": {},
   "source": [
    " self parameter is used to obtain access to the object's instance and class variables."
   ]
  },
  {
   "cell_type": "code",
   "execution_count": 127,
   "metadata": {},
   "outputs": [
    {
     "name": "stdout",
     "output_type": "stream",
     "text": [
      "2 3\n"
     ]
    }
   ],
   "source": [
    "# test examples here\n",
    "class Classy:\n",
    "    varia = 2\n",
    "    def method(self):\n",
    "        print(self.varia, self.var)\n",
    "\n",
    "obj = Classy()\n",
    "obj.var = 3\n",
    "obj.method()"
   ]
  },
  {
   "cell_type": "markdown",
   "metadata": {},
   "source": [
    "The self parameter is also used to invoke other object/class methods from inside the class."
   ]
  },
  {
   "cell_type": "code",
   "execution_count": 128,
   "metadata": {},
   "outputs": [
    {
     "name": "stdout",
     "output_type": "stream",
     "text": [
      "method\n",
      "other\n"
     ]
    }
   ],
   "source": [
    "class Classy:\n",
    "    def other(self):\n",
    "        print(\"other\")\n",
    "\n",
    "    def method(self):\n",
    "        print(\"method\")\n",
    "        self.other()\n",
    "\n",
    "obj = Classy()\n",
    "obj.method()"
   ]
  },
  {
   "cell_type": "markdown",
   "metadata": {},
   "source": [
    "If you name a method like this: __init__, it won't be a regular method - it will be a constructor.\n",
    "\n",
    "If a class has a constructor, it is invoked automatically and implicitly when the object of the class is instantiated."
   ]
  },
  {
   "cell_type": "code",
   "execution_count": 129,
   "metadata": {},
   "outputs": [
    {
     "name": "stdout",
     "output_type": "stream",
     "text": [
      "object\n"
     ]
    }
   ],
   "source": [
    "class Classy:\n",
    "    def __init__(self, value):\n",
    "        self.var = value\n",
    "\n",
    "obj1 = Classy(\"object\")\n",
    "\n",
    "print(obj1.var)"
   ]
  },
  {
   "cell_type": "code",
   "execution_count": 130,
   "metadata": {},
   "outputs": [
    {
     "name": "stdout",
     "output_type": "stream",
     "text": [
      "object\n",
      "None\n"
     ]
    }
   ],
   "source": [
    "class Classy:\n",
    "    def __init__(self, value = None):\n",
    "        self.var = value\n",
    "\n",
    "obj1 = Classy(\"object\")\n",
    "obj2 = Classy()\n",
    "\n",
    "print(obj1.var)\n",
    "print(obj2.var)"
   ]
  },
  {
   "cell_type": "code",
   "execution_count": 131,
   "metadata": {},
   "outputs": [
    {
     "name": "stdout",
     "output_type": "stream",
     "text": [
      "visible\n",
      "failed\n",
      "hidden\n"
     ]
    }
   ],
   "source": [
    "class Classy:\n",
    "    def visible(self):\n",
    "        print(\"visible\")\n",
    "    \n",
    "    def __hidden(self):\n",
    "        print(\"hidden\")\n",
    "\n",
    "obj = Classy()\n",
    "obj.visible()\n",
    "\n",
    "try:\n",
    "    obj.__hidden()\n",
    "except:\n",
    "    print(\"failed\")\n",
    "\n",
    "obj._Classy__hidden()"
   ]
  },
  {
   "cell_type": "markdown",
   "metadata": {},
   "source": [
    "__dict__ is a dictionary.\n",
    "Another built-in property worth mentioning is __name__, which is a string."
   ]
  },
  {
   "cell_type": "markdown",
   "metadata": {},
   "source": [
    "The property contains the name of the class. "
   ]
  },
  {
   "cell_type": "markdown",
   "metadata": {},
   "source": [
    "__module__ is a string, too - it stores the name of the module which contains the definition of the class"
   ]
  },
  {
   "cell_type": "code",
   "execution_count": 132,
   "metadata": {},
   "outputs": [
    {
     "name": "stdout",
     "output_type": "stream",
     "text": [
      "__main__\n",
      "__main__\n"
     ]
    }
   ],
   "source": [
    "class Classy:\n",
    "    pass\n",
    "\n",
    "print(Classy.__module__)\n",
    "obj = Classy()\n",
    "print(obj.__module__)"
   ]
  },
  {
   "cell_type": "code",
   "execution_count": 133,
   "metadata": {},
   "outputs": [
    {
     "name": "stdout",
     "output_type": "stream",
     "text": [
      "Classy\n",
      "Classy\n"
     ]
    }
   ],
   "source": [
    "class Classy:\n",
    "    pass\n",
    "\n",
    "print(Classy.__name__)\n",
    "obj = Classy()\n",
    "print(type(obj).__name__)"
   ]
  },
  {
   "cell_type": "markdown",
   "metadata": {},
   "source": [
    "__bases__ is a tuple\n",
    "\n",
    "We've defined a function named printbases(), designed to present the tuple's contents clearly."
   ]
  },
  {
   "cell_type": "code",
   "execution_count": 134,
   "metadata": {},
   "outputs": [
    {
     "name": "stdout",
     "output_type": "stream",
     "text": [
      "( object )\n",
      "( object )\n",
      "( SuperOne SuperTwo )\n"
     ]
    }
   ],
   "source": [
    "class SuperOne:\n",
    "    pass\n",
    "\n",
    "class SuperTwo:\n",
    "    pass\n",
    "\n",
    "class Sub(SuperOne, SuperTwo):\n",
    "    pass\n",
    "\n",
    "\n",
    "def printBases(cls):\n",
    "    print('( ', end='')\n",
    "\n",
    "    for x in cls.__bases__:\n",
    "        print(x.__name__, end=' ')\n",
    "    print(')')\n",
    "\n",
    "\n",
    "printBases(SuperOne)\n",
    "printBases(SuperTwo)\n",
    "printBases(Sub)"
   ]
  },
  {
   "cell_type": "markdown",
   "metadata": {},
   "source": [
    "introspection, which is the ability of a program to examine the type or properties of an object at runtime;\n",
    "\n",
    "reflection, which goes a step further, and is the ability of a program to manipulate the values, properties and/or functions of an object at runtime"
   ]
  },
  {
   "cell_type": "markdown",
   "metadata": {},
   "source": [
    "The function named incIntsI() gets an object of any class, scans its contents in order to find all integer attributes with names starting with i, and increments them by one."
   ]
  },
  {
   "cell_type": "code",
   "execution_count": 135,
   "metadata": {},
   "outputs": [
    {
     "name": "stdout",
     "output_type": "stream",
     "text": [
      "{'a': 1, 'b': 2, 'i': 3, 'ireal': 3.5, 'integer': 4, 'z': 5}\n",
      "{'a': 1, 'b': 2, 'i': 4, 'ireal': 3.5, 'integer': 5, 'z': 5}\n"
     ]
    }
   ],
   "source": [
    "class MyClass:\n",
    "    pass\n",
    "\n",
    "obj = MyClass()\n",
    "obj.a = 1\n",
    "obj.b = 2\n",
    "obj.i = 3\n",
    "obj.ireal = 3.5\n",
    "obj.integer = 4\n",
    "obj.z = 5\n",
    "\n",
    "def incIntsI(obj):\n",
    "    for name in obj.__dict__.keys():\n",
    "        if name.startswith('i'):\n",
    "            val = getattr(obj, name)\n",
    "            if isinstance(val, int):\n",
    "                setattr(obj, name, val + 1)\n",
    "\n",
    "print(obj.__dict__)\n",
    "incIntsI(obj)\n",
    "print(obj.__dict__)"
   ]
  },
  {
   "cell_type": "code",
   "execution_count": 136,
   "metadata": {},
   "outputs": [
    {
     "name": "stdout",
     "output_type": "stream",
     "text": [
      "Sun in Milky Way\n"
     ]
    }
   ],
   "source": [
    "class Star:\n",
    "    def __init__(self, name, galaxy):\n",
    "        self.name = name\n",
    "        self.galaxy = galaxy\n",
    "\n",
    "    def __str__(self):\n",
    "        return self.name + ' in ' + self.galaxy\n",
    "\n",
    "sun = Star(\"Sun\", \"Milky Way\")\n",
    "print(sun)"
   ]
  },
  {
   "cell_type": "code",
   "execution_count": 137,
   "metadata": {},
   "outputs": [
    {
     "name": "stdout",
     "output_type": "stream",
     "text": [
      "True\tFalse\tFalse\t\n",
      "True\tTrue\tFalse\t\n",
      "True\tTrue\tTrue\t\n"
     ]
    }
   ],
   "source": [
    "class Vehicle:\n",
    "    pass\n",
    "\n",
    "class LandVehicle(Vehicle):\n",
    "    pass\n",
    "\n",
    "class TrackedVehicle(LandVehicle):\n",
    "    pass\n",
    "\n",
    "\n",
    "for cls1 in [Vehicle, LandVehicle, TrackedVehicle]:\n",
    "    for cls2 in [Vehicle, LandVehicle, TrackedVehicle]:\n",
    "        print(issubclass(cls1, cls2), end=\"\\t\")\n",
    "    print()"
   ]
  },
  {
   "cell_type": "markdown",
   "metadata": {},
   "source": [
    "issubclass(ClassOne, ClassTwo)\n",
    "\n",
    "The function returns True if ClassOne is a subclass of ClassTwo, and False otherwise.\n",
    "\n",
    "There are two nested loops. Their purpose is to check all possible ordered pairs of classes, and to print the results of the check to determine whether the pair matches the subclass-superclass relationship."
   ]
  },
  {
   "cell_type": "markdown",
   "metadata": {},
   "source": [
    "↓ is a subclass of →\tVehicle\tLandVehicle\tTrackedVehicle\n",
    "\n",
    "Vehicle\tTrue\tFalse\tFalse\n",
    "\n",
    "LandVehicle\tTrue\tTrue\tFalse\n",
    "\n",
    "TrackedVehicle\tTrue\tTrue\tTrue"
   ]
  },
  {
   "cell_type": "markdown",
   "metadata": {},
   "source": [
    "isinstance(objectName, ClassName)\n",
    "\n",
    "The functions returns True if the object is an instance of the class, or False otherwise.\n",
    "\n",
    "Being an instance of a class means that the object (the cake) has been prepared using a recipe contained in either the class or one of its superclasses.\n",
    "\n"
   ]
  },
  {
   "cell_type": "code",
   "execution_count": 138,
   "metadata": {},
   "outputs": [
    {
     "name": "stdout",
     "output_type": "stream",
     "text": [
      "True\tFalse\tFalse\t\n",
      "True\tTrue\tFalse\t\n",
      "True\tTrue\tTrue\t\n"
     ]
    }
   ],
   "source": [
    "class Vehicle:\n",
    "    pass\n",
    "\n",
    "class LandVehicle(Vehicle):\n",
    "    pass\n",
    "\n",
    "class TrackedVehicle(LandVehicle):\n",
    "    pass\n",
    "\n",
    "\n",
    "myVehicle = Vehicle()\n",
    "myLandVehicle = LandVehicle()\n",
    "myTrackedVehicle = TrackedVehicle()\n",
    "\n",
    "for obj in [myVehicle, myLandVehicle, myTrackedVehicle]:\n",
    "    for cls in [Vehicle, LandVehicle, TrackedVehicle]:\n",
    "        print(isinstance(obj, cls), end=\"\\t\")\n",
    "    print()"
   ]
  },
  {
   "cell_type": "markdown",
   "metadata": {},
   "source": [
    "The is operator checks whether two variables (objectOne and objectTwo here) refer to the same object.\n",
    "\n"
   ]
  },
  {
   "cell_type": "code",
   "execution_count": 139,
   "metadata": {},
   "outputs": [
    {
     "name": "stdout",
     "output_type": "stream",
     "text": [
      "False\n",
      "False\n",
      "True\n",
      "1 2 1\n",
      "True False\n"
     ]
    }
   ],
   "source": [
    "class SampleClass:\n",
    "    def __init__(self, val):\n",
    "        self.val = val\n",
    "\n",
    "ob1 = SampleClass(0)\n",
    "ob2 = SampleClass(2)\n",
    "ob3 = ob1\n",
    "ob3.val += 1\n",
    "\n",
    "print(ob1 is ob2)\n",
    "print(ob2 is ob3)\n",
    "print(ob3 is ob1)\n",
    "print(ob1.val, ob2.val, ob3.val)\n",
    "\n",
    "str1 = \"Mary had a little \"\n",
    "str2 = \"Mary had a little lamb\"\n",
    "str1 += \"lamb\"\n",
    "\n",
    "print(str1 == str2, str1 is str2)"
   ]
  },
  {
   "cell_type": "code",
   "execution_count": 140,
   "metadata": {},
   "outputs": [
    {
     "name": "stdout",
     "output_type": "stream",
     "text": [
      "My name is Andy.\n"
     ]
    }
   ],
   "source": [
    "class Super:\n",
    "    def __init__(self, name):\n",
    "        self.name = name\n",
    "\n",
    "    def __str__(self):\n",
    "        return \"My name is \" + self.name + \".\"\n",
    "\n",
    "class Sub(Super):\n",
    "    def __init__(self, name):\n",
    "        Super.__init__(self, name)\n",
    "\n",
    "\n",
    "obj = Sub(\"Andy\")\n",
    "\n",
    "print(obj)"
   ]
  },
  {
   "cell_type": "markdown",
   "metadata": {},
   "source": [
    "In this example, we make use of the super() function, which accesses the superclass without needing to know its name:\n",
    "\n",
    "super().__init__(name)\n",
    "\n",
    "The super() function creates a context in which you don't have to (moreover, you mustn't) pass the self argument to the method being invoked - this is why it's possible to activate the superclass constructor using only one argument.\n",
    "\n",
    "Note: you can use this mechanism not only to invoke the superclass constructor, but also to get access to any of the resources available inside the superclass.\n",
    "\n"
   ]
  },
  {
   "cell_type": "code",
   "execution_count": 142,
   "metadata": {},
   "outputs": [
    {
     "name": "stdout",
     "output_type": "stream",
     "text": [
      "My name is Andy.\n"
     ]
    }
   ],
   "source": [
    "class Super:\n",
    "    def __init__(self, name):\n",
    "        self.name = name\n",
    "\n",
    "    def __str__(self):\n",
    "        return \"My name is \" + self.name + \".\"\n",
    "\n",
    "class Sub(Super):\n",
    "    def __init__(self, name):\n",
    "        super().__init__(name)\n",
    "\n",
    "\n",
    "obj = Sub(\"Andy\")\n",
    "\n",
    "print(obj)"
   ]
  },
  {
   "cell_type": "code",
   "execution_count": 143,
   "metadata": {},
   "outputs": [
    {
     "name": "stdout",
     "output_type": "stream",
     "text": [
      "2\n",
      "1\n"
     ]
    }
   ],
   "source": [
    "# Testing properties: class variables\n",
    "class Super:\n",
    "    supVar = 1\n",
    "\n",
    "class Sub(Super):\n",
    "    subVar = 2\n",
    "\n",
    "obj = Sub()\n",
    "\n",
    "print(obj.subVar)\n",
    "print(obj.supVar)"
   ]
  },
  {
   "cell_type": "code",
   "execution_count": 144,
   "metadata": {},
   "outputs": [
    {
     "name": "stdout",
     "output_type": "stream",
     "text": [
      "100 101 102\n",
      "200 201 202\n",
      "300 301 302\n"
     ]
    }
   ],
   "source": [
    "class Level1:\n",
    "    varia1 = 100\n",
    "    def __init__(self):\n",
    "        self.var1 = 101\n",
    "\n",
    "    def fun1(self):\n",
    "        return 102\n",
    "\n",
    "\n",
    "class Level2(Level1):\n",
    "    varia2 = 200\n",
    "    def __init__(self):\n",
    "        super().__init__()\n",
    "        self.var2 = 201\n",
    "    \n",
    "    def fun2(self):\n",
    "        return 202\n",
    "\n",
    "\n",
    "class Level3(Level2):\n",
    "    varia3 = 300\n",
    "    def __init__(self):\n",
    "        super().__init__()\n",
    "        self.var3 = 301\n",
    "\n",
    "    def fun3(self):\n",
    "        return 302\n",
    "\n",
    "\n",
    "obj = Level3()\n",
    "\n",
    "print(obj.varia1, obj.var1, obj.fun1())\n",
    "print(obj.varia2, obj.var2, obj.fun2())\n",
    "print(obj.varia3, obj.var3, obj.fun3())"
   ]
  },
  {
   "cell_type": "code",
   "execution_count": 145,
   "metadata": {},
   "outputs": [
    {
     "name": "stdout",
     "output_type": "stream",
     "text": [
      "10 11\n",
      "20 21\n"
     ]
    }
   ],
   "source": [
    "class SuperA:\n",
    "    varA = 10\n",
    "    def funA(self):\n",
    "        return 11\n",
    "\n",
    "class SuperB:\n",
    "    varB = 20\n",
    "    def funB(self):\n",
    "        return 21\n",
    "\n",
    "class Sub(SuperA, SuperB):\n",
    "    pass\n",
    "\n",
    "obj = Sub()\n",
    "\n",
    "print(obj.varA, obj.funA())\n",
    "print(obj.varB, obj.funB())"
   ]
  },
  {
   "cell_type": "code",
   "execution_count": 146,
   "metadata": {},
   "outputs": [
    {
     "name": "stdout",
     "output_type": "stream",
     "text": [
      "200 201\n"
     ]
    }
   ],
   "source": [
    "class Level1:\n",
    "    var = 100\n",
    "    def fun(self):\n",
    "        return 101\n",
    "\n",
    "class Level2:\n",
    "    var = 200\n",
    "    def fun(self):\n",
    "        return 201\n",
    "\n",
    "class Level3(Level2):\n",
    "    pass\n",
    "\n",
    "obj = Level3()\n",
    "\n",
    "print(obj.var, obj.fun())"
   ]
  },
  {
   "cell_type": "code",
   "execution_count": 147,
   "metadata": {},
   "outputs": [
    {
     "name": "stdout",
     "output_type": "stream",
     "text": [
      "L LL RR Left\n"
     ]
    }
   ],
   "source": [
    "class Left:\n",
    "    var = \"L\"\n",
    "    varLeft = \"LL\"\n",
    "    def fun(self):\n",
    "        return \"Left\"\n",
    "\n",
    "\n",
    "class Right:\n",
    "    var = \"R\"\n",
    "    varRight = \"RR\"\n",
    "    def fun(self):\n",
    "        return \"Right\"\n",
    "\n",
    "class Sub(Left, Right):\n",
    "    pass\n",
    "\n",
    "\n",
    "obj = Sub()\n",
    "\n",
    "print(obj.var, obj.varLeft, obj.varRight, obj.fun())"
   ]
  },
  {
   "cell_type": "code",
   "execution_count": 148,
   "metadata": {},
   "outputs": [
    {
     "name": "stdout",
     "output_type": "stream",
     "text": [
      "doit from One\n",
      "doit from Two\n"
     ]
    }
   ],
   "source": [
    "class One:\n",
    "    def doit(self):\n",
    "        print(\"doit from One\")\n",
    "\n",
    "    def doanything(self):\n",
    "        self.doit()\n",
    "    \n",
    "class Two(One):\n",
    "    def doit(self):\n",
    "        print(\"doit from Two\")\n",
    "\n",
    "one = One()\n",
    "two = Two()\n",
    "\n",
    "one.doanything()\n",
    "two.doanything()"
   ]
  },
  {
   "cell_type": "code",
   "execution_count": 151,
   "metadata": {},
   "outputs": [],
   "source": [
    "import time\n",
    "\n",
    "class Vehicle:\n",
    "    def changedirection(left, on):\n",
    "        pass\n",
    "\n",
    "    def turn(left):\n",
    "        changedirection(left, True)\n",
    "        time.sleep(0.25)\n",
    "        changedirection(left, False)\n",
    "\n",
    "class TrackedVehicle(Vehicle):\n",
    "    def controltrack(left, stop):\n",
    "        pass\n",
    "\n",
    "    def changedirection(left, on):\n",
    "        controltrack(left, on)\n",
    "\n",
    "class WheeledVehicle(Vehicle):\n",
    "    def turnfrontwheels(left, on):\n",
    "        pass\n",
    "\n",
    "    def changedirection(left, on):\n",
    "        turnfrontwheels(left, on)"
   ]
  },
  {
   "cell_type": "code",
   "execution_count": 152,
   "metadata": {},
   "outputs": [
    {
     "name": "stdout",
     "output_type": "stream",
     "text": [
      "wheels:  True True\n",
      "wheels:  True False\n",
      "tracks:  False True\n",
      "tracks:  False False\n"
     ]
    }
   ],
   "source": [
    "import time\n",
    "\n",
    "class Tracks:\n",
    "    def changedirection(self, left, on):\n",
    "        print(\"tracks: \", left, on)\n",
    "\n",
    "class Wheels:\n",
    "    def changedirection(self, left, on):\n",
    "        print(\"wheels: \", left, on)\n",
    "\n",
    "class Vehicle:\n",
    "    def __init__(self, controller):\n",
    "        self.controller = controller\n",
    "\n",
    "    def turn(self, left):\n",
    "        self.controller.changedirection(left, True)\n",
    "        time.sleep(0.25)\n",
    "        self.controller.changedirection(left, False)\n",
    "\n",
    "wheeled = Vehicle(Wheels())\n",
    "tracked = Vehicle(Tracks())\n",
    "\n",
    "wheeled.turn(True)\n",
    "tracked.turn(False)"
   ]
  },
  {
   "cell_type": "code",
   "execution_count": 153,
   "metadata": {},
   "outputs": [
    {
     "name": "stdout",
     "output_type": "stream",
     "text": [
      "Everything went fine\n",
      "0.5\n",
      "Division failed\n",
      "None\n"
     ]
    }
   ],
   "source": [
    "def reciprocal(n):\n",
    "    try:\n",
    "        n = 1 / n\n",
    "    except ZeroDivisionError:\n",
    "        print(\"Division failed\")\n",
    "        return None\n",
    "    else:\n",
    "        print(\"Everything went fine\")\n",
    "        return n\n",
    "\n",
    "print(reciprocal(2))\n",
    "print(reciprocal(0))"
   ]
  },
  {
   "cell_type": "code",
   "execution_count": 154,
   "metadata": {},
   "outputs": [
    {
     "name": "stdout",
     "output_type": "stream",
     "text": [
      "Everything went fine\n",
      "It's time to say goodbye\n",
      "0.5\n",
      "Division failed\n",
      "It's time to say goodbye\n",
      "None\n"
     ]
    }
   ],
   "source": [
    "def reciprocal(n):\n",
    "    try:\n",
    "        n = 1 / n\n",
    "    except ZeroDivisionError:\n",
    "        print(\"Division failed\")\n",
    "        n = None\n",
    "    else:\n",
    "        print(\"Everything went fine\")\n",
    "    finally:\n",
    "        print(\"It's time to say goodbye\")\n",
    "        return n\n",
    "\n",
    "print(reciprocal(2))\n",
    "print(reciprocal(0))"
   ]
  },
  {
   "cell_type": "code",
   "execution_count": 157,
   "metadata": {},
   "outputs": [
    {
     "name": "stdout",
     "output_type": "stream",
     "text": [
      "invalid literal for int() with base 10: 'Hello!'\n",
      "invalid literal for int() with base 10: 'Hello!'\n"
     ]
    }
   ],
   "source": [
    "try:\n",
    "    i = int(\"Hello!\")\n",
    "except Exception as e:\n",
    "    print(e)\n",
    "    print(e.__str__())"
   ]
  },
  {
   "cell_type": "code",
   "execution_count": 158,
   "metadata": {},
   "outputs": [
    {
     "name": "stdout",
     "output_type": "stream",
     "text": [
      " :  : \n",
      "my exception : my exception : my exception\n",
      "('my', 'exception') : ('my', 'exception') : ('my', 'exception')\n"
     ]
    }
   ],
   "source": [
    "def printargs(args):\n",
    "\tlng = len(args)\n",
    "\tif lng == 0:\n",
    "\t\tprint(\"\")\n",
    "\telif lng == 1:\n",
    "\t\tprint(args[0])\n",
    "\telse:\n",
    "\t\tprint(str(args))\n",
    "\n",
    "try:\n",
    "\traise Exception\n",
    "except Exception as e:\n",
    "\tprint(e, e.__str__(), sep=' : ' ,end=' : ')\n",
    "\tprintargs(e.args)\n",
    "\n",
    "try:\n",
    "\traise Exception(\"my exception\")\n",
    "except Exception as e:\n",
    "\tprint(e, e.__str__(), sep=' : ', end=' : ')\n",
    "\tprintargs(e.args)\n",
    "\n",
    "try:\n",
    "\traise Exception(\"my\", \"exception\")\n",
    "except Exception as e:\n",
    "\tprint(e, e.__str__(), sep=' : ', end=' : ')\n",
    "\tprintargs(e.args)"
   ]
  },
  {
   "cell_type": "code",
   "execution_count": 159,
   "metadata": {},
   "outputs": [
    {
     "name": "stdout",
     "output_type": "stream",
     "text": [
      "Division by zero\n",
      "Division by zero\n",
      "Original division by zero\n",
      "My division by zero\n"
     ]
    }
   ],
   "source": [
    "class MyZeroDivisionError(ZeroDivisionError):\t\n",
    "\tpass\n",
    "\n",
    "def doTheDivision(mine):\n",
    "\tif mine:\n",
    "\t\traise MyZeroDivisionError(\"some worse news\")\n",
    "\telse:\t\t\n",
    "\t\traise ZeroDivisionError(\"some bad news\")\n",
    "\n",
    "for mode in [False, True]:\n",
    "\ttry:\n",
    "\t\tdoTheDivision(mode)\n",
    "\texcept ZeroDivisionError:\n",
    "\t\tprint('Division by zero')\n",
    "\n",
    "\n",
    "for mode in [False, True]:\n",
    "\ttry:\n",
    "\t\tdoTheDivision(mode)\n",
    "\texcept MyZeroDivisionError:\n",
    "\t\tprint('My division by zero')\n",
    "\texcept ZeroDivisionError:\n",
    "\t\tprint('Original division by zero')"
   ]
  },
  {
   "cell_type": "code",
   "execution_count": 160,
   "metadata": {},
   "outputs": [],
   "source": [
    "class PizzaError(Exception):\n",
    "    def __init__(self, pizza, message):\n",
    "        Exception.__init__(message)\n",
    "        self.pizza = pizza\t\n",
    "\n",
    "\n",
    "class TooMuchCheeseError(PizzaError):\n",
    "    def __init__(self, pizza, cheese, message):\n",
    "        PizzaError._init__(self, pizza, message)\n",
    "        self.cheese = cheese"
   ]
  },
  {
   "cell_type": "code",
   "execution_count": 161,
   "metadata": {},
   "outputs": [
    {
     "name": "stdout",
     "output_type": "stream",
     "text": [
      "Pizza ready!\n",
      "too much cheese : 110\n",
      "no such pizza on the menu : mafia\n"
     ]
    }
   ],
   "source": [
    "class PizzaError(Exception):\n",
    "    def __init__(self, pizza, message):\n",
    "        Exception.__init__(self, message)\n",
    "        self.pizza = pizza\n",
    "\n",
    "\n",
    "class TooMuchCheeseError(PizzaError):\n",
    "    def __init__(self, pizza, cheese, message):\n",
    "        PizzaError.__init__(self, pizza, message)\n",
    "        self.cheese = cheese\n",
    "\n",
    "\n",
    "def makePizza(pizza, cheese):\n",
    "\tif pizza not in ['margherita', 'capricciosa', 'calzone']:\n",
    "\t\traise PizzaError(pizza, \"no such pizza on the menu\")\n",
    "\tif cheese > 100:\n",
    "\t\traise TooMuchCheeseError(pizza, cheese, \"too much cheese\")\n",
    "\tprint(\"Pizza ready!\")\n",
    "\n",
    "\n",
    "for (pz, ch) in [('calzone', 0), ('margherita', 110), ('mafia', 20)]:\n",
    "\ttry:\n",
    "\t\tmakePizza(pz, ch)\n",
    "\texcept TooMuchCheeseError as tmce:\n",
    "\t\tprint(tmce, ':', tmce.cheese)\n",
    "\texcept PizzaError as pe:\n",
    "\t\tprint(pe, ':', pe.pizza)"
   ]
  },
  {
   "cell_type": "code",
   "execution_count": 162,
   "metadata": {},
   "outputs": [
    {
     "name": "stdout",
     "output_type": "stream",
     "text": [
      "__init__\n",
      "__iter__\n",
      "__next__\n",
      "1\n",
      "__next__\n",
      "1\n",
      "__next__\n",
      "2\n",
      "__next__\n",
      "3\n",
      "__next__\n",
      "5\n",
      "__next__\n",
      "8\n",
      "__next__\n",
      "13\n",
      "__next__\n",
      "21\n",
      "__next__\n",
      "34\n",
      "__next__\n",
      "55\n",
      "__next__\n"
     ]
    }
   ],
   "source": [
    "class Fib:\n",
    "\tdef __init__(self, nn):\n",
    "\t\tprint(\"__init__\")\n",
    "\t\tself.__n = nn\n",
    "\t\tself.__i = 0\n",
    "\t\tself.__p1 = self.__p2 = 1\n",
    "\n",
    "\tdef __iter__(self):\n",
    "\t\tprint(\"__iter__\")\t\t\n",
    "\t\treturn self\n",
    "\n",
    "\tdef __next__(self):\n",
    "\t\tprint(\"__next__\")\t\t\t\t\n",
    "\t\tself.__i += 1\n",
    "\t\tif self.__i > self.__n:\n",
    "\t\t\traise StopIteration\n",
    "\t\tif self.__i in [1, 2]:\n",
    "\t\t\treturn 1\n",
    "\t\tret = self.__p1 + self.__p2\n",
    "\t\tself.__p1, self.__p2 = self.__p2, ret\n",
    "\t\treturn ret\n",
    "\n",
    "for i in Fib(10):\n",
    "\tprint(i)"
   ]
  },
  {
   "cell_type": "code",
   "execution_count": 163,
   "metadata": {},
   "outputs": [
    {
     "name": "stdout",
     "output_type": "stream",
     "text": [
      "Class iter\n",
      "1\n",
      "1\n",
      "2\n",
      "3\n",
      "5\n",
      "8\n",
      "13\n",
      "21\n"
     ]
    }
   ],
   "source": [
    "class Fib:\n",
    "\tdef __init__(self, nn):\n",
    "\t\tself.__n = nn\n",
    "\t\tself.__i = 0\n",
    "\t\tself.__p1 = self.__p2 = 1\n",
    "\n",
    "\tdef __iter__(self):\n",
    "\t\tprint(\"Fib iter\")\n",
    "\t\treturn self\n",
    "\n",
    "\tdef __next__(self):\n",
    "\t\tself.__i += 1\n",
    "\t\tif self.__i > self.__n:\n",
    "\t\t\traise StopIteration\n",
    "\t\tif self.__i in [1, 2]:\n",
    "\t\t\treturn 1\n",
    "\t\tret = self.__p1 + self.__p2\n",
    "\t\tself.__p1, self.__p2 = self.__p2, ret\n",
    "\t\treturn ret\n",
    "\n",
    "class Class:\n",
    "\tdef __init__(self, n):\n",
    "\t\tself.__iter = Fib(n)\n",
    "\n",
    "\tdef __iter__(self):\n",
    "\t\tprint(\"Class iter\")\n",
    "\t\treturn self.__iter;\n",
    "\n",
    "object = Class(8)\n",
    "\n",
    "for i in object:\n",
    "\tprint(i)"
   ]
  },
  {
   "cell_type": "code",
   "execution_count": 164,
   "metadata": {},
   "outputs": [
    {
     "name": "stdout",
     "output_type": "stream",
     "text": [
      "0\n",
      "1\n",
      "2\n",
      "3\n",
      "4\n"
     ]
    }
   ],
   "source": [
    "def fun(n):\n",
    "    for i in range(n):\n",
    "        yield i\n",
    "\n",
    "for v in fun(5):\n",
    "    print(v)"
   ]
  },
  {
   "cell_type": "code",
   "execution_count": 165,
   "metadata": {},
   "outputs": [
    {
     "name": "stdout",
     "output_type": "stream",
     "text": [
      "1\n",
      "2\n",
      "4\n",
      "8\n",
      "16\n",
      "32\n",
      "64\n",
      "128\n"
     ]
    }
   ],
   "source": [
    "def powersOf2(n):\n",
    "    pow = 1\n",
    "    for i in range(n):\n",
    "        yield pow\n",
    "        pow *= 2\n",
    "\n",
    "for v in powersOf2(8):\n",
    "    print(v)"
   ]
  },
  {
   "cell_type": "code",
   "execution_count": 166,
   "metadata": {},
   "outputs": [
    {
     "name": "stdout",
     "output_type": "stream",
     "text": [
      "[1, 0, 1, 0, 1, 0, 1, 0, 1, 0]\n"
     ]
    }
   ],
   "source": [
    "lst = []\n",
    "\n",
    "for x in range(10):\n",
    "    lst.append(1 if x % 2 == 0 else 0)\n",
    "\n",
    "print(lst)"
   ]
  },
  {
   "cell_type": "code",
   "execution_count": 167,
   "metadata": {},
   "outputs": [
    {
     "name": "stdout",
     "output_type": "stream",
     "text": [
      "f(-2)=18\n",
      "f(-1)=8\n",
      "f(0)=2\n",
      "f(1)=0\n",
      "f(2)=2\n"
     ]
    }
   ],
   "source": [
    "def printfunction(args, fun):\n",
    "\tfor x in args:\n",
    "\t\tprint('f(', x,')=', fun(x), sep='')\n",
    "\n",
    "def poly(x):\n",
    "\treturn 2 * x**2 - 4 * x + 2\n",
    "\n",
    "printfunction([x for x in range(-2, 3)], poly)"
   ]
  },
  {
   "cell_type": "code",
   "execution_count": 168,
   "metadata": {},
   "outputs": [
    {
     "name": "stdout",
     "output_type": "stream",
     "text": [
      "f(-2)=18\n",
      "f(-1)=8\n",
      "f(0)=2\n",
      "f(1)=0\n",
      "f(2)=2\n"
     ]
    }
   ],
   "source": [
    "def printfunction(args, fun):\n",
    "\tfor x in args:\n",
    "\t\tprint('f(', x,')=', fun(x), sep='')\n",
    "\n",
    "printfunction([x for x in range(-2, 3)], lambda x: 2 * x**2 - 4 * x + 2)"
   ]
  },
  {
   "cell_type": "markdown",
   "metadata": {},
   "source": [
    "map(function, list)"
   ]
  },
  {
   "cell_type": "code",
   "execution_count": 169,
   "metadata": {},
   "outputs": [
    {
     "name": "stdout",
     "output_type": "stream",
     "text": [
      "[1, 2, 4, 8, 16]\n",
      "1 4 16 64 256 \n"
     ]
    }
   ],
   "source": [
    "list1 = [x for x in range(5)]\n",
    "list2 = list(map(lambda x: 2 ** x, list1))\n",
    "print(list2)\n",
    "for x in map(lambda x: x * x, list2):\n",
    "\tprint(x, end=' ')\n",
    "print()"
   ]
  },
  {
   "cell_type": "code",
   "execution_count": 171,
   "metadata": {},
   "outputs": [
    {
     "name": "stdout",
     "output_type": "stream",
     "text": [
      "[3, 2, 3, -6, 7]\n",
      "[2]\n"
     ]
    }
   ],
   "source": [
    "from random import seed, randint\n",
    "\n",
    "seed()\n",
    "data = [ randint(-10,10) for x in range(5) ]\n",
    "filtered = list(filter(lambda x: x > 0 and x % 2 == 0, data))\n",
    "print(data)\n",
    "print(filtered)"
   ]
  },
  {
   "cell_type": "code",
   "execution_count": 172,
   "metadata": {},
   "outputs": [
    {
     "name": "stdout",
     "output_type": "stream",
     "text": [
      "1\n"
     ]
    }
   ],
   "source": [
    "def outer(par):\n",
    "\tloc = par\n",
    "\tdef inner():\n",
    "\t\treturn loc\n",
    "\treturn inner\n",
    "\n",
    "var = 1\n",
    "fun = outer(var)\n",
    "print(fun())"
   ]
  },
  {
   "cell_type": "markdown",
   "metadata": {},
   "source": [
    "the inner() function returns the value of the variable accessible inside its scope, as inner() can use any of the entities at the disposal of outer()\n",
    "\n",
    "the outer() function returns the inner() function itself; more precisely, it returns a copy of the inner() function, the one which was frozen at the moment of outer()'s invocation; the frozen function contains its full environment, including the state of all local variables, which also means that the value of loc is successfully retained, although outer() ceased to exist a long time ago."
   ]
  },
  {
   "cell_type": "code",
   "execution_count": 173,
   "metadata": {},
   "outputs": [
    {
     "name": "stdout",
     "output_type": "stream",
     "text": [
      "0 0 0\n",
      "1 1 1\n",
      "2 4 8\n",
      "3 9 27\n",
      "4 16 64\n"
     ]
    }
   ],
   "source": [
    "def makeclosure(par):\n",
    "\tloc = par\n",
    "\tdef power(p):\n",
    "\t\treturn p ** loc\n",
    "\treturn power\n",
    "\n",
    "fsqr = makeclosure(2)\n",
    "fcub = makeclosure(3)\n",
    "for i in range(5):\n",
    "\tprint(i, fsqr(i), fcub(i))"
   ]
  },
  {
   "cell_type": "markdown",
   "metadata": {},
   "source": [
    "sys.stdin\n",
    "stdin (as standard input)\n",
    "the stdin stream is normally associated with the keyboard, pre-open for reading and regarded as the primary data source for the running programs;\n",
    "the well-known input() function reads data from stdin by default.\n",
    "\n",
    "sys.stdout\n",
    "stdout (as standard output)\n",
    "the stdout stream is normally associated with the screen, pre-open for writing, regarded as the primary target for outputting data by the running program;\n",
    "the well-known print() function outputs the data to the stdout stream.\n",
    "\n",
    "sys.stderr\n",
    "stderr (as standard error output)\n",
    "the stderr stream is normally associated with the screen, pre-open for writing, regarded as the primary place where the running program should send information on the errors encountered during its work;\n",
    "we haven't presented any method to send the data to this stream (we will do it soon, we promise)\n",
    "the separation of stdout (useful results produced by the program) from the stderr (error messages, undeniably useful but does not provide results) gives the possibility of redirecting these two types of information to the different targets. More extensive discussion of this issue is beyond the scope of our course. The operation system handbook will provide more information on these issues."
   ]
  },
  {
   "cell_type": "markdown",
   "metadata": {},
   "source": [
    "Diagnosing stream problems\n",
    "The IOError object is equipped with a property named errno (the name comes from the phrase error number) and you can access it as follows:\n",
    "\n",
    "try:\n",
    "    # some stream operations\n",
    "except IOError as exc:\n",
    "    print(exc.errno)\n",
    "\n",
    "The value of the errno attribute can be compared with one of the predefined symbolic constants defined in the errno module.\n",
    "\n",
    "\n",
    "\n",
    "\n",
    "Let's take a look at some selected constants useful for detecting stream errors:\n",
    "\n",
    "errno.EACCES → Permission denied\n",
    "\n",
    "The error occurs when you try, for example, to open a file with the read only attribute for writing.\n",
    "\n",
    "\n",
    "errno.EBADF → Bad file number\n",
    "\n",
    "The error occurs when you try, for example, to operate with an unopened stream.\n",
    "\n",
    "errno.EEXIST → File exists\n",
    "\n",
    "The error occurs when you try, for example, to rename a file with its previous name.\n",
    "\n",
    "\n",
    "errno.EFBIG → File too large\n",
    "\n",
    "The error occurs when you try to create a file that is larger than the maximum allowed by the operating system.\n",
    "\n",
    "\n",
    "errno.EISDIR → Is a directory\n",
    "\n",
    "The error occurs when you try to treat a directory name as the name of an ordinary file.\n",
    "\n",
    "\n",
    "errno.EMFILE → Too many open files\n",
    "\n",
    "The error occurs when you try to simultaneously open more streams than acceptable for your operating system.\n",
    "\n",
    "\n",
    "errno.ENOENT → No such file or directory\n",
    "\n",
    "The error occurs when you try to access a non-existent file/directory.\n",
    "\n",
    "\n",
    "errno.ENOSPC → No space left on device\n",
    "\n",
    "The error occurs when there is no free space on the media.\n",
    "\n",
    "\n",
    "The complete list is much longer (it includes also some error codes not related to the stream processing.)"
   ]
  },
  {
   "cell_type": "code",
   "execution_count": 174,
   "metadata": {},
   "outputs": [
    {
     "name": "stdout",
     "output_type": "stream",
     "text": [
      "0xa\n",
      "0x9\n",
      "0x8\n",
      "0x7\n",
      "0x6\n",
      "0x5\n",
      "0x4\n",
      "0x3\n",
      "0x2\n",
      "0x1\n"
     ]
    }
   ],
   "source": [
    "data = bytearray(10)\n",
    "\n",
    "for i in range(len(data)):\n",
    "    data[i] = 10 - i\n",
    "\n",
    "for b in data:\n",
    "    print(hex(b))"
   ]
  },
  {
   "cell_type": "code",
   "execution_count": 175,
   "metadata": {},
   "outputs": [],
   "source": [
    "from os import strerror\n",
    "\n",
    "data = bytearray(10)\n",
    "\n",
    "for i in range(len(data)):\n",
    "    data[i] = 10 + i\n",
    "\n",
    "try:\n",
    "    bf = open('file.bin', 'wb')\n",
    "    bf.write(data)\n",
    "    bf.close()\n",
    "except IOError as e:\n",
    "    print(\"I/O error occurred:\", strerr(e.errno))\n",
    "\n",
    "\n",
    "\n",
    "# enter code that reads bytes from the stream here"
   ]
  },
  {
   "cell_type": "code",
   "execution_count": 176,
   "metadata": {},
   "outputs": [
    {
     "name": "stdout",
     "output_type": "stream",
     "text": [
      "0xa 0xb 0xc 0xd 0xe 0xf 0x10 0x11 0x12 0x13 "
     ]
    }
   ],
   "source": [
    "from os import strerror\n",
    "\n",
    "data = bytearray(10)\n",
    "\n",
    "try:\n",
    "    bf = open('file.bin', 'rb')\n",
    "    bf.readinto(data)\n",
    "    bf.close()\n",
    "\n",
    "    for b in data:\n",
    "        print(hex(b), end=' ')\n",
    "except IOError as e:\n",
    "    print(\"I/O error occurred:\", strerr(e.errno))\n"
   ]
  },
  {
   "cell_type": "code",
   "execution_count": 177,
   "metadata": {},
   "outputs": [
    {
     "name": "stdout",
     "output_type": "stream",
     "text": [
      "0xa 0xb 0xc 0xd 0xe 0xf 0x10 0x11 0x12 0x13 "
     ]
    }
   ],
   "source": [
    "from os import strerror\n",
    "\n",
    "try:\n",
    "    bf = open('file.bin', 'rb')\n",
    "    data = bytearray(bf.read())\n",
    "    bf.close()\n",
    "\n",
    "    for b in data:\n",
    "        print(hex(b), end=' ')\n",
    "\n",
    "except IOError as e:\n",
    "    print(\"I/O error occurred:\", strerr(e.errno))"
   ]
  },
  {
   "cell_type": "code",
   "execution_count": 178,
   "metadata": {},
   "outputs": [
    {
     "name": "stdout",
     "output_type": "stream",
     "text": [
      "0xa 0xb 0xc 0xd 0xe "
     ]
    }
   ],
   "source": [
    "try:\n",
    "    bf = open('file.bin', 'rb')\n",
    "    data = bytearray(bf.read(5))\n",
    "    bf.close()\n",
    "\n",
    "    for b in data:\n",
    "        print(hex(b), end=' ')\n",
    "\n",
    "except IOError as e:\n",
    "    print(\"I/O error occurred:\", strerr(e.errno))"
   ]
  },
  {
   "cell_type": "code",
   "execution_count": null,
   "metadata": {},
   "outputs": [],
   "source": [
    "from os import strerror\n",
    "\n",
    "srcname = input(\"Source file name?: \")\n",
    "try:\n",
    "    src = open(srcname, 'rb')\n",
    "except IOError as e:\n",
    "    print(\"Cannot open source file: \", strerror(e.errno))\n",
    "    exit(e.errno)\t\n",
    "dstname = input(\"Destination file name?: \")\n",
    "try:\n",
    "    dst = open(dstname, 'wb')\n",
    "except Exception as e:\n",
    "    print(\"Cannot create destination file: \", strerr(e.errno))\n",
    "    src.close()\n",
    "    exit(e.errno)\t\n",
    "\n",
    "buffer = bytearray(65536)\n",
    "total  = 0\n",
    "try:\n",
    "    readin = src.readinto(buffer)\n",
    "    while readin > 0:\n",
    "        written = dst.write(buffer[:readin])\n",
    "        total += written\n",
    "        readin = src.readinto(buffer)\n",
    "except IOError as e:\n",
    "    print(\"Cannot create destination file: \", strerr(e.errno))\n",
    "    exit(e.errno)\t\n",
    "    \n",
    "print(total,'byte(s) succesfully written')\n",
    "src.close()\n",
    "dst.close()"
   ]
  },
  {
   "cell_type": "markdown",
   "metadata": {},
   "source": [
    "## Scenario\n",
    "A text file contains some text (nothing unusual) but we need to know how often (or how rare) each letter appears in the text. Such an analysis may be useful in cryptography, so we want to be able to do that in reference to the Latin alphabet.\n",
    "\n",
    "Your task is to write a program which:\n",
    "\n",
    "asks the user for the input file's name;\n",
    "reads the file (if possible) and counts all the Latin letters (lower- and upper-case letters are treated as equal)\n",
    "prints a simple histogram in alphabetical order (only non-zero counts should be presented)\n",
    "Create a test file for the code, and check if your histogram contains valid results.\n",
    "\n",
    "Assuming that the test file contains just one line filled with:\n",
    "\n",
    "aBc\n",
    "\n",
    "the expected output should look as follows:\n",
    "a -> 1\n",
    "b -> 1\n",
    "c -> 1\n",
    "\n",
    "Tip:\n",
    "\n",
    "We think that a dictionary is a perfect data collection medium for storing the counts. The letters may be keys while the counters can be values."
   ]
  },
  {
   "cell_type": "markdown",
   "metadata": {},
   "source": [
    "## Scenario\n",
    "The previous code needs to be improved. It's okay, but it has to be better.\n",
    "\n",
    "Your task is to make some amendments, which generate the following results:\n",
    "\n",
    "the output histogram will be sorted based on the characters' frequency (the bigger counter should be presented first)\n",
    "the histogram should be sent to a file with the same name as the input one, but with the suffix '.hist' (it should be concatenated to the original name)\n",
    "Assuming that the input file contains just one line filled with:\n",
    "\n",
    "cBabAa\n",
    "\n",
    "the expected output should look as follows:\n",
    "a -> 3\n",
    "b -> 2\n",
    "c -> 1\n",
    "\n",
    "Tip:\n",
    "\n",
    "Use a lambda to change the sort order."
   ]
  },
  {
   "cell_type": "markdown",
   "metadata": {},
   "source": [
    "## Scenario\n",
    "Prof. Jekyll conducts classes with students and regularly makes notes in a text file. Each line of the file contains 3 elements: the student's first name, the student's last name, and the number of point the student received during certain classes.\n",
    "\n",
    "The elements are separated with white spaces. Each student may appear more than once inside Prof. Jekyll's file.\n",
    "\n",
    "The file may look as follows:\n",
    "\n",
    "John\tSmith\t5\n",
    "Anna\tBoleyn\t4.5\n",
    "John\tSmith\t2\n",
    "Anna\tBoleyn\t11\n",
    "Andrew\tCox\t1.5\n",
    "\n",
    "Your task is to write a program which:\n",
    "\n",
    "asks the user for Prof. Jekyll's file name;\n",
    "reads the file contents and counts the sum of the received points for each student;\n",
    "prints a simple (but sorted) report, just like this one:\n",
    "Andrew Cox \t 1.5\n",
    "Anna Boleyn \t 15.5\n",
    "John Smith \t 7.0\n",
    "\n",
    "Note:\n",
    "\n",
    "your program must be fully protected against all possible failures: the file's non-existence, the file's emptiness, or any input data failures; encountering any data error should cause immediate program termination, and the erroneous should be presented to the user;\n",
    "implement and use your own exceptions hierarchy - we've presented it in the editor; the second exception should be raised when a bad line is detect, and the third when the source file exists but is empty.\n",
    "Tip:\n",
    "\n",
    "Use a dictionary to store the students' data."
   ]
  },
  {
   "cell_type": "code",
   "execution_count": null,
   "metadata": {},
   "outputs": [],
   "source": [
    "class StudentsDataException(Exception):\n",
    "\tpass\n",
    "\n",
    "class BadLine(StudentsDataException):\n",
    "\t# put your code here\n",
    "\n",
    "class FileEmpty(StudentsDataException):\n",
    "\t# put your code here"
   ]
  },
  {
   "cell_type": "code",
   "execution_count": null,
   "metadata": {},
   "outputs": [],
   "source": [
    "class I:\n",
    "    def __init__(self):\n",
    "        self.s="
   ]
  },
  {
   "cell_type": "code",
   "execution_count": 180,
   "metadata": {},
   "outputs": [
    {
     "name": "stdout",
     "output_type": "stream",
     "text": [
      "3\n"
     ]
    }
   ],
   "source": [
    "try:\n",
    "    raise Exception(1,2,3)\n",
    "except Exception as e:\n",
    "    print(len(e.args))"
   ]
  },
  {
   "cell_type": "code",
   "execution_count": 184,
   "metadata": {},
   "outputs": [
    {
     "ename": "AttributeError",
     "evalue": "'A' object has no attribute '__a'",
     "output_type": "error",
     "traceback": [
      "\u001b[1;31m---------------------------------------------------------------------------\u001b[0m",
      "\u001b[1;31mAttributeError\u001b[0m                            Traceback (most recent call last)",
      "\u001b[1;32m<ipython-input-184-a297801f8b98>\u001b[0m in \u001b[0;36m<module>\u001b[1;34m\u001b[0m\n\u001b[0;32m      3\u001b[0m         \u001b[0mself\u001b[0m\u001b[1;33m.\u001b[0m\u001b[0m__a\u001b[0m\u001b[1;33m=\u001b[0m \u001b[0mv\u001b[0m \u001b[1;33m+\u001b[0m \u001b[1;36m1\u001b[0m\u001b[1;33m\u001b[0m\u001b[0m\n\u001b[0;32m      4\u001b[0m \u001b[0ma\u001b[0m\u001b[1;33m=\u001b[0m\u001b[0mA\u001b[0m\u001b[1;33m(\u001b[0m\u001b[1;36m0\u001b[0m\u001b[1;33m)\u001b[0m\u001b[1;33m\u001b[0m\u001b[0m\n\u001b[1;32m----> 5\u001b[1;33m \u001b[0mprint\u001b[0m\u001b[1;33m(\u001b[0m\u001b[0ma\u001b[0m\u001b[1;33m.\u001b[0m\u001b[0m__a\u001b[0m\u001b[1;33m)\u001b[0m\u001b[1;33m\u001b[0m\u001b[0m\n\u001b[0m",
      "\u001b[1;31mAttributeError\u001b[0m: 'A' object has no attribute '__a'"
     ]
    }
   ],
   "source": [
    "class A:\n",
    "    def __init__(self,v):\n",
    "        self.__a= v + 1\n",
    "a=A(0)\n",
    "print(a.__a)"
   ]
  },
  {
   "cell_type": "code",
   "execution_count": 185,
   "metadata": {},
   "outputs": [
    {
     "name": "stdout",
     "output_type": "stream",
     "text": [
      "2\n"
     ]
    }
   ],
   "source": [
    "class A:\n",
    "    def __init__(self,v=1):\n",
    "        self.v=v\n",
    "    def set(self,v):\n",
    "        self.v=v\n",
    "        return v\n",
    "a=A()\n",
    "print(a.set(a.v+1))"
   ]
  },
  {
   "cell_type": "code",
   "execution_count": 192,
   "metadata": {},
   "outputs": [
    {
     "name": "stdout",
     "output_type": "stream",
     "text": [
      "False\n"
     ]
    }
   ],
   "source": [
    "class A:\n",
    "    A=1\n",
    "    def __init__(self):\n",
    "        self.a=0\n",
    "print(hasattr(A,'a'))"
   ]
  },
  {
   "cell_type": "code",
   "execution_count": 187,
   "metadata": {},
   "outputs": [
    {
     "name": "stdout",
     "output_type": "stream",
     "text": [
      "b\n"
     ]
    }
   ],
   "source": [
    "class A:\n",
    "    def __str__(self):\n",
    "        return 'a'\n",
    "class B(A):\n",
    "    def __str__(self):\n",
    "        return 'b'\n",
    "class C(B):\n",
    "    pass\n",
    "o=C()\n",
    "print(o)"
   ]
  },
  {
   "cell_type": "code",
   "execution_count": 188,
   "metadata": {},
   "outputs": [
    {
     "name": "stdout",
     "output_type": "stream",
     "text": [
      "True\n"
     ]
    }
   ],
   "source": [
    "class A:\n",
    "    pass\n",
    "class B(A):\n",
    "    pass\n",
    "class C(B):\n",
    "    pass\n",
    "print(issubclass(C,A))"
   ]
  },
  {
   "cell_type": "code",
   "execution_count": 189,
   "metadata": {},
   "outputs": [
    {
     "data": {
      "text/plain": [
       "'ace'"
      ]
     },
     "execution_count": 189,
     "metadata": {},
     "output_type": "execute_result"
    }
   ],
   "source": [
    "s='abcdef'\n",
    "s[::2]"
   ]
  },
  {
   "cell_type": "code",
   "execution_count": 190,
   "metadata": {},
   "outputs": [
    {
     "name": "stdout",
     "output_type": "stream",
     "text": [
      "r\n"
     ]
    }
   ],
   "source": [
    "print(chr(ord('p')+2))"
   ]
  },
  {
   "cell_type": "code",
   "execution_count": 191,
   "metadata": {},
   "outputs": [
    {
     "name": "stdout",
     "output_type": "stream",
     "text": [
      "__main__\n"
     ]
    }
   ],
   "source": [
    "print(__name__)"
   ]
  },
  {
   "cell_type": "code",
   "execution_count": 194,
   "metadata": {},
   "outputs": [
    {
     "name": "stdout",
     "output_type": "stream",
     "text": [
      "2\n"
     ]
    }
   ],
   "source": [
    "x=\"\\\\\\\\\"\n",
    "print(len(x))"
   ]
  },
  {
   "cell_type": "code",
   "execution_count": 199,
   "metadata": {},
   "outputs": [
    {
     "ename": "TypeError",
     "evalue": "'str' object doesn't support item deletion",
     "output_type": "error",
     "traceback": [
      "\u001b[1;31m---------------------------------------------------------------------------\u001b[0m",
      "\u001b[1;31mTypeError\u001b[0m                                 Traceback (most recent call last)",
      "\u001b[1;32m<ipython-input-199-77ba4dc932bf>\u001b[0m in \u001b[0;36m<module>\u001b[1;34m\u001b[0m\n\u001b[0;32m      1\u001b[0m \u001b[0ms\u001b[0m\u001b[1;33m=\u001b[0m\u001b[1;34m'abcd'\u001b[0m\u001b[1;33m\u001b[0m\u001b[0m\n\u001b[1;32m----> 2\u001b[1;33m \u001b[1;32mdel\u001b[0m \u001b[0ms\u001b[0m\u001b[1;33m[\u001b[0m\u001b[1;36m2\u001b[0m\u001b[1;33m]\u001b[0m\u001b[1;33m\u001b[0m\u001b[0m\n\u001b[0m",
      "\u001b[1;31mTypeError\u001b[0m: 'str' object doesn't support item deletion"
     ]
    }
   ],
   "source": [
    "s='abcd'\n",
    "del s[2]"
   ]
  },
  {
   "cell_type": "code",
   "execution_count": 200,
   "metadata": {},
   "outputs": [
    {
     "ename": "NameError",
     "evalue": "name 'l' is not defined",
     "output_type": "error",
     "traceback": [
      "\u001b[1;31m---------------------------------------------------------------------------\u001b[0m",
      "\u001b[1;31mNameError\u001b[0m                                 Traceback (most recent call last)",
      "\u001b[1;32m<ipython-input-200-63f8295e40f7>\u001b[0m in \u001b[0;36m<module>\u001b[1;34m\u001b[0m\n\u001b[0;32m      1\u001b[0m \u001b[0mlt\u001b[0m\u001b[1;33m=\u001b[0m\u001b[1;33m[\u001b[0m\u001b[1;36m1\u001b[0m\u001b[1;33m,\u001b[0m\u001b[1;36m2\u001b[0m\u001b[1;33m,\u001b[0m\u001b[1;36m3\u001b[0m\u001b[1;33m,\u001b[0m\u001b[1;36m4\u001b[0m\u001b[1;33m]\u001b[0m\u001b[1;33m\u001b[0m\u001b[0m\n\u001b[1;32m----> 2\u001b[1;33m \u001b[0mlt\u001b[0m\u001b[1;33m=\u001b[0m\u001b[0mlist\u001b[0m\u001b[1;33m(\u001b[0m\u001b[0mmap\u001b[0m\u001b[1;33m(\u001b[0m\u001b[1;32mlambda\u001b[0m \u001b[0mx\u001b[0m\u001b[1;33m:\u001b[0m \u001b[1;36m2\u001b[0m\u001b[1;33m*\u001b[0m\u001b[0mx\u001b[0m\u001b[1;33m,\u001b[0m\u001b[0ml\u001b[0m\u001b[1;33m)\u001b[0m\u001b[1;33m)\u001b[0m\u001b[1;33m\u001b[0m\u001b[0m\n\u001b[0m\u001b[0;32m      3\u001b[0m \u001b[0mprint\u001b[0m\u001b[1;33m(\u001b[0m\u001b[0mlt\u001b[0m\u001b[1;33m)\u001b[0m\u001b[1;33m\u001b[0m\u001b[0m\n",
      "\u001b[1;31mNameError\u001b[0m: name 'l' is not defined"
     ]
    }
   ],
   "source": [
    "lt=[1,2,3,4]\n",
    "lt=list(map(lambda x: 2*x,l))\n",
    "print(lt)"
   ]
  },
  {
   "cell_type": "code",
   "execution_count": 202,
   "metadata": {},
   "outputs": [
    {
     "name": "stdout",
     "output_type": "stream",
     "text": [
      "ac\n"
     ]
    }
   ],
   "source": [
    "try:\n",
    "    raise Exception\n",
    "except BaseException:\n",
    "    print('a',end='')\n",
    "else:\n",
    "    print('b',end='')\n",
    "finally:\n",
    "    print('c')"
   ]
  },
  {
   "cell_type": "code",
   "execution_count": 203,
   "metadata": {},
   "outputs": [
    {
     "name": "stdout",
     "output_type": "stream",
     "text": [
      "*\n"
     ]
    }
   ],
   "source": [
    "i=4\n",
    "while i>0:\n",
    "    i-=2\n",
    "    print('*')\n",
    "    if i==2:\n",
    "        break\n",
    "else:\n",
    "    print('*')"
   ]
  },
  {
   "cell_type": "code",
   "execution_count": 204,
   "metadata": {},
   "outputs": [
    {
     "name": "stdout",
     "output_type": "stream",
     "text": [
      "False True\n"
     ]
    }
   ],
   "source": [
    "class X:\n",
    "    pass\n",
    "class Y(X):\n",
    "    pass\n",
    "class Z(Y):\n",
    "    pass\n",
    "x=X()\n",
    "z=Z()\n",
    "print(isinstance(x,Z),isinstance(z,X))"
   ]
  },
  {
   "cell_type": "code",
   "execution_count": 206,
   "metadata": {},
   "outputs": [
    {
     "name": "stdout",
     "output_type": "stream",
     "text": [
      "0\n"
     ]
    }
   ],
   "source": [
    "print(len([i for i in range(0,-2)]))"
   ]
  },
  {
   "cell_type": "code",
   "execution_count": 207,
   "metadata": {},
   "outputs": [
    {
     "name": "stdout",
     "output_type": "stream",
     "text": [
      "<__main__.A object at 0x0000020190FF0B70>\n"
     ]
    }
   ],
   "source": [
    "class A:\n",
    "    def __init__(self,name):\n",
    "        self.name=name\n",
    "a=A('class')\n",
    "print(a)"
   ]
  },
  {
   "cell_type": "code",
   "execution_count": 208,
   "metadata": {},
   "outputs": [
    {
     "name": "stdout",
     "output_type": "stream",
     "text": [
      "1\n"
     ]
    }
   ],
   "source": [
    "x='''\n",
    "'''\n",
    "print(len(x))"
   ]
  },
  {
   "cell_type": "code",
   "execution_count": 210,
   "metadata": {},
   "outputs": [
    {
     "name": "stdout",
     "output_type": "stream",
     "text": [
      "a\"b\"c\n"
     ]
    }
   ],
   "source": [
    "print('a','b','c',sep='\"')"
   ]
  },
  {
   "cell_type": "code",
   "execution_count": 211,
   "metadata": {},
   "outputs": [
    {
     "name": "stdout",
     "output_type": "stream",
     "text": [
      "3.5\n"
     ]
    }
   ],
   "source": [
    "print(1+1//2+1/2+2)"
   ]
  },
  {
   "cell_type": "code",
   "execution_count": 212,
   "metadata": {},
   "outputs": [
    {
     "name": "stdout",
     "output_type": "stream",
     "text": [
      "*****"
     ]
    }
   ],
   "source": [
    "x=16\n",
    "while x>0:\n",
    "    print('*',end='')\n",
    "    x//=2"
   ]
  },
  {
   "cell_type": "code",
   "execution_count": 213,
   "metadata": {},
   "outputs": [
    {
     "name": "stdout",
     "output_type": "stream",
     "text": [
      "x\n",
      "x\n"
     ]
    }
   ],
   "source": [
    "ls=[[c for c in range(r)] for r in range(3)]\n",
    "for x in ls:\n",
    "    if len(x)<2:\n",
    "        print('x')"
   ]
  },
  {
   "cell_type": "code",
   "execution_count": 214,
   "metadata": {},
   "outputs": [
    {
     "name": "stdout",
     "output_type": "stream",
     "text": [
      "None\n"
     ]
    }
   ],
   "source": [
    "def fun(d,k,v):\n",
    "    d[k]=v\n",
    "dc={}\n",
    "print(fun(dc,'1','v'))"
   ]
  },
  {
   "cell_type": "code",
   "execution_count": 217,
   "metadata": {},
   "outputs": [
    {
     "ename": "SyntaxError",
     "evalue": "positional argument follows keyword argument (<ipython-input-217-d72d94dde3f8>, line 3)",
     "output_type": "error",
     "traceback": [
      "\u001b[1;36m  File \u001b[1;32m\"<ipython-input-217-d72d94dde3f8>\"\u001b[1;36m, line \u001b[1;32m3\u001b[0m\n\u001b[1;33m    print(f(par2=1, 2))\u001b[0m\n\u001b[1;37m                   ^\u001b[0m\n\u001b[1;31mSyntaxError\u001b[0m\u001b[1;31m:\u001b[0m positional argument follows keyword argument\n"
     ]
    }
   ],
   "source": [
    "def f(par2,par1):\n",
    "    return par2 + par1\n",
    "print(f(par2=1, 2))"
   ]
  },
  {
   "cell_type": "code",
   "execution_count": 218,
   "metadata": {},
   "outputs": [
    {
     "name": "stdout",
     "output_type": "stream",
     "text": [
      "1 2 3 "
     ]
    }
   ],
   "source": [
    "d={'one':1,'three':3,'two':2}\n",
    "for k in sorted(d.values()):\n",
    "    print(k,end=' ')"
   ]
  },
  {
   "cell_type": "code",
   "execution_count": 219,
   "metadata": {},
   "outputs": [
    {
     "name": "stdout",
     "output_type": "stream",
     "text": [
      "1\n"
     ]
    }
   ],
   "source": [
    "print(len((1,)))"
   ]
  },
  {
   "cell_type": "code",
   "execution_count": 220,
   "metadata": {},
   "outputs": [
    {
     "name": "stdout",
     "output_type": "stream",
     "text": [
      "24"
     ]
    }
   ],
   "source": [
    "d={}\n",
    "d['2']=[1,2]\n",
    "d['1']=[3,4]\n",
    "for x in d.keys():\n",
    "    print(d[x][1],end='')"
   ]
  },
  {
   "cell_type": "code",
   "execution_count": 221,
   "metadata": {},
   "outputs": [
    {
     "name": "stdout",
     "output_type": "stream",
     "text": [
      "2\n"
     ]
    }
   ],
   "source": [
    "t=(1,)\n",
    "t=t[0]+t[0]\n",
    "print(t)"
   ]
  },
  {
   "cell_type": "code",
   "execution_count": 223,
   "metadata": {},
   "outputs": [
    {
     "data": {
      "text/plain": [
       "True"
      ]
     },
     "execution_count": 223,
     "metadata": {},
     "output_type": "execute_result"
    }
   ],
   "source": [
    "x=1<2 or 2>1 and 1>2 or 2<1\n",
    "x"
   ]
  },
  {
   "cell_type": "code",
   "execution_count": 224,
   "metadata": {},
   "outputs": [
    {
     "name": "stdout",
     "output_type": "stream",
     "text": [
      "5\n"
     ]
    }
   ],
   "source": [
    "class A:\n",
    "    A=1\n",
    "    def __init__(self,v=2):\n",
    "        self.v=v+A.A\n",
    "        A.A+=1\n",
    "    def set(self,v):\n",
    "        self.v+=v\n",
    "        A.A+=1\n",
    "        return\n",
    "a=A()\n",
    "a.set(2)\n",
    "print(a.v)"
   ]
  },
  {
   "cell_type": "code",
   "execution_count": null,
   "metadata": {},
   "outputs": [],
   "source": []
  }
 ],
 "metadata": {
  "kernelspec": {
   "display_name": "Python 3",
   "language": "python",
   "name": "python3"
  },
  "language_info": {
   "codemirror_mode": {
    "name": "ipython",
    "version": 3
   },
   "file_extension": ".py",
   "mimetype": "text/x-python",
   "name": "python",
   "nbconvert_exporter": "python",
   "pygments_lexer": "ipython3",
   "version": "3.6.4"
  }
 },
 "nbformat": 4,
 "nbformat_minor": 2
}
