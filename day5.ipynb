{
 "cells": [
  {
   "cell_type": "markdown",
   "metadata": {},
   "source": [
    "# Advance scripting"
   ]
  },
  {
   "cell_type": "markdown",
   "metadata": {},
   "source": [
    "## Functions"
   ]
  },
  {
   "cell_type": "markdown",
   "metadata": {},
   "source": [
    "- creation of a function"
   ]
  },
  {
   "cell_type": "code",
   "execution_count": 1,
   "metadata": {},
   "outputs": [
    {
     "name": "stdout",
     "output_type": "stream",
     "text": [
      "7\n",
      "9\n",
      "5\n"
     ]
    }
   ],
   "source": [
    "def addition():\n",
    "    print(2+5)\n",
    "addition()\n",
    "def addition1(x,y):\n",
    "    return x+y\n",
    "\n",
    "print(addition1(3,6))\n",
    "tr=addition1(5,0)\n",
    "print(tr)"
   ]
  },
  {
   "cell_type": "code",
   "execution_count": 2,
   "metadata": {},
   "outputs": [
    {
     "name": "stdout",
     "output_type": "stream",
     "text": [
      "sum2 is: 9 & sum1 is: 2\n",
      "sum1 is:  2\n"
     ]
    }
   ],
   "source": [
    "# note this an example for global and local variable\n",
    "sum1=0  \n",
    "def addition(x,y):\n",
    "    sum1=x+y\n",
    "    return sum1\n",
    "sum2=addition(3,6)\n",
    "sum1+=2\n",
    "print(\"sum2 is: {0} & sum1 is: {1}\".format(sum2,sum1))\n",
    "print('sum1 is: ',sum1)"
   ]
  },
  {
   "cell_type": "markdown",
   "metadata": {},
   "source": [
    "- args "
   ]
  },
  {
   "cell_type": "code",
   "execution_count": 3,
   "metadata": {},
   "outputs": [
    {
     "name": "stdout",
     "output_type": "stream",
     "text": [
      "('1', 'i', 'a', 'm', 'iron', 'mk', '43')\n",
      "<class 'tuple'>\n",
      "1iamironmk43\n",
      "1iamironmk43\n"
     ]
    }
   ],
   "source": [
    "# use *args whenever you dont know how many arguments can be passed\n",
    "def addition(*args):\n",
    "    print(args)\n",
    "    print(type(args))\n",
    "    s=''\n",
    "    for i in args:\n",
    "        s+=i\n",
    "    print(s)\n",
    "    return s\n",
    "# b=addition(1,5,30,90,70)\n",
    "#print('im b: ',b) \n",
    "c=addition('1','i','a','m','iron','mk','43') #this is by default a tupple\n",
    "print(c)"
   ]
  },
  {
   "cell_type": "code",
   "execution_count": 2,
   "metadata": {},
   "outputs": [
    {
     "name": "stdout",
     "output_type": "stream",
     "text": [
      "{'name': 'junaid', 'rollno': 91, 'sport': 'tick'}\n",
      "<class 'dict'>\n",
      "dict_items([('name', 'junaid'), ('rollno', 91), ('sport', 'tick')])\n",
      "name junaid\n",
      "rollno 91\n",
      "sport tick\n",
      "OH! you are a idiotic person  junaid\n",
      "{'name': 'tus', 'rollno': 12, 'sport': 'cricket'}\n",
      "<class 'dict'>\n",
      "dict_items([('name', 'tus'), ('rollno', 12), ('sport', 'cricket')])\n",
      "name tus\n",
      "rollno 12\n",
      "sport cricket\n",
      "th= {'name': 'junaid', 'rollno': 91, 'sport': 'tick'}\n",
      "yh= {'name': 'tus', 'rollno': 12, 'sport': 'cricket'}\n"
     ]
    }
   ],
   "source": [
    "# **kwargs will pass keywords and their values aka dictionary\n",
    "def mycollege(**kwargs):\n",
    "    print(kwargs)\n",
    "    print(type(kwargs))\n",
    "    print(kwargs.items())\n",
    "    for i,j in kwargs.items():\n",
    "        print(i,j)\n",
    "        if j=='tick':\n",
    "            print('OH! you are a idiotic person ',list(kwargs.values())[0])\n",
    "    return(kwargs)\n",
    "th=mycollege(name='junaid',rollno=91,sport='tick')\n",
    "yh=mycollege(name='tus',rollno=12,sport='cricket')\n",
    "print('th=',th)\n",
    "print('yh=',yh)"
   ]
  },
  {
   "cell_type": "markdown",
   "metadata": {},
   "source": [
    "## list comprehension"
   ]
  },
  {
   "cell_type": "code",
   "execution_count": 5,
   "metadata": {},
   "outputs": [
    {
     "name": "stdout",
     "output_type": "stream",
     "text": [
      "[0, 8, 64, 216, 512]\n"
     ]
    }
   ],
   "source": [
    "#List comprehensions are used for creating new lists from other iterables.\n",
    "#This is the basic syntax:\n",
    "#new_list = [expression for_loop_one_or_more conditions]\n",
    "cube=[x**3 for x in range(10) if x%2==0] \n",
    "print(cube)"
   ]
  },
  {
   "cell_type": "code",
   "execution_count": 6,
   "metadata": {},
   "outputs": [
    {
     "name": "stdout",
     "output_type": "stream",
     "text": [
      "[0, 1, 4, 9, 16, 25, 36, 49, 64, 81]\n"
     ]
    }
   ],
   "source": [
    "sq=[x**2 for x in range(10)]\n",
    "print(sq)"
   ]
  },
  {
   "cell_type": "code",
   "execution_count": 7,
   "metadata": {},
   "outputs": [
    {
     "name": "stdout",
     "output_type": "stream",
     "text": [
      "[0, 2, 4, 6, 8]\n",
      "[0, 2, 4, 6, 8]\n",
      "['HELLO', 'JI', 'GOOD', 'MORNING']\n"
     ]
    }
   ],
   "source": [
    "even=[x for x in range(10) if x%2==0]\n",
    "print(even)\n",
    "odd=[x for x in range(10) if x%2==0]\n",
    "print(odd)\n",
    "list1=['HEllo','jI','GooD','mornING']\n",
    "list2=[x.upper() for x in list1]\n",
    "print(list2)"
   ]
  },
  {
   "cell_type": "code",
   "execution_count": 8,
   "metadata": {},
   "outputs": [
    {
     "name": "stdout",
     "output_type": "stream",
     "text": [
      "[[1, 2], [1, 3], [1, 4], [2, 3], [2, 4], [3, 2], [3, 4]]\n",
      "[(1, 2), (1, 3), (1, 4), (2, 3), (2, 4), (3, 2), (3, 4)]\n",
      "[{1: 2}, {1: 3}, {1: 4}, {2: 3}, {2: 4}, {3: 2}, {3: 4}]\n"
     ]
    }
   ],
   "source": [
    "unique=[[x,y] for x in (1,2,3) for y in (2,3,4) if x!=y]\n",
    "print(unique)\n",
    "unique=[(x,y) for x in (1,2,3) for y in (2,3,4) if x!=y]\n",
    "print(unique)\n",
    "unique=[{x:y} for x in (1,2,3) for y in (2,3,4) if x!=y]\n",
    "print(unique)"
   ]
  },
  {
   "cell_type": "markdown",
   "metadata": {},
   "source": [
    "## Generator Expression"
   ]
  },
  {
   "cell_type": "code",
   "execution_count": 9,
   "metadata": {},
   "outputs": [
    {
     "name": "stdout",
     "output_type": "stream",
     "text": [
      "[0, 1, 4, 9, 16, 25, 36, 49, 64, 81]\n",
      "<class 'list'>\n",
      "<generator object <genexpr> at 0x000001636D92DCA8>\n",
      "<class 'generator'>\n",
      "192\n",
      "88\n",
      "0\n",
      "1\n",
      "4\n",
      "9\n",
      "16\n",
      "25\n",
      "36\n",
      "49\n",
      "64\n",
      "81\n"
     ]
    }
   ],
   "source": [
    "from sys import getsizeof\n",
    "#list comprehension\n",
    "list1=[x**2 for x in range(10)]\n",
    "print(list1)\n",
    "print(type(list1))\n",
    "\n",
    "#generator comprehension\n",
    "list2=(x**2 for x in range(10))\n",
    "print(list2)\n",
    "print(type(list2))\n",
    "\n",
    "#observe carefully the diff of syntax between list comprehension and genertor expression \n",
    "#the diff of list comprehension is format in [] and in generator expression the format is ()\n",
    "print(getsizeof(list1))\n",
    "print(getsizeof(list2))\n",
    "\n",
    "for i in list2:\n",
    "    print(i)"
   ]
  },
  {
   "cell_type": "markdown",
   "metadata": {},
   "source": [
    "## Lambda map filter"
   ]
  },
  {
   "cell_type": "markdown",
   "metadata": {},
   "source": [
    "- lambda"
   ]
  },
  {
   "cell_type": "code",
   "execution_count": 10,
   "metadata": {},
   "outputs": [
    {
     "name": "stdout",
     "output_type": "stream",
     "text": [
      "5\n",
      "4\n"
     ]
    }
   ],
   "source": [
    "addition= lambda x,y:x+y #lambda is single line func declaration and execution\n",
    "print(addition(3,2))\n",
    "\n",
    "sq= lambda x:x**2\n",
    "print(sq(2))\n"
   ]
  },
  {
   "cell_type": "markdown",
   "metadata": {},
   "source": [
    "- map"
   ]
  },
  {
   "cell_type": "code",
   "execution_count": 11,
   "metadata": {},
   "outputs": [
    {
     "name": "stdout",
     "output_type": "stream",
     "text": [
      "[4, 9, 36]\n",
      "[0, 1, 4, 9, 16, 25, 36, 49, 64, 81]\n"
     ]
    }
   ],
   "source": [
    "list4=list(map((lambda x:x**2),(2,3,6)))\n",
    "#map() is a function which takes two arguments\n",
    "#syntax: map(func, seq)\n",
    "print(list4)\n",
    "list4=list(map((lambda x:x**2),range(10)))\n",
    "print(list4)"
   ]
  },
  {
   "cell_type": "markdown",
   "metadata": {},
   "source": [
    "- filter"
   ]
  },
  {
   "cell_type": "code",
   "execution_count": 26,
   "metadata": {},
   "outputs": [
    {
     "name": "stdout",
     "output_type": "stream",
     "text": [
      "[6, 7, 8, 9]\n"
     ]
    }
   ],
   "source": [
    "list5=list(filter(lambda x: x>5,range(10)))\n",
    "print(list5)"
   ]
  },
  {
   "cell_type": "code",
   "execution_count": 13,
   "metadata": {},
   "outputs": [
    {
     "name": "stdout",
     "output_type": "stream",
     "text": [
      "[0, 2, 4, 6, 8]\n"
     ]
    }
   ],
   "source": [
    "list5=list(filter(lambda x: x%2==0,range(10)))\n",
    "print(list5)"
   ]
  },
  {
   "cell_type": "code",
   "execution_count": 14,
   "metadata": {},
   "outputs": [
    {
     "name": "stdout",
     "output_type": "stream",
     "text": [
      "[-5, -4, -3, -2, -1]\n"
     ]
    }
   ],
   "source": [
    "list5=list(filter(lambda x: x<0,range(-5,5)))\n",
    "print(list5)"
   ]
  },
  {
   "cell_type": "markdown",
   "metadata": {},
   "source": [
    "## file i/o operations"
   ]
  },
  {
   "cell_type": "markdown",
   "metadata": {},
   "source": [
    "- creating file in same folder where the jupyter notebook is present"
   ]
  },
  {
   "cell_type": "code",
   "execution_count": 7,
   "metadata": {},
   "outputs": [
    {
     "name": "stdout",
     "output_type": "stream",
     "text": [
      "this is manual written \n",
      " this is the second thing manually written\n",
      "r\n",
      "example.txt\n",
      "False\n",
      "True\n",
      "this is manual written \n",
      " this is the second thing manually written\n",
      "this is ma\n",
      "this is manual written \n",
      "\n",
      " this is the second thing manually written\n",
      "['this is manual written \\n', ' this is the second thing manually written']\n"
     ]
    }
   ],
   "source": [
    "fo=open('example.txt','r')\n",
    "print(fo.read()) \n",
    "print(fo.mode) #display the mode of file operation\n",
    "print(fo.name)\n",
    "print(fo.closed)\n",
    "fo.close()\n",
    "print(fo.closed)\n",
    "#fo=open('example.txt','w')\n",
    "#fo.write('this is manual written \\n this is the second thing manually written')\n",
    "#fo.close()\n",
    "fo=open('example.txt','r')\n",
    "str1=(fo.read())\n",
    "print(str1)\n",
    "fo.close()\n",
    "fo=open('example.txt','r')\n",
    "str1=(fo.read(10))\n",
    "print(str1)\n",
    "fo.close()\n",
    "fo=open('example.txt','r')\n",
    "str1=(fo.readline()) #print the line where pointer lies\n",
    "print(str1)\n",
    "str1=(fo.readline())\n",
    "print(str1)\n",
    "fo.close()\n",
    "fo=open('example.txt','r')\n",
    "str1=(fo.readlines()) #this is a list of string by default\n",
    "print(str1)\n",
    "fo.close()"
   ]
  },
  {
   "cell_type": "code",
   "execution_count": 16,
   "metadata": {},
   "outputs": [
    {
     "name": "stdout",
     "output_type": "stream",
     "text": [
      "['this is manual written.This is append baby']\n"
     ]
    }
   ],
   "source": [
    "fo=open('example1.txt','w')\n",
    "fo.write('this is manual written.')\n",
    "fo.close()\n",
    "fo=open('example1.txt','a') #a mode is append func\n",
    "fo.write('This is append baby')\n",
    "fo.close()\n",
    "fo=open('example1.txt','r')\n",
    "str1=(fo.readlines())\n",
    "print(str1)\n",
    "fo.close()"
   ]
  },
  {
   "cell_type": "code",
   "execution_count": 17,
   "metadata": {},
   "outputs": [
    {
     "name": "stdout",
     "output_type": "stream",
     "text": [
      "['this is manual written.This is append baby']\n"
     ]
    }
   ],
   "source": [
    "#other modes: r+,w+,a+,rb,wb,ab,rb+,wb+,ab+\n",
    "fo=open('D:\\\\python ml\\\\example1.txt','r')\n",
    "str1=fo.readlines()\n",
    "print(str1)\n",
    "fo.close()"
   ]
  },
  {
   "cell_type": "markdown",
   "metadata": {},
   "source": [
    "# Exception Handling"
   ]
  },
  {
   "cell_type": "code",
   "execution_count": 11,
   "metadata": {},
   "outputs": [
    {
     "name": "stdout",
     "output_type": "stream",
     "text": [
      "hello world!\n",
      "not compatable\n",
      "done\n"
     ]
    }
   ],
   "source": [
    "try:\n",
    "    print('hello world!')\n",
    "    print('2'+2)\n",
    "except TypeError:\n",
    "    print('not compatable')\n",
    "else:\n",
    "    print('no error')\n",
    "finally:\n",
    "    print('done')"
   ]
  },
  {
   "cell_type": "code",
   "execution_count": 19,
   "metadata": {
    "scrolled": true
   },
   "outputs": [
    {
     "name": "stdout",
     "output_type": "stream",
     "text": [
      "file now created\n"
     ]
    }
   ],
   "source": [
    "try:\n",
    "    fo=open('example3.txt','r')\n",
    "except FileNotFoundError:\n",
    "    print('file not found')\n",
    "finally:\n",
    "    fo=open('example3.txt','w')\n",
    "    fo.close()\n",
    "    print('file now created')"
   ]
  },
  {
   "cell_type": "code",
   "execution_count": 20,
   "metadata": {},
   "outputs": [
    {
     "name": "stdout",
     "output_type": "stream",
     "text": [
      "change the divisor value\n"
     ]
    }
   ],
   "source": [
    "try:\n",
    "    val=4/0\n",
    "except ZeroDivisionError:\n",
    "    print('change the divisor value')"
   ]
  },
  {
   "cell_type": "code",
   "execution_count": null,
   "metadata": {},
   "outputs": [],
   "source": []
  }
 ],
 "metadata": {
  "kernelspec": {
   "display_name": "Python 3",
   "language": "python",
   "name": "python3"
  },
  "language_info": {
   "codemirror_mode": {
    "name": "ipython",
    "version": 3
   },
   "file_extension": ".py",
   "mimetype": "text/x-python",
   "name": "python",
   "nbconvert_exporter": "python",
   "pygments_lexer": "ipython3",
   "version": "3.7.6"
  }
 },
 "nbformat": 4,
 "nbformat_minor": 2
}
