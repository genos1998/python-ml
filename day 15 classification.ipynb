{
 "cells": [
  {
   "cell_type": "markdown",
   "metadata": {},
   "source": [
    "## classification"
   ]
  },
  {
   "cell_type": "markdown",
   "metadata": {},
   "source": [
    "- perceptron "
   ]
  },
  {
   "cell_type": "code",
   "execution_count": 1,
   "metadata": {},
   "outputs": [
    {
     "data": {
      "text/html": [
       "<div>\n",
       "<style scoped>\n",
       "    .dataframe tbody tr th:only-of-type {\n",
       "        vertical-align: middle;\n",
       "    }\n",
       "\n",
       "    .dataframe tbody tr th {\n",
       "        vertical-align: top;\n",
       "    }\n",
       "\n",
       "    .dataframe thead th {\n",
       "        text-align: right;\n",
       "    }\n",
       "</style>\n",
       "<table border=\"1\" class=\"dataframe\">\n",
       "  <thead>\n",
       "    <tr style=\"text-align: right;\">\n",
       "      <th></th>\n",
       "      <th>sleep_proportion</th>\n",
       "      <th>grumpy_proportion</th>\n",
       "      <th>prediction</th>\n",
       "    </tr>\n",
       "  </thead>\n",
       "  <tbody>\n",
       "    <tr>\n",
       "      <th>0</th>\n",
       "      <td>0.2</td>\n",
       "      <td>0.1</td>\n",
       "      <td>kitten</td>\n",
       "    </tr>\n",
       "    <tr>\n",
       "      <th>1</th>\n",
       "      <td>0.4</td>\n",
       "      <td>0.6</td>\n",
       "      <td>kitten</td>\n",
       "    </tr>\n",
       "    <tr>\n",
       "      <th>2</th>\n",
       "      <td>0.5</td>\n",
       "      <td>0.2</td>\n",
       "      <td>kitten</td>\n",
       "    </tr>\n",
       "    <tr>\n",
       "      <th>3</th>\n",
       "      <td>0.7</td>\n",
       "      <td>0.9</td>\n",
       "      <td>adult</td>\n",
       "    </tr>\n",
       "  </tbody>\n",
       "</table>\n",
       "</div>"
      ],
      "text/plain": [
       "   sleep_proportion  grumpy_proportion prediction\n",
       "0               0.2                0.1     kitten\n",
       "1               0.4                0.6     kitten\n",
       "2               0.5                0.2     kitten\n",
       "3               0.7                0.9      adult"
      ]
     },
     "execution_count": 1,
     "metadata": {},
     "output_type": "execute_result"
    }
   ],
   "source": [
    "import pandas as pd\n",
    "import matplotlib.pyplot as plt\n",
    "#%matplotlib inline\n",
    "df=pd.DataFrame({'sleep_proportion':[0.2, 0.4, 0.5, 0.7],\n",
    "                'grumpy_proportion':[0.1,0.6,0.2,0.9],\n",
    "                'prediction':['kitten','kitten','kitten','adult']})\n",
    "df.head()"
   ]
  },
  {
   "cell_type": "code",
   "execution_count": 2,
   "metadata": {},
   "outputs": [
    {
     "data": {
      "text/html": [
       "<div>\n",
       "<style scoped>\n",
       "    .dataframe tbody tr th:only-of-type {\n",
       "        vertical-align: middle;\n",
       "    }\n",
       "\n",
       "    .dataframe tbody tr th {\n",
       "        vertical-align: top;\n",
       "    }\n",
       "\n",
       "    .dataframe thead th {\n",
       "        text-align: right;\n",
       "    }\n",
       "</style>\n",
       "<table border=\"1\" class=\"dataframe\">\n",
       "  <thead>\n",
       "    <tr style=\"text-align: right;\">\n",
       "      <th></th>\n",
       "      <th>sleep_proportion</th>\n",
       "      <th>grumpy_proportion</th>\n",
       "      <th>prediction</th>\n",
       "    </tr>\n",
       "  </thead>\n",
       "  <tbody>\n",
       "    <tr>\n",
       "      <th>0</th>\n",
       "      <td>0.2</td>\n",
       "      <td>0.1</td>\n",
       "      <td>kitten</td>\n",
       "    </tr>\n",
       "    <tr>\n",
       "      <th>1</th>\n",
       "      <td>0.4</td>\n",
       "      <td>0.6</td>\n",
       "      <td>kitten</td>\n",
       "    </tr>\n",
       "    <tr>\n",
       "      <th>2</th>\n",
       "      <td>0.5</td>\n",
       "      <td>0.2</td>\n",
       "      <td>kitten</td>\n",
       "    </tr>\n",
       "  </tbody>\n",
       "</table>\n",
       "</div>"
      ],
      "text/plain": [
       "   sleep_proportion  grumpy_proportion prediction\n",
       "0               0.2                0.1     kitten\n",
       "1               0.4                0.6     kitten\n",
       "2               0.5                0.2     kitten"
      ]
     },
     "execution_count": 2,
     "metadata": {},
     "output_type": "execute_result"
    }
   ],
   "source": [
    "kitten=df[df['prediction']=='kitten']\n",
    "kitten"
   ]
  },
  {
   "cell_type": "code",
   "execution_count": 3,
   "metadata": {},
   "outputs": [
    {
     "data": {
      "text/html": [
       "<div>\n",
       "<style scoped>\n",
       "    .dataframe tbody tr th:only-of-type {\n",
       "        vertical-align: middle;\n",
       "    }\n",
       "\n",
       "    .dataframe tbody tr th {\n",
       "        vertical-align: top;\n",
       "    }\n",
       "\n",
       "    .dataframe thead th {\n",
       "        text-align: right;\n",
       "    }\n",
       "</style>\n",
       "<table border=\"1\" class=\"dataframe\">\n",
       "  <thead>\n",
       "    <tr style=\"text-align: right;\">\n",
       "      <th></th>\n",
       "      <th>sleep_proportion</th>\n",
       "      <th>grumpy_proportion</th>\n",
       "      <th>prediction</th>\n",
       "    </tr>\n",
       "  </thead>\n",
       "  <tbody>\n",
       "    <tr>\n",
       "      <th>3</th>\n",
       "      <td>0.7</td>\n",
       "      <td>0.9</td>\n",
       "      <td>adult</td>\n",
       "    </tr>\n",
       "  </tbody>\n",
       "</table>\n",
       "</div>"
      ],
      "text/plain": [
       "   sleep_proportion  grumpy_proportion prediction\n",
       "3               0.7                0.9      adult"
      ]
     },
     "execution_count": 3,
     "metadata": {},
     "output_type": "execute_result"
    }
   ],
   "source": [
    "adult=df[df['prediction']=='adult']\n",
    "adult"
   ]
  },
  {
   "cell_type": "code",
   "execution_count": 4,
   "metadata": {},
   "outputs": [
    {
     "data": {
      "image/png": "[encoded data removed]",
      "text/plain": [
       "<Figure size 432x288 with 1 Axes>"
      ]
     },
     "metadata": {
      "needs_background": "light"
     },
     "output_type": "display_data"
    }
   ],
   "source": [
    "plt.scatter(kitten['sleep_proportion'],kitten['grumpy_proportion'],label='kittens',color='r')\n",
    "plt.scatter(adult['sleep_proportion'],adult['grumpy_proportion'],label='adult',color='k')\n",
    "plt.xlabel('sleep_proportion')\n",
    "plt.ylabel('grumpy_proportion')\n",
    "plt.legend()\n",
    "plt.axis([0,1,0,1])\n",
    "plt.grid()"
   ]
  },
  {
   "cell_type": "code",
   "execution_count": 5,
   "metadata": {},
   "outputs": [
    {
     "data": {
      "text/html": [
       "<div>\n",
       "<style scoped>\n",
       "    .dataframe tbody tr th:only-of-type {\n",
       "        vertical-align: middle;\n",
       "    }\n",
       "\n",
       "    .dataframe tbody tr th {\n",
       "        vertical-align: top;\n",
       "    }\n",
       "\n",
       "    .dataframe thead th {\n",
       "        text-align: right;\n",
       "    }\n",
       "</style>\n",
       "<table border=\"1\" class=\"dataframe\">\n",
       "  <thead>\n",
       "    <tr style=\"text-align: right;\">\n",
       "      <th></th>\n",
       "      <th>sleep_proportion</th>\n",
       "      <th>grumpy_proportion</th>\n",
       "      <th>prediction</th>\n",
       "      <th>bprediction</th>\n",
       "    </tr>\n",
       "  </thead>\n",
       "  <tbody>\n",
       "    <tr>\n",
       "      <th>0</th>\n",
       "      <td>0.2</td>\n",
       "      <td>0.1</td>\n",
       "      <td>kitten</td>\n",
       "      <td>True</td>\n",
       "    </tr>\n",
       "    <tr>\n",
       "      <th>1</th>\n",
       "      <td>0.4</td>\n",
       "      <td>0.6</td>\n",
       "      <td>kitten</td>\n",
       "      <td>True</td>\n",
       "    </tr>\n",
       "    <tr>\n",
       "      <th>2</th>\n",
       "      <td>0.5</td>\n",
       "      <td>0.2</td>\n",
       "      <td>kitten</td>\n",
       "      <td>True</td>\n",
       "    </tr>\n",
       "    <tr>\n",
       "      <th>3</th>\n",
       "      <td>0.7</td>\n",
       "      <td>0.9</td>\n",
       "      <td>adult</td>\n",
       "      <td>False</td>\n",
       "    </tr>\n",
       "  </tbody>\n",
       "</table>\n",
       "</div>"
      ],
      "text/plain": [
       "   sleep_proportion  grumpy_proportion prediction  bprediction\n",
       "0               0.2                0.1     kitten         True\n",
       "1               0.4                0.6     kitten         True\n",
       "2               0.5                0.2     kitten         True\n",
       "3               0.7                0.9      adult        False"
      ]
     },
     "execution_count": 5,
     "metadata": {},
     "output_type": "execute_result"
    }
   ],
   "source": [
    "df['bprediction']=df['prediction']=='kitten'\n",
    "#df['bprediction']=df['prediction'].apply(lambda x: x=='kitten')\n",
    "from sklearn.linear_model import Perceptron\n",
    "classifier =Perceptron(max_iter=1000)\n",
    "model=classifier.fit(df[['sleep_proportion','grumpy_proportion']], df['bprediction'])\n",
    "df"
   ]
  },
  {
   "cell_type": "code",
   "execution_count": 6,
   "metadata": {},
   "outputs": [
    {
     "name": "stdout",
     "output_type": "stream",
     "text": [
      "[ True]\n",
      "[False]\n",
      "[ True False]\n"
     ]
    }
   ],
   "source": [
    "print(model.predict([[0.2, 0.1]]))\n",
    "print(model.predict([[0.9, 0.9]]))\n",
    "print(model.predict([[0.5, 0.5],[0.9,0.9]]))"
   ]
  },
  {
   "cell_type": "code",
   "execution_count": 7,
   "metadata": {},
   "outputs": [
    {
     "data": {
      "image/png": "[encoded data removed]",
      "text/plain": [
       "<Figure size 432x288 with 1 Axes>"
      ]
     },
     "metadata": {
      "needs_background": "light"
     },
     "output_type": "display_data"
    }
   ],
   "source": [
    "import numpy as np\n",
    "x_min,x_max=0,1\n",
    "y_min,y_max=0,1\n",
    "xx,yy=np.meshgrid(np.arange(x_min,x_max,0.01),\n",
    "                 np.arange(y_min,y_max,0.01))\n",
    "#print(xx)\n",
    "#print(yy)\n",
    "xx_lin=xx.ravel()\n",
    "#print(xx_lin)\n",
    "yy_lin=yy.ravel()\n",
    "#print(yy_lin)\n",
    "pred_input=np.c_[xx_lin,yy_lin]\n",
    "#print(pred_input)\n",
    "z=model.predict(pred_input)\n",
    "#print(z)\n",
    "z=z.reshape(xx.shape)\n",
    "#print(z)\n",
    "#contourf fills the area. it requires 2 dim array\n",
    "plt.contourf(xx,yy,z,cmap=plt.cm.Pastel1)\n",
    "plt.scatter(kitten['sleep_proportion'],kitten['grumpy_proportion'],label='kittens',color='r')\n",
    "plt.scatter(adult['sleep_proportion'],adult['grumpy_proportion'],label='adult',color='k')\n",
    "plt.xlabel('sleep_proportion')\n",
    "plt.ylabel('grumpy_proportion')\n",
    "plt.legend()\n",
    "plt.axis([0,1,0,1])\n",
    "plt.grid()"
   ]
  },
  {
   "cell_type": "code",
   "execution_count": 8,
   "metadata": {},
   "outputs": [
    {
     "name": "stdout",
     "output_type": "stream",
     "text": [
      "[[-0.7 -1. ]]\n"
     ]
    }
   ],
   "source": [
    "print(model.coef_)#weightage of model value of m and c in eqn of line"
   ]
  },
  {
   "cell_type": "code",
   "execution_count": 9,
   "metadata": {},
   "outputs": [
    {
     "name": "stdout",
     "output_type": "stream",
     "text": [
      "[1.]\n"
     ]
    }
   ],
   "source": [
    "print(model.intercept_) "
   ]
  },
  {
   "cell_type": "markdown",
   "metadata": {},
   "source": [
    "## SVM Support Vector Machine"
   ]
  },
  {
   "cell_type": "code",
   "execution_count": 10,
   "metadata": {},
   "outputs": [],
   "source": [
    "from sklearn.svm import SVC\n",
    "SVCClassifier=SVC(kernel='linear',C=10,max_iter=5)\n",
    "SVCModel=SVCClassifier.fit(df[['sleep_proportion','grumpy_proportion']], df['bprediction'])"
   ]
  },
  {
   "cell_type": "code",
   "execution_count": 30,
   "metadata": {},
   "outputs": [
    {
     "name": "stdout",
     "output_type": "stream",
     "text": [
      "[ True]\n",
      "[False]\n",
      "[ True False]\n",
      "0     True\n",
      "1     True\n",
      "2     True\n",
      "3    False\n",
      "Name: bprediction, dtype: bool\n",
      "[ True  True  True False]\n",
      "[[1 0]\n",
      " [0 3]]\n",
      "              precision    recall  f1-score   support\n",
      "\n",
      " class adult       1.00      1.00      1.00         1\n",
      "class kitten       1.00      1.00      1.00         3\n",
      "\n",
      "    accuracy                           1.00         4\n",
      "   macro avg       1.00      1.00      1.00         4\n",
      "weighted avg       1.00      1.00      1.00         4\n",
      "\n",
      "              precision    recall  f1-score   support\n",
      "\n",
      "       False       1.00      1.00      1.00         1\n",
      "        True       1.00      1.00      1.00         3\n",
      "\n",
      "    accuracy                           1.00         4\n",
      "   macro avg       1.00      1.00      1.00         4\n",
      "weighted avg       1.00      1.00      1.00         4\n",
      "\n"
     ]
    }
   ],
   "source": [
    "print(SVCModel.predict([[0.2, 0.1]]))\n",
    "print(SVCModel.predict([[0.9, 0.9]]))\n",
    "print(SVCModel.predict([[0.5, 0.5],[0.9,0.9]]))\n",
    "actual=df['bprediction']\n",
    "from sklearn.metrics import confusion_matrix\n",
    "pred=SVCModel.predict(df[['sleep_proportion','grumpy_proportion']])\n",
    "print(actual)\n",
    "print(pred)\n",
    "print(confusion_matrix(actual,pred))\n",
    "print(classification_report(actual,pred,target_names=['class adult','class kitten']))\n",
    "print(classification_report(actual,pred))"
   ]
  },
  {
   "cell_type": "code",
   "execution_count": 12,
   "metadata": {},
   "outputs": [
    {
     "data": {
      "image/png": "[encoded data removed]",
      "text/plain": [
       "<Figure size 432x288 with 1 Axes>"
      ]
     },
     "metadata": {
      "needs_background": "light"
     },
     "output_type": "display_data"
    }
   ],
   "source": [
    "z=SVCModel.predict(pred_input)\n",
    "#print(z)\n",
    "z=z.reshape(xx.shape)\n",
    "#print(z)\n",
    "#contourf fills the area. it requires 2 dim array\n",
    "plt.contourf(xx,yy,z,cmap=plt.cm.Pastel1)\n",
    "plt.scatter(kitten['sleep_proportion'],kitten['grumpy_proportion'],label='kittens',color='r')\n",
    "plt.scatter(adult['sleep_proportion'],adult['grumpy_proportion'],label='adult',color='k')\n",
    "plt.xlabel('sleep_proportion')\n",
    "plt.ylabel('grumpy_proportion')\n",
    "plt.legend()\n",
    "plt.axis([0,1,0,1])\n",
    "plt.grid()"
   ]
  },
  {
   "cell_type": "code",
   "execution_count": 13,
   "metadata": {},
   "outputs": [
    {
     "name": "stdout",
     "output_type": "stream",
     "text": [
      "[[-3. -3.]]\n"
     ]
    }
   ],
   "source": [
    "print(SVCModel.coef_)"
   ]
  },
  {
   "cell_type": "code",
   "execution_count": 14,
   "metadata": {},
   "outputs": [
    {
     "name": "stdout",
     "output_type": "stream",
     "text": [
      "[3.89999986]\n"
     ]
    }
   ],
   "source": [
    "print(SVCModel.intercept_)"
   ]
  },
  {
   "cell_type": "code",
   "execution_count": 16,
   "metadata": {},
   "outputs": [
    {
     "name": "stdout",
     "output_type": "stream",
     "text": [
      "[[0.7 0.9]\n",
      " [0.4 0.6]]\n"
     ]
    }
   ],
   "source": [
    "print(SVCModel.support_vectors_)"
   ]
  },
  {
   "cell_type": "markdown",
   "metadata": {},
   "source": [
    "### Confusion matrix"
   ]
  },
  {
   "cell_type": "code",
   "execution_count": 19,
   "metadata": {},
   "outputs": [
    {
     "name": "stdout",
     "output_type": "stream",
     "text": [
      "[[1 0]\n",
      " [1 2]]\n"
     ]
    }
   ],
   "source": [
    "from sklearn.metrics import confusion_matrix\n",
    "import numpy as np\n",
    "actual= np.array([True,True,False,True])\n",
    "pred=np.array([True,True,False,False])\n",
    "print(confusion_matrix(actual,pred))"
   ]
  },
  {
   "cell_type": "code",
   "execution_count": 20,
   "metadata": {},
   "outputs": [
    {
     "name": "stdout",
     "output_type": "stream",
     "text": [
      "[[1 1]\n",
      " [1 2]]\n"
     ]
    }
   ],
   "source": [
    "actual= np.array(['dog','cat','dog','dog','cat'])\n",
    "pred=np.array(['dog','dog','dog','cat','cat'])\n",
    "print(confusion_matrix(actual,pred,labels=['cat','dog']))"
   ]
  },
  {
   "cell_type": "code",
   "execution_count": 21,
   "metadata": {},
   "outputs": [
    {
     "name": "stdout",
     "output_type": "stream",
     "text": [
      "[[2 1 0]\n",
      " [0 4 2]\n",
      " [0 3 4]]\n"
     ]
    }
   ],
   "source": [
    "actual= np.array([0,0,1,1,1,1,1,2,2,2,2,2,2,2,0,1])\n",
    "pred=np.array([0,1,1,2,1,2,1,2,2,2,2,1,1,1,0,1])\n",
    "print(confusion_matrix(actual,pred,labels=[0,1,2]))"
   ]
  },
  {
   "cell_type": "markdown",
   "metadata": {},
   "source": [
    "### classification report"
   ]
  },
  {
   "cell_type": "code",
   "execution_count": 26,
   "metadata": {},
   "outputs": [
    {
     "name": "stdout",
     "output_type": "stream",
     "text": [
      "[[1 0]\n",
      " [1 2]]\n",
      "              precision    recall  f1-score   support\n",
      "\n",
      "       False       0.50      1.00      0.67         1\n",
      "        True       1.00      0.67      0.80         3\n",
      "\n",
      "    accuracy                           0.75         4\n",
      "   macro avg       0.75      0.83      0.73         4\n",
      "weighted avg       0.88      0.75      0.77         4\n",
      "\n",
      "              precision    recall  f1-score   support\n",
      "\n",
      " class false       0.50      1.00      0.67         1\n",
      "  class true       1.00      0.67      0.80         3\n",
      "\n",
      "    accuracy                           0.75         4\n",
      "   macro avg       0.75      0.83      0.73         4\n",
      "weighted avg       0.88      0.75      0.77         4\n",
      "\n"
     ]
    }
   ],
   "source": [
    "from sklearn.metrics import classification_report\n",
    "import numpy as np\n",
    "actual= np.array([True,True,False,True])\n",
    "pred=np.array([True,True,False,False])\n",
    "print(confusion_matrix(actual,pred))\n",
    "\n",
    "print(classification_report(actual,pred)) #DEFAULT FALSE,TRUE\n",
    "print(classification_report(actual,pred,target_names=['class false','class true']))"
   ]
  },
  {
   "cell_type": "markdown",
   "metadata": {},
   "source": [
    "- precision=(TP/TP+FP)  eg(2/2+0)  (TN/TN+FN)  eg(1/1+1)\n",
    "- RECALL=TP/TP+FN   2/2+1    TN/TN+FP  1/1+0\n",
    "- ACCURACY=SUM OF DIAGONAL MATRIX/SUM OF THE WHOLE MATRIX VALUES\n",
    "- F1-SCORE=2*((PRECISION*RECALL)/(PRECISION+RECALL))   2*((0.5*1)/(0.5+1))\n",
    "- MACRO AVG=(PRECISION(FALSE)+PRECISION*(TRUE))/2 \n",
    "- (0.5+1)/2\n",
    "- WEIGHTED (AVG=PRECISION(FALSE)*SUPPORT(FALSE)+PRECISION(TRUE)*SUPPORT(TRUE))/SUM OF SUPPORT"
   ]
  },
  {
   "cell_type": "code",
   "execution_count": null,
   "metadata": {},
   "outputs": [],
   "source": []
  }
 ],
 "metadata": {
  "kernelspec": {
   "display_name": "Python 3",
   "language": "python",
   "name": "python3"
  },
  "language_info": {
   "codemirror_mode": {
    "name": "ipython",
    "version": 3
   },
   "file_extension": ".py",
   "mimetype": "text/x-python",
   "name": "python",
   "nbconvert_exporter": "python",
   "pygments_lexer": "ipython3",
   "version": "3.6.4"
  }
 },
 "nbformat": 4,
 "nbformat_minor": 2
}
