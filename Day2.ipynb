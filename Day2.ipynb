{
 "cells": [
  {
   "cell_type": "markdown",
   "metadata": {},
   "source": [
    "# Profit & Loss"
   ]
  },
  {
   "cell_type": "code",
   "execution_count": 4,
   "metadata": {
    "scrolled": true
   },
   "outputs": [
    {
     "name": "stdout",
     "output_type": "stream",
     "text": [
      "enter cp5\n",
      "enter sp5\n",
      "no profit no loss\n"
     ]
    }
   ],
   "source": [
    "cp,sp= int(input('enter cp')),int(input('enter sp'))\n",
    "#sp= int(input('enter sp'))\n",
    "Profit=sp-cp\n",
    "Loss=cp-sp\n",
    "print('no profit no loss') if sp==cp else print('it is profit of %d '%Profit) if Profit>0 else print('it is loss of %d'%Loss)"
   ]
  },
  {
   "cell_type": "markdown",
   "metadata": {},
   "source": [
    "# Simple Interest Compound Interest"
   ]
  },
  {
   "cell_type": "code",
   "execution_count": 5,
   "metadata": {},
   "outputs": [
    {
     "name": "stdout",
     "output_type": "stream",
     "text": [
      "enter principle 10\n",
      "enter years 10\n",
      "enter rate of interest 10\n",
      "compounding frequency10\n",
      "10.0\n",
      "17.048138294215285\n"
     ]
    }
   ],
   "source": [
    "p=int(input('enter principle '))\n",
    "n=int(input('enter years '))\n",
    "r=float(input('enter rate of interest '))\n",
    "R=r/100\n",
    "N=int(input('compounding frequency'))\n",
    "SimpleInterest= p*n*R\n",
    "print(SimpleInterest)\n",
    "q=(1+(R/n))**(n*N)\n",
    "a= p*q\n",
    "CompoundInterest=a-p\n",
    "print(CompoundInterest)"
   ]
  },
  {
   "cell_type": "markdown",
   "metadata": {},
   "source": [
    "# Leap Year"
   ]
  },
  {
   "cell_type": "code",
   "execution_count": 1,
   "metadata": {},
   "outputs": [
    {
     "name": "stdout",
     "output_type": "stream",
     "text": [
      "enter the year1590\n",
      "<class 'int'>\n",
      "not a leap year\n"
     ]
    }
   ],
   "source": [
    "year=int(input('enter the year'))\n",
    "syear=year\n",
    "print(type(syear))\n",
    "if year%4==0 and (year%400==0 or year%100==0):\n",
    "    print('it is a leap year')\n",
    "else:\n",
    "    print('not a leap year')\n",
    "\n"
   ]
  },
  {
   "cell_type": "markdown",
   "metadata": {},
   "source": [
    "# Calculator"
   ]
  },
  {
   "cell_type": "code",
   "execution_count": 5,
   "metadata": {},
   "outputs": [
    {
     "name": "stdout",
     "output_type": "stream",
     "text": [
      "enter first number 10\n",
      "enter second number5\n",
      "enter operator\\\n",
      "2.0\n"
     ]
    }
   ],
   "source": [
    "num1=float(input('enter first number '))\n",
    "num2=float(input('enter second number'))\n",
    "op=input('enter operator')\n",
    "if num2==0:\n",
    "    print('re-enter num2')\n",
    "    num2=float(input('enter second number'))\n",
    "if op == '+': print(num1+num2)\n",
    "elif op == '-': print(num1-num2)\n",
    "elif op == '*': print(num1*num2)\n",
    "elif op=='\\\\': print(num1/num2)\n",
    "else:print('in valid operator')"
   ]
  },
  {
   "cell_type": "markdown",
   "metadata": {},
   "source": [
    "# String Validation"
   ]
  },
  {
   "cell_type": "markdown",
   "metadata": {},
   "source": [
    "### wap to check if the input number contains the middle number as the one declared. take a long number as a string from the user and take another single digit. perform above check only if the number is odd digits. if the middle number matches, print message stating that it is validated,else it is not"
   ]
  },
  {
   "cell_type": "code",
   "execution_count": 9,
   "metadata": {},
   "outputs": [
    {
     "name": "stdout",
     "output_type": "stream",
     "text": [
      "long number: 12345\n",
      "input number: 3\n",
      "odd number of digits\n",
      "2\n",
      "3\n",
      "String is validated\n"
     ]
    }
   ],
   "source": [
    "long=input('long number: ')\n",
    "ip=int(input('input number: '))\n",
    "c=len(long)\n",
    "d=c%2\n",
    "if d==0:\n",
    "    print('even number of digits')\n",
    "else:\n",
    "    print('odd number of digits')\n",
    "    m=c//2\n",
    "    print(m)\n",
    "    p=int(long[m])\n",
    "    print(p)\n",
    "    if ip==p:\n",
    "        print('String is validated')\n",
    "    else:\n",
    "        print('String not validated')"
   ]
  }
 ],
 "metadata": {
  "kernelspec": {
   "display_name": "Python 3",
   "language": "python",
   "name": "python3"
  },
  "language_info": {
   "codemirror_mode": {
    "name": "ipython",
    "version": 3
   },
   "file_extension": ".py",
   "mimetype": "text/x-python",
   "name": "python",
   "nbconvert_exporter": "python",
   "pygments_lexer": "ipython3",
   "version": "3.7.6"
  }
 },
 "nbformat": 4,
 "nbformat_minor": 2
}
