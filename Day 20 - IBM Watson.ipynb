{
 "cells": [
  {
   "cell_type": "code",
   "execution_count": 1,
   "metadata": {},
   "outputs": [
    {
     "data": {
      "text/plain": [
       "'eyJraWQiOiIyMDE5MDIwNCIsImFsZyI6IlJTMjU2In0.eyJpYW1faWQiOiJpYW0tU2VydmljZUlkLTgxZGFiNGNhLTIwZWUtNDQ0Mi1hMjExLTQ1M2Y1OTFiMTgyNCIsImlkIjoiaWFtLVNlcnZpY2VJZC04MWRhYjRjYS0yMGVlLTQ0NDItYTIxMS00NTNmNTkxYjE4MjQiLCJyZWFsbWlkIjoiaWFtIiwiaWRlbnRpZmllciI6IlNlcnZpY2VJZC04MWRhYjRjYS0yMGVlLTQ0NDItYTIxMS00NTNmNTkxYjE4MjQiLCJzdWIiOiJTZXJ2aWNlSWQtODFkYWI0Y2EtMjBlZS00NDQyLWEyMTEtNDUzZjU5MWIxODI0Iiwic3ViX3R5cGUiOiJTZXJ2aWNlSWQiLCJhY2NvdW50Ijp7InZhbGlkIjp0cnVlLCJic3MiOiI5NTMwNTllNTRkMzc0NzBjOGVkYzU4YWE0ZDM2NWNjNiJ9LCJpYXQiOjE1NjI1NzI5NzEsImV4cCI6MTU2MjU3NjU3MSwiaXNzIjoiaHR0cHM6Ly9pYW0ubmcuYmx1ZW1peC5uZXQvb2lkYy90b2tlbiIsImdyYW50X3R5cGUiOiJ1cm46aWJtOnBhcmFtczpvYXV0aDpncmFudC10eXBlOmFwaWtleSIsInNjb3BlIjoiaWJtIG9wZW5pZCIsImNsaWVudF9pZCI6ImJ4IiwiYWNyIjoxLCJhbXIiOlsicHdkIl19.CfkcY-D7Z1mXkIavMqvSSKlMY4FQl0I0NbjUxoF0GqmN84xXZVqby3UcaBsUah2gA_pKRCY9yCXSQ-DBtqZsh8qhkeoUWCAhD4M2iZlwtl3_QjbmLmoBS6-8gbu1Qxn5O8OtuPI_hbVWjoJdld6dAcw7q5RjsMaHStGvyf_wOAiaSCyEHTI-r41w_Q4P1m7p4QVEqzDdPxgE0519_KqyLeGnmBiPKN-JwEH3MLV5sVsc3TNCdaov3QRTMoQJVaE-kTCOuavNpjCqjyJkPw2IVd0LiJopxHlmBb_tz6tNLsxYNG6JyNeYUpW49p8AqY2MCokGrUkFu2FtSxjHxuKTgA'"
      ]
     },
     "execution_count": 1,
     "metadata": {},
     "output_type": "execute_result"
    }
   ],
   "source": [
    "import requests\n",
    "apikey= \"woCylNTudK-lnIX5vT6eoNs9IRM0wMQD9UTIHBewtSuo\"\n",
    "url=\"https://iam.bluemix.net/oidc/token\"  \n",
    "headers={'Content-Type':'application/x-www-form-urlencoded'}\n",
    "data='apikey='+apikey+'&grant_type=urn:ibm:params:oauth:grant-type:apikey'\n",
    "IBM_cloud_IAM_uid='bx'\n",
    "IBM_cloud_IAM_pwd='bx'\n",
    "response=requests.post(url,headers=headers,data=data,auth=(IBM_cloud_IAM_uid,IBM_cloud_IAM_pwd))\n",
    "iam_token=response.json()['access_token']\n",
    "iam_token"
   ]
  },
  {
   "cell_type": "code",
   "execution_count": 2,
   "metadata": {},
   "outputs": [
    {
     "name": "stdout",
     "output_type": "stream",
     "text": [
      "Scoring response\n",
      "{'fields': ['T_degC', 'features', 'prediction'], 'values': [[12.0, [3.981546273507224], 33.0389492923961]]}\n"
     ]
    }
   ],
   "source": [
    "import urllib3, requests, json\n",
    "ml_instance_id=\"1d53af3d-5476-4f8a-9ba2-f316e948383a\"\n",
    "\n",
    "# NOTE: generate iam_token and retrieve ml_instance_id based on provided documentation\t\n",
    "header = {'Content-Type': 'application/json', 'Authorization': 'Bearer ' + iam_token, 'ML-Instance-ID': ml_instance_id}\n",
    "\n",
    "# NOTE: manually define and pass the array(s) of values to be scored in the next line\n",
    "payload_scoring = {\"fields\": [\"T_degC\"], \"values\": [[12]]}\n",
    "\n",
    "response_scoring = requests.post('https://eu-gb.ml.cloud.ibm.com/v3/wml_instances/1d53af3d-5476-4f8a-9ba2-f316e948383a/deployments/c6d8599b-6eb1-4874-a0e6-5f0e5ea6361c/online', json=payload_scoring, headers=header)\n",
    "print(\"Scoring response\")\n",
    "print(json.loads(response_scoring.text))"
   ]
  },
  {
   "cell_type": "code",
   "execution_count": 3,
   "metadata": {},
   "outputs": [
    {
     "name": "stdout",
     "output_type": "stream",
     "text": [
      "sepal_length: 10\n",
      "sepal_width: 10\n",
      "petal_length: 10\n",
      "petal_width: 10\n",
      "Iris-virginica\n"
     ]
    }
   ],
   "source": [
    "import urllib3, requests, json\n",
    "sl=float(input('sepal_length: '))\n",
    "sw=float(input('sepal_width: '))\n",
    "pl=float(input('petal_length: '))\n",
    "pw=float(input('petal_width: '))\n",
    "ml_instance_id=\"1d53af3d-5476-4f8a-9ba2-f316e948383a\"\n",
    "# NOTE: generate iam_token and retrieve ml_instance_id based on provided documentation\t\n",
    "header = {'Content-Type': 'application/json', 'Authorization': 'Bearer ' + iam_token, 'ML-Instance-ID': ml_instance_id}\n",
    "\n",
    "# NOTE: manually define and pass the array(s) of values to be scored in the next line\n",
    "payload_scoring = {\"fields\": [\"sepal_length\", \"sepal_width\", \"petal_length\", \"petal_width\"], \"values\": [[sl,sw,pl,pw]]}\n",
    "\n",
    "response_scoring = requests.post('https://eu-gb.ml.cloud.ibm.com/v3/wml_instances/1d53af3d-5476-4f8a-9ba2-f316e948383a/deployments/715546de-fc8b-47f1-b099-74657ab43edc/online', json=payload_scoring, headers=header)\n",
    "code=json.loads(response_scoring.text)\n",
    "code1=list(code['values'])\n",
    "for i in range(len(code1)):\n",
    "    print(code1[i][8])"
   ]
  },
  {
   "cell_type": "code",
   "execution_count": null,
   "metadata": {},
   "outputs": [],
   "source": []
  }
 ],
 "metadata": {
  "kernelspec": {
   "display_name": "Python 3",
   "language": "python",
   "name": "python3"
  },
  "language_info": {
   "codemirror_mode": {
    "name": "ipython",
    "version": 3
   },
   "file_extension": ".py",
   "mimetype": "text/x-python",
   "name": "python",
   "nbconvert_exporter": "python",
   "pygments_lexer": "ipython3",
   "version": "3.7.6"
  }
 },
 "nbformat": 4,
 "nbformat_minor": 2
}
