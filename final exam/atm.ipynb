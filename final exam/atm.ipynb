{
 "cells": [
  {
   "cell_type": "markdown",
   "metadata": {},
   "source": [
    "# ATM App - beta version 1"
   ]
  },
  {
   "cell_type": "markdown",
   "metadata": {},
   "source": [
    "Design an **ATM Machine App** which performs following operations:\n",
    "\n",
    "1. WITHDRAW\n",
    "2. PIN CHANGE\n",
    "3. BALANCE CHECK **(BONUS: 1 mark)**\n",
    "\n",
    "Initially, a cashier will deposit amount in ATM in notes of 2000, 500 and 100. Take number of notes from user. Two dictionaries should be defined and created initially containing details of 5 customers. First dictionary contains name and 4 digit PIN and another dictionary contains name and current balance.\n",
    "\n",
    "**The above part has already been provided in the code below. You can continue with the same or modify it.**\n",
    "\n",
    "The process is as follows:\n",
    "1. Ask the customer to enter the name. If the name exists in dictionary, then proceed. Else ask for another name.\n",
    "2. Ask the 4 digit PIN of the customer. If the customer enters correct PIN, then proceed. Else ask to enter correct password for 2 more times.\n",
    "3. Display the options to choose any of the above 3 operations.\n",
    "4. In the **WITHDRAW** option, ask the user about the number of notes (each of 2000, 500 and 100) to be withdrawn. Once the withdrawal is successful, update the dictionary containing the current balance of the user. Also update the number of notes in ATM.\n",
    "5. In the **PIN CHANGE** option, ask the user to enter new PIN twice. Once the pin change is successful, update the dictionary containing the new PIN.\n",
    "6. **(BONUS)** In the **BALANCE CHECK** option, print a proper mini-statement of account balance details containing name and account balance.\n",
    "7. Repeat all the above processes using infinite while loop.\n",
    "8. Finally, if the keyboard interrupt happens, print the name and current balance of all 5 customers. **(Keyboard interrupt in Jupyter notebook is raised when you click on STOP button besides RUN button on top.)**"
   ]
  },
  {
   "cell_type": "code",
   "execution_count": 3,
   "metadata": {},
   "outputs": [
    {
     "name": "stdout",
     "output_type": "stream",
     "text": [
      "----------Cashier cash deposition----------\n",
      "\n",
      "Enter number of 2000 rupee notes to be filled: 5\n",
      "Enter number of 500 rupee notes to be filled: 4\n",
      "Enter number of 100 rupee notes to be filled: 10\n",
      "Total amount in ATM is Rs. 13000\n",
      "\n",
      "----------WELCOME TO BANK OF RAIT----------\n",
      "\n",
      "Enter your name sir: user1\n",
      "Enter your pin sir: 1234\n",
      "WITHDRAW\n",
      "PIN CHANGE\n",
      "BALANCE CHECK\n",
      "which operation do you want to perform: withdraw\n",
      "Enter number of 2000 rupee notes to be withdrawed: 1\n",
      "Enter number of 500 rupee notes to be withdrawed: 0\n",
      "Enter number of 100 rupee notes to be withdrawed: 0\n",
      "money withdrawed is:  2000\n",
      "remaining balance is:  48000\n",
      "user1 48000\n",
      "user2 20000\n",
      "user3 5000\n",
      "user4 10000\n",
      "user5 8000\n"
     ]
    }
   ],
   "source": [
    "# Dictionary of pin and balance of customers\n",
    "userpin = {\"user1\":1234, \"user2\":2345, \"user3\": 3456, \"user4\": 4567, \"user5\": 5678}\n",
    "userbal = {\"user1\":50000, \"user2\":20000, \"user3\": 5000, \"user4\": 10000, \"user5\": 8000}\n",
    "\n",
    "# Cash deposition of ATM\n",
    "print(\"----------Cashier cash deposition----------\\n\")\n",
    "amt2000 = int(input(\"Enter number of 2000 rupee notes to be filled: \"))\n",
    "amt500 = int(input(\"Enter number of 500 rupee notes to be filled: \"))\n",
    "amt100 = int(input(\"Enter number of 100 rupee notes to be filled: \"))\n",
    "amttotal = amt2000*2000 + amt500*500 + amt100*100\n",
    "print(\"Total amount in ATM is Rs. {0}\\n\".format(amttotal))\n",
    "g=0\n",
    "x=''\n",
    "# Start ATM code here\n",
    "print(\"----------WELCOME TO BANK OF RAIT----------\\n\")\n",
    "name=input('Enter your name sir: ')\n",
    "keylist=list(userpin.keys())\n",
    "valuelist=list(userbal.values())\n",
    "while name!=x:\n",
    "    for x in keylist:\n",
    "            if name==x:\n",
    "                g=1\n",
    "                break\n",
    "    if g==0:\n",
    "        name=input('Enter your valid name sir: ')\n",
    "pin=input('Enter your pin sir: ')\n",
    "pinauth=str(userpin[name])\n",
    "i=2\n",
    "while (pinauth!=pin):\n",
    "    if i!=0:\n",
    "        print(i,'chances left to type correct pin')\n",
    "        pin=input('Enter correct your pin sir: ')\n",
    "        i-=1\n",
    "    elif i==0:\n",
    "        break\n",
    "print('WITHDRAW')\n",
    "print('PIN CHANGE')\n",
    "print('BALANCE CHECK')\n",
    "pin1=1\n",
    "op=input('which operation do you want to perform: ')\n",
    "op=op.upper()\n",
    "bal=userbal[name]\n",
    "i=0\n",
    "if op=='WITHDRAW':\n",
    "    while i==0:\n",
    "        no2000 = int(input(\"Enter number of 2000 rupee notes to be withdrawed: \"))\n",
    "        while no2000>amt2000:\n",
    "            print(amt2000)\n",
    "            print(no2000)\n",
    "            no2000 = int(input(\"Enter correct number of 2000 rupee notes to be withdrawed: \"))\n",
    "        amt2000-=no2000\n",
    "        no500 = int(input(\"Enter number of 500 rupee notes to be withdrawed: \"))\n",
    "        while no500>amt500:\n",
    "            no500 = int(input(\"Enter correct number of 500 rupee notes to be withdrawed: \"))\n",
    "        amt500-=no500\n",
    "        no100 = int(input(\"Enter number of 100 rupee notes to be withdrawed: \"))\n",
    "        while no100>amt100:\n",
    "            no100 = int(input(\"Enter correct number of 100 rupee notes to be withdrawed: \"))\n",
    "        amt100-=no100\n",
    "        wtotal = no2000*2000 + no500*500 + no100*100\n",
    "        if wtotal>bal:\n",
    "            print('you dont have balance')\n",
    "        elif wtotal<=bal:\n",
    "            i=1\n",
    "            break\n",
    "    print('money withdrawed is: ',wtotal)\n",
    "    bal-=wtotal\n",
    "    print('remaining balance is: ',bal)\n",
    "    userbal[name]=bal\n",
    "elif op=='PIN CHANGE':\n",
    "    while pin!=pin1:\n",
    "        pin=int(input('Enter your new pin sir: '))\n",
    "        pin1=int(input('re-Enter your new pin sir: '))\n",
    "    userpin[name]=pin\n",
    "    print('new pin is: ',userpin[name])\n",
    "elif op=='BALANCE CHECK':\n",
    "    print('you acc is: ',name)\n",
    "    print('your balance is:')\n",
    "    print(userbal[name])\n",
    "try: \n",
    "    while True:\n",
    "        h=1\n",
    "except KeyboardInterrupt:\n",
    "    keylist=list(userpin.keys())\n",
    "    valuelist=list(userbal.values())\n",
    "    for x in range(len(keylist)):\n",
    "        print(keylist[x],valuelist[x])"
   ]
  },
  {
   "cell_type": "markdown",
   "metadata": {},
   "source": [
    "- Ask the 4 digit PIN of the customer. If the customer enters correct PIN, then proceed. Else ask to enter correct password for 2 more times."
   ]
  },
  {
   "cell_type": "code",
   "execution_count": null,
   "metadata": {},
   "outputs": [],
   "source": [
    "pin=input('Enter your pin sir: ')\n",
    "pinauth=str(userpin[name])\n",
    "i=2\n",
    "while (pinauth!=pin):\n",
    "    if i!=0:\n",
    "        print(i,'chances left to type correct pin')\n",
    "        pin=input('Enter correct your pin sir: ')\n",
    "        i-=1\n",
    "    elif i==0:\n",
    "        break"
   ]
  },
  {
   "cell_type": "markdown",
   "metadata": {},
   "source": [
    "- Display the options to choose any of the above 3 operations."
   ]
  },
  {
   "cell_type": "markdown",
   "metadata": {},
   "source": [
    "- WITHDRAW\n",
    "- PIN CHANGE\n",
    "- BALANCE CHECK "
   ]
  },
  {
   "cell_type": "code",
   "execution_count": null,
   "metadata": {},
   "outputs": [],
   "source": [
    "print('WITHDRAW')\n",
    "print('PIN CHANGE')\n",
    "print('BALANCE CHECK')\n",
    "pin1=1\n",
    "op=input('which operation do you want to perform: ')\n",
    "op=op.upper()\n",
    "bal=userbal[name]\n",
    "i=0\n",
    "if op=='WITHDRAW':\n",
    "    while i==0:\n",
    "        no2000 = int(input(\"Enter number of 2000 rupee notes to be withdrawed: \"))\n",
    "        while no2000>amt2000:\n",
    "            print(amt2000)\n",
    "            print(no2000)\n",
    "            no2000 = int(input(\"Enter correct number of 2000 rupee notes to be withdrawed: \"))\n",
    "        amt2000-=no2000\n",
    "        no500 = int(input(\"Enter number of 500 rupee notes to be withdrawed: \"))\n",
    "        while no500>amt500:\n",
    "            no500 = int(input(\"Enter correct number of 500 rupee notes to be withdrawed: \"))\n",
    "        amt500-=no500\n",
    "        no100 = int(input(\"Enter number of 100 rupee notes to be withdrawed: \"))\n",
    "        while no100>amt100:\n",
    "            no100 = int(input(\"Enter correct number of 100 rupee notes to be withdrawed: \"))\n",
    "        amt100-=no100\n",
    "        wtotal = no2000*2000 + no500*500 + no100*100\n",
    "        if wtotal>bal:\n",
    "            print('you dont have balance')\n",
    "        elif wtotal<=bal:\n",
    "            i=1\n",
    "            break\n",
    "    print('money withdrawed is: ',wtotal)\n",
    "    bal-=wtotal\n",
    "    print('remaining balance is: ',bal)\n",
    "    userbal[name]=bal\n",
    "elif op=='PIN CHANGE':\n",
    "    while pin!=pin1:\n",
    "        pin=int(input('Enter your new pin sir: '))\n",
    "        pin1=int(input('re-Enter your new pin sir: '))\n",
    "    userpin[name]=pin\n",
    "    print('new pin is: ',userpin[name])\n",
    "elif op=='BALANCE CHECK':\n",
    "    print('you acc is: ',name)\n",
    "    print('your balance is:')\n",
    "    print(userbal[name])\n"
   ]
  },
  {
   "cell_type": "code",
   "execution_count": 1,
   "metadata": {},
   "outputs": [
    {
     "name": "stdout",
     "output_type": "stream",
     "text": [
      "stopped\n"
     ]
    }
   ],
   "source": [
    "try: \n",
    "    while True:\n",
    "        h=1\n",
    "except KeyboardInterrupt:\n",
    "    print('stopped')"
   ]
  },
  {
   "cell_type": "code",
   "execution_count": 2,
   "metadata": {},
   "outputs": [
    {
     "ename": "KeyboardInterrupt",
     "evalue": "",
     "output_type": "error",
     "traceback": [
      "\u001b[1;31m---------------------------------------------------------------------------\u001b[0m",
      "\u001b[1;31mKeyboardInterrupt\u001b[0m                         Traceback (most recent call last)",
      "\u001b[1;32m<ipython-input-2-030ea0968f89>\u001b[0m in \u001b[0;36m<module>\u001b[1;34m\u001b[0m\n\u001b[0;32m      1\u001b[0m \u001b[1;32mwhile\u001b[0m \u001b[1;32mTrue\u001b[0m\u001b[1;33m:\u001b[0m\u001b[1;33m\u001b[0m\u001b[1;33m\u001b[0m\u001b[0m\n\u001b[1;32m----> 2\u001b[1;33m     \u001b[0mh\u001b[0m\u001b[1;33m=\u001b[0m\u001b[1;36m1\u001b[0m\u001b[1;33m\u001b[0m\u001b[1;33m\u001b[0m\u001b[0m\n\u001b[0m",
      "\u001b[1;31mKeyboardInterrupt\u001b[0m: "
     ]
    }
   ],
   "source": [
    "while True:\n",
    "    h=1"
   ]
  },
  {
   "cell_type": "code",
   "execution_count": null,
   "metadata": {},
   "outputs": [],
   "source": []
  }
 ],
 "metadata": {
  "kernelspec": {
   "display_name": "Python 3",
   "language": "python",
   "name": "python3"
  },
  "language_info": {
   "codemirror_mode": {
    "name": "ipython",
    "version": 3
   },
   "file_extension": ".py",
   "mimetype": "text/x-python",
   "name": "python",
   "nbconvert_exporter": "python",
   "pygments_lexer": "ipython3",
   "version": "3.7.6"
  }
 },
 "nbformat": 4,
 "nbformat_minor": 2
}
