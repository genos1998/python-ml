{
 "cells": [
  {
   "cell_type": "markdown",
   "metadata": {},
   "source": [
    "# Basics of Python"
   ]
  },
  {
   "cell_type": "code",
   "execution_count": 1,
   "metadata": {},
   "outputs": [
    {
     "name": "stdout",
     "output_type": "stream",
     "text": [
      "hello world\n"
     ]
    }
   ],
   "source": [
    "print(\"hello world\")"
   ]
  },
  {
   "cell_type": "code",
   "execution_count": 2,
   "metadata": {},
   "outputs": [
    {
     "name": "stdout",
     "output_type": "stream",
     "text": [
      "4\n",
      "<class 'int'>\n",
      "2.5\n",
      "<class 'float'>\n",
      "<class 'str'>\n"
     ]
    }
   ],
   "source": [
    "print(4)\n",
    "print(type(4))\n",
    "print(2.5)\n",
    "print(type(2.5))\n",
    "print(type('s'))"
   ]
  },
  {
   "cell_type": "code",
   "execution_count": 3,
   "metadata": {},
   "outputs": [
    {
     "name": "stdout",
     "output_type": "stream",
     "text": [
      "7\n",
      "3\n",
      "10\n",
      "2.5\n",
      "2\n",
      "25\n"
     ]
    }
   ],
   "source": [
    "print(5+2)\n",
    "print(5-2)\n",
    "print(5*2)\n",
    "print(5/2) #in python if we use single / it returns float value\n",
    "print(5//2) #if // it returns floor value of the float\n",
    "print(5**2) # double'*' means expo"
   ]
  },
  {
   "cell_type": "code",
   "execution_count": 4,
   "metadata": {},
   "outputs": [
    {
     "name": "stdout",
     "output_type": "stream",
     "text": [
      "2.5\n",
      "2.3\n",
      "15\n",
      "15.0\n"
     ]
    }
   ],
   "source": [
    "print(5/2)\n",
    "print(4.6/2)\n",
    "\n",
    "print(5*3)\n",
    "print(5.0*3)"
   ]
  },
  {
   "cell_type": "markdown",
   "metadata": {},
   "source": [
    "# List"
   ]
  },
  {
   "cell_type": "code",
   "execution_count": 5,
   "metadata": {},
   "outputs": [
    {
     "name": "stdout",
     "output_type": "stream",
     "text": [
      "[1, 2, 3, 4, 5, 6]\n",
      "<class 'list'>\n",
      "[9, 8.8, 'milk', 'milky']\n"
     ]
    }
   ],
   "source": [
    "list1=[1,2,3]+[4,5,6] #[] means list format and []+[] means addition of 2 list just not element wise\n",
    "print(list1)\n",
    "print(type(list1))\n",
    "list2=[9,8.8,'milk',\"milky\"]\n",
    "print(list2)"
   ]
  },
  {
   "cell_type": "markdown",
   "metadata": {},
   "source": [
    ". list indexing"
   ]
  },
  {
   "cell_type": "markdown",
   "metadata": {},
   "source": [
    "-list indexing"
   ]
  },
  {
   "cell_type": "code",
   "execution_count": 6,
   "metadata": {},
   "outputs": [
    {
     "name": "stdout",
     "output_type": "stream",
     "text": [
      "9\n",
      "8.8\n",
      "milk\n",
      "<class 'int'>\n",
      "<class 'float'>\n",
      "<class 'str'>\n"
     ]
    }
   ],
   "source": [
    "print(list2[0]) # list is mutable which means it's elements can be modified\n",
    "print(list2[1])\n",
    "print(list2[2])\n",
    "print(type(list2[0]))\n",
    "print(type(list2[1]))\n",
    "print(type(list2[2]))"
   ]
  },
  {
   "cell_type": "markdown",
   "metadata": {},
   "source": [
    "#list updating#"
   ]
  },
  {
   "cell_type": "markdown",
   "metadata": {},
   "source": [
    "# list updating#"
   ]
  },
  {
   "cell_type": "code",
   "execution_count": 7,
   "metadata": {},
   "outputs": [
    {
     "name": "stdout",
     "output_type": "stream",
     "text": [
      "[9, 8.8, 'milk', 'milky']\n",
      "[6, 8.8, 'milk', 'milky']\n",
      "[6, 8.8, 'hello', 'milky']\n"
     ]
    }
   ],
   "source": [
    "print(list2)\n",
    "list2[0]=6 # this makes list mutable \n",
    "print(list2)\n",
    "list2[2]=\"hello\"\n",
    "print(list2)"
   ]
  },
  {
   "cell_type": "markdown",
   "metadata": {},
   "source": [
    "- listing"
   ]
  },
  {
   "cell_type": "markdown",
   "metadata": {},
   "source": [
    "- list operations"
   ]
  },
  {
   "cell_type": "code",
   "execution_count": 8,
   "metadata": {},
   "outputs": [
    {
     "name": "stdout",
     "output_type": "stream",
     "text": [
      "5\n",
      "[1, 2, 3, 4, 4, 5, 6, 7]\n",
      "[1, 2, 3, 4, 1, 2, 3, 4]\n",
      "[4, 5, 6, 7, 4, 5, 6, 7, 4, 5, 6, 7]\n",
      "[4, 5, 6, 7, 4, 5, 6, 7, 4, 5, 6, 7]\n"
     ]
    }
   ],
   "source": [
    "list1=[1,2,3,4]\n",
    "list2=[4,5,6,7]\n",
    "print(list1[0]+list2[0]) #element wise addition\n",
    "print(list1+list2)\n",
    "#print(list1-list2) this will throw an error coz arithmetic operations can only be done element wise\n",
    "#print(list1*list2) this too will throw an error\n",
    "print(list1*2)\n",
    "print(list2*3) #this will print list2's contents 3 times\n",
    "list3=list2*3\n",
    "print(list3)"
   ]
  },
  {
   "cell_type": "markdown",
   "metadata": {},
   "source": [
    "- list slicing"
   ]
  },
  {
   "cell_type": "code",
   "execution_count": 9,
   "metadata": {},
   "outputs": [
    {
     "name": "stdout",
     "output_type": "stream",
     "text": [
      "[1, 2, 3, 4, 5, 6, 7]\n",
      "[3, 4, 5, 6, 7, 8]\n",
      "[1, 2, 3, 4, 5, 6, 7, 8]\n",
      "[3, 4, 5, 6, 7, 8, 9, 10]\n",
      "[1, 3, 5, 7, 9]\n",
      "[2, 4, 6, 8, 10]\n",
      "[10, 9, 8, 7, 6, 5, 4, 3, 2, 1]\n",
      "[6, 7, 8, 9, 10]\n",
      "10\n"
     ]
    }
   ],
   "source": [
    "list1=[1,2,3,4,5,6,7,8,9,10]\n",
    "print(list1[0:7]) # this is called slicing this will display contents of list1 from 0 to 7 where list1[0]=1 \n",
    "#note that total 7 elements in above example will be printed irrespective of the final index value\n",
    "print(list1[2:8])  \n",
    "print(list1[:8])\n",
    "print(list1[2:])\n",
    "print(list1[::2]) # in this example list1 will display contents from 0 to final value but in an alternate order\n",
    "print(list1[1::2])\n",
    " #synatx goes as follows (start pt: end pt: increment order)\n",
    "print(list1[::-1]) # this will display contents in reverse order with decrement of 1\n",
    "print(list1[-5:]) #this will display the value from the last 5th element\n",
    "print(list1[-1]) #inshort -ve means ref from last\n"
   ]
  },
  {
   "cell_type": "markdown",
   "metadata": {},
   "source": [
    "- list functions"
   ]
  },
  {
   "cell_type": "code",
   "execution_count": 10,
   "metadata": {},
   "outputs": [
    {
     "name": "stdout",
     "output_type": "stream",
     "text": [
      "[1, 2, 3, 4, 5, 6, 7, 8, 9, 10]\n",
      "10\n",
      "[1, 2, 3, 4, 5, 6, 7, 8, 9, 10, 'a']\n",
      "[1, 2, 3, 4, 5, 6, 7, 8, 9, 10, 'a', [1, 2, 3]]\n"
     ]
    }
   ],
   "source": [
    "print(list1)\n",
    "print(len(list1)) #length of list1 will be displayed\n",
    "list1.append('a') #this will add content a to the end of list1 \n",
    "print(list1)\n",
    "list1.append([1,2,3]) #this will append a list to the elemnt of list1\n",
    "#note append func is self assigned data\n",
    "print(list1)\n"
   ]
  },
  {
   "cell_type": "code",
   "execution_count": 11,
   "metadata": {},
   "outputs": [
    {
     "name": "stdout",
     "output_type": "stream",
     "text": [
      "[1, 'hello worls', 2, 3, 4, 5, 6, 7, 8, 9, 10, 'a', [1, 2, 3]]\n"
     ]
    }
   ],
   "source": [
    "list1.insert(1,'hello worls') #this insert func will insert the content at specified element of the list  \n",
    "print(list1) #like append insert is also self assigned"
   ]
  },
  {
   "cell_type": "code",
   "execution_count": 12,
   "metadata": {},
   "outputs": [
    {
     "name": "stdout",
     "output_type": "stream",
     "text": [
      "[1, 'hello worls', 2, 3, 4, 5, 6, 7, 8, 9, 10, 'a', [1, 2, 3], 4]\n",
      "[1, 'hello worls', 2, 3, 5, 6, 7, 8, 9, 10, 'a', [1, 2, 3], 4]\n",
      "[1, 2, 3, 5, 6, 7, 8, 9, 10, 'a', [1, 2, 3], 4]\n"
     ]
    }
   ],
   "source": [
    "list1.append(4)\n",
    "print(list1)\n",
    "list1.remove(4) #this will remove the 1st integer having value 4 from the list \n",
    "print(list1)\n",
    "list1.remove('hello worls')\n",
    "print(list1)"
   ]
  },
  {
   "cell_type": "code",
   "execution_count": 13,
   "metadata": {},
   "outputs": [
    {
     "name": "stdout",
     "output_type": "stream",
     "text": [
      "[2, 5, 7, 9]\n",
      "['h', 'b', 'a']\n"
     ]
    }
   ],
   "source": [
    "list2=[5,7,2,9]\n",
    "list2.sort() # this will arrange in assecending order\n",
    "print(list2)\n",
    "list3=['a','h','b']\n",
    "list3.sort(reverse = True) #this will arange in descending order\n",
    "print(list3)"
   ]
  },
  {
   "cell_type": "code",
   "execution_count": 14,
   "metadata": {},
   "outputs": [
    {
     "name": "stdout",
     "output_type": "stream",
     "text": [
      "[2, 5, 7, 9, 3, 4]\n"
     ]
    }
   ],
   "source": [
    "list2.extend([3,4]) #extend func will append the multiple values at last elements of list\n",
    "#if append func was used here list would have been inserted in the last element\n",
    "#append cannot insert multiple values but extend can\n",
    "print(list2)"
   ]
  },
  {
   "cell_type": "code",
   "execution_count": 15,
   "metadata": {},
   "outputs": [
    {
     "name": "stdout",
     "output_type": "stream",
     "text": [
      "[]\n"
     ]
    }
   ],
   "source": [
    "list2.clear() #empty list\n",
    "print(list2)\n"
   ]
  },
  {
   "cell_type": "markdown",
   "metadata": {},
   "source": [
    "# Strings#"
   ]
  },
  {
   "cell_type": "code",
   "execution_count": 16,
   "metadata": {},
   "outputs": [
    {
     "name": "stdout",
     "output_type": "stream",
     "text": [
      "a\n",
      " \n",
      "c\n",
      "<class 'str'>\n"
     ]
    }
   ],
   "source": [
    "str='a b c'\n",
    "print(str[0])\n",
    "print(str[1]) #nothing will be displayed as even ' ' is considered here\n",
    "print(str[-1])\n",
    "print(type(str))"
   ]
  },
  {
   "cell_type": "code",
   "execution_count": 1,
   "metadata": {},
   "outputs": [
    {
     "name": "stdout",
     "output_type": "stream",
     "text": [
      "<class 'str'>\n",
      "on\n",
      "18\n",
      "i love\n",
      "only python\n"
     ]
    }
   ],
   "source": [
    "str2=\"pythonisthelove\"\n",
    "str3=\"\"\"i love\n",
    "only python\"\"\"\n",
    "print(type(str2))\n",
    "print(str3[7:9])\n",
    "print(len(str3))\n",
    "print(str3)"
   ]
  },
  {
   "cell_type": "markdown",
   "metadata": {},
   "source": [
    "- string slicing"
   ]
  },
  {
   "cell_type": "code",
   "execution_count": 18,
   "metadata": {},
   "outputs": [
    {
     "name": "stdout",
     "output_type": "stream",
     "text": [
      "pyth\n",
      "pne\n"
     ]
    }
   ],
   "source": [
    "print(str2[:4])\n",
    "print(str2[::5])"
   ]
  },
  {
   "cell_type": "markdown",
   "metadata": {},
   "source": [
    "- string operations"
   ]
  },
  {
   "cell_type": "code",
   "execution_count": 19,
   "metadata": {},
   "outputs": [
    {
     "name": "stdout",
     "output_type": "stream",
     "text": [
      "onetwo\n",
      "oneonetwotwotwo\n"
     ]
    }
   ],
   "source": [
    "st='one'\n",
    "sty='two'\n",
    "print(st+sty)\n",
    "print(st*2+sty*3)"
   ]
  },
  {
   "cell_type": "markdown",
   "metadata": {},
   "source": [
    "- string formatting"
   ]
  },
  {
   "cell_type": "code",
   "execution_count": 20,
   "metadata": {},
   "outputs": [
    {
     "name": "stdout",
     "output_type": "stream",
     "text": [
      "my first number is 10 and 2nd is 12.400000\n",
      "my first num is 12.4 and second is 10\n",
      "first number is 10 and second number is 12.4\n"
     ]
    }
   ],
   "source": [
    "num =10\n",
    "num1= 12.4\n",
    "#first method\n",
    "print('my first number is %d and 2nd is %f'%(num,num1)) # %d for integer and %f for float \n",
    "\n",
    "#second method\n",
    "print('my first num is {1} and second is {0}'.format(num,num1))\n",
    "#third method\n",
    "print(\"first number is {n1} and second number is {n2}\".format(n1=num,n2=num1))"
   ]
  },
  {
   "cell_type": "markdown",
   "metadata": {},
   "source": [
    "- user input"
   ]
  },
  {
   "cell_type": "code",
   "execution_count": 21,
   "metadata": {},
   "outputs": [
    {
     "name": "stdout",
     "output_type": "stream",
     "text": [
      "1\n",
      "1\n",
      "<class 'str'>\n"
     ]
    }
   ],
   "source": [
    "user =input() #user input is tring by default\n",
    "print(user)\n",
    "print(type(user))"
   ]
  },
  {
   "cell_type": "code",
   "execution_count": 22,
   "metadata": {},
   "outputs": [
    {
     "name": "stdout",
     "output_type": "stream",
     "text": [
      "enter the input: 5\n",
      "<class 'int'>\n"
     ]
    }
   ],
   "source": [
    "yo=int(input('enter the input: ')) #this input will be of type int\n",
    "print(type(yo))"
   ]
  },
  {
   "cell_type": "code",
   "execution_count": 24,
   "metadata": {},
   "outputs": [
    {
     "name": "stdout",
     "output_type": "stream",
     "text": [
      "5\n",
      "5\n",
      "<class 'int'>\n"
     ]
    }
   ],
   "source": [
    "he=input()\n",
    "he=int(he)\n",
    "print(he)\n",
    "print(type(he))"
   ]
  },
  {
   "cell_type": "markdown",
   "metadata": {},
   "source": [
    "- conditionals"
   ]
  },
  {
   "cell_type": "code",
   "execution_count": 28,
   "metadata": {},
   "outputs": [
    {
     "name": "stdout",
     "output_type": "stream",
     "text": [
      "100\n",
      "not sense\n"
     ]
    }
   ],
   "source": [
    "val=int(input())\n",
    "if val==20:\n",
    "    print('good')\n",
    "    print('boy')\n",
    "elif val<20 and val>15: #in python 'and' is a condition \n",
    "    print('nonsense')\n",
    "#elif val>20 & val<25: #it is not a condition it is an arithmetic operator (&,|)\n",
    "#    print('no sense')\n",
    "elif val>25 or val<30:\n",
    "    print('not sense')\n",
    "#elif val>30 | val<35:\n",
    "#    print('noty sense')\n",
    "else:\n",
    "    print('bad')"
   ]
  },
  {
   "cell_type": "code",
   "execution_count": 33,
   "metadata": {},
   "outputs": [
    {
     "name": "stdout",
     "output_type": "stream",
     "text": [
      "False\n"
     ]
    }
   ],
   "source": [
    "fruit='mango'\n",
    "nomango= True if fruit!='mango' else False #single line if statement\n",
    "print(nomango)"
   ]
  },
  {
   "cell_type": "code",
   "execution_count": 32,
   "metadata": {},
   "outputs": [
    {
     "name": "stdout",
     "output_type": "stream",
     "text": [
      "2\n",
      "5\n",
      "a<b\n"
     ]
    }
   ],
   "source": [
    "a,b=int(input()),int(input()) #multiple input\n",
    "print('a>b') if a>b else print('a<b')"
   ]
  },
  {
   "cell_type": "code",
   "execution_count": 36,
   "metadata": {},
   "outputs": [
    {
     "name": "stdout",
     "output_type": "stream",
     "text": [
      "1\n",
      "2\n",
      "a<b\n"
     ]
    }
   ],
   "source": [
    "a,b=int(input()),int(input())\n",
    "print('a=b') if a==b else print('a>b') if a>b else print('a<b') #in single line if statement elif not allowed"
   ]
  }
 ],
 "metadata": {
  "kernelspec": {
   "display_name": "Python 3",
   "language": "python",
   "name": "python3"
  },
  "language_info": {
   "codemirror_mode": {
    "name": "ipython",
    "version": 3
   },
   "file_extension": ".py",
   "mimetype": "text/x-python",
   "name": "python",
   "nbconvert_exporter": "python",
   "pygments_lexer": "ipython3",
   "version": "3.7.6"
  }
 },
 "nbformat": 4,
 "nbformat_minor": 2
}
