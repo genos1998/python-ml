{
 "cells": [
  {
   "cell_type": "markdown",
   "metadata": {},
   "source": [
    "## Binary,Decimal,Octal,Hex"
   ]
  },
  {
   "cell_type": "code",
   "execution_count": null,
   "metadata": {},
   "outputs": [],
   "source": [
    "def binn(a):\n",
    "    str1=''\n",
    "    while a!=1:\n",
    "        if a%2==0:\n",
    "            a=a/2\n",
    "            str1=str1+'0'\n",
    "        elif a%2==1:\n",
    "            a=int(a/2)\n",
    "            str1=str1+'1'\n",
    "    str2='1'+str1\n",
    "    return str2\n",
    "def octt(b):\n",
    "    str3=''\n",
    "    while len(b)!=1:\n",
    "        b=int(b)\n",
    "        if b%8!=0:\n",
    "            str3=str(b%8)+str3\n",
    "        elif b%8==0:\n",
    "            str3+='0'\n",
    "        b=int(b/8)\n",
    "        b=str(b)\n",
    "    b=int(b)\n",
    "    str3=str(b%8)+str3\n",
    "    return str3\n",
    "def hexx(b):\n",
    "    str3=''\n",
    "    while len(b)!=1:\n",
    "        b=int(b)\n",
    "        if b%16!=0:\n",
    "            if b%16>9:\n",
    "                if b%16==10:\n",
    "                    d='A'\n",
    "                elif b%16==11:\n",
    "                    d='B'\n",
    "                elif b%16==12:\n",
    "                    d='C'\n",
    "                elif b%16==13:\n",
    "                    d='D'\n",
    "                elif b%16==14:\n",
    "                    d='E'\n",
    "                elif b%16==15:\n",
    "                    d='F'\n",
    "                str3=d+str3\n",
    "            else:\n",
    "                str3=str(b%8)+str3\n",
    "        elif b%16==0:\n",
    "            str3+='0'\n",
    "        b=int(b/16)\n",
    "        b=str(b)\n",
    "    b=int(b)\n",
    "    str3=str(b%16)+str3\n",
    "    return str3          \n",
    "a=int(input('enter number: '))\n",
    "bin1=binn(a)\n",
    "print(bin1)\n",
    "o=str(a)\n",
    "oct1=octt(o)S\n",
    "print(oct1)\n",
    "hex1=hexx(o)\n",
    "print(hex1)"
   ]
  },
  {
   "cell_type": "markdown",
   "metadata": {},
   "source": [
    "## Prime Number"
   ]
  },
  {
   "cell_type": "code",
   "execution_count": 5,
   "metadata": {},
   "outputs": [
    {
     "name": "stdout",
     "output_type": "stream",
     "text": [
      "[2, 3, 5, 7, 11, 13, 17, 19, 23, 29, 31, 37, 41, 43, 47, 53, 59, 61, 67, 71, 73, 79, 83, 89, 97]\n"
     ]
    }
   ],
   "source": [
    "list1=[x for x in range(2, 100) if all(x%y!=0 for y in range(2,x))]\n",
    "print(list1)"
   ]
  },
  {
   "cell_type": "markdown",
   "metadata": {},
   "source": [
    "## Factorial"
   ]
  },
  {
   "cell_type": "code",
   "execution_count": 10,
   "metadata": {},
   "outputs": [
    {
     "name": "stdout",
     "output_type": "stream",
     "text": [
      "5\n",
      "120\n"
     ]
    }
   ],
   "source": [
    "def factorial(x):\n",
    "    if x>0:\n",
    "        return x*factorial(x-1)\n",
    "    else:\n",
    "        return 1\n",
    "c=int(input())\n",
    "print(factorial(c))"
   ]
  },
  {
   "cell_type": "markdown",
   "metadata": {},
   "source": [
    "## Number of Occurrences"
   ]
  },
  {
   "cell_type": "code",
   "execution_count": 30,
   "metadata": {},
   "outputs": [
    {
     "name": "stdout",
     "output_type": "stream",
     "text": [
      "I like apple and I love apples. \n",
      "\n",
      "I ate the apple. \n",
      "\n",
      "I want an apple. \n",
      "\n",
      "Is the apple red? \n",
      "\n",
      "They like apples. \n",
      "\n",
      "He wants an apple. \n",
      "\n",
      "That apple is big. \n",
      "\n",
      "This apple is bad. \n",
      "\n",
      "Do you like apples? \n",
      "\n",
      "I also like apples. \n",
      "\n",
      "I dropped my apple. \n",
      "\n",
      "I like apples best. \n",
      "\n",
      "I love apple cider.\n",
      "\n",
      "The apples are red. \n",
      "\n",
      "We ate some apples. \n",
      "\n",
      "I don't like apples. \n",
      "\n",
      "The apples are ripe. \n",
      "\n",
      "This apple is sweet. \n",
      "\n",
      "We're eating apples. \n",
      "\n",
      "Who stole the apple? \n",
      "\n",
      "Apples grow on trees. \n",
      "\n",
      "He's eating an apple. \n",
      "\n",
      "I am eating an apple. \n",
      "\n",
      "I like to eat apples. \n",
      "\n",
      "May I eat this apple? \n",
      "\n",
      "These apples are big. \n",
      "\n",
      "Those apples are big. \n",
      "\n",
      "Tom peeled the apple. \n",
      "\n",
      "Tom sliced the apple. \n",
      "\n",
      "Where are the apples? \n",
      "\n",
      "Who stole the apples? \n",
      "\n",
      "Don't you like apples? \n",
      "\n",
      "I can't eat the apple. \n",
      "\n",
      "It's a very big apple. \n",
      "\n",
      "She's eating an apple. \n",
      "\n",
      "That apple is bruised. \n",
      "\n",
      "They're eating apples. \n",
      "\n",
      "Tom made an apple-pie. \n",
      "\n",
      "Tom threw me an apple. \n",
      "\n",
      "Do you have any apples? \n",
      "\n",
      "It looks like an apple. \n",
      "\n",
      "Kate made an apple pie. \n",
      "\n",
      "This apple is very red. \n",
      "\n",
      "This apple tastes sour. \n",
      "\n",
      "Tom baked an apple pie. \n",
      "\n",
      "Tom gave Mary an apple. \n",
      "\n",
      "I bought all the apples. \n",
      "\n",
      "I don't eat apple cores. \n",
      "\n",
      "I want to eat apple pie.\n",
      "30\n"
     ]
    }
   ],
   "source": [
    "fo=open('lotsOfWords.txt','r')\n",
    "i=0\n",
    "k=0\n",
    "p=fo.readlines()\n",
    "for i in range(0,len(p)):\n",
    "    x=p[i]\n",
    "    print(x)\n",
    "    for j in range(0,len(x)):\n",
    "        if (x[j]=='a' or x[j]=='A') and len(x)>4:\n",
    "            j+=1 \n",
    "            if x[j]=='p':\n",
    "                j+=1\n",
    "                if x[j]=='p':\n",
    "                    j+=1\n",
    "                    if x[j]=='l':\n",
    "                        j+=1\n",
    "                        if x[j]=='e':\n",
    "                            j+=1\n",
    "                            if x[j]==' ' or x[j]=='-' or x[j]=='.' or x[j]=='?':\n",
    "                                j+=1\n",
    "                                k+=1\n",
    "print(k)"
   ]
  },
  {
   "cell_type": "code",
   "execution_count": null,
   "metadata": {},
   "outputs": [],
   "source": []
  }
 ],
 "metadata": {
  "kernelspec": {
   "display_name": "Python 3",
   "language": "python",
   "name": "python3"
  },
  "language_info": {
   "codemirror_mode": {
    "name": "ipython",
    "version": 3
   },
   "file_extension": ".py",
   "mimetype": "text/x-python",
   "name": "python",
   "nbconvert_exporter": "python",
   "pygments_lexer": "ipython3",
   "version": "3.7.6"
  }
 },
 "nbformat": 4,
 "nbformat_minor": 2
}
